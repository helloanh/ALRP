{
  "nbformat": 4,
  "nbformat_minor": 0,
  "metadata": {
    "kernelspec": {
      "display_name": "Python 3",
      "language": "python",
      "name": "python3"
    },
    "language_info": {
      "codemirror_mode": {
        "name": "ipython",
        "version": 3
      },
      "file_extension": ".py",
      "mimetype": "text/x-python",
      "name": "python",
      "nbconvert_exporter": "python",
      "pygments_lexer": "ipython3",
      "version": "3.8.2"
    },
    "toc": {
      "base_numbering": 1,
      "nav_menu": {},
      "number_sections": true,
      "sideBar": true,
      "skip_h1_title": false,
      "title_cell": "Table of Contents",
      "title_sidebar": "Contents",
      "toc_cell": false,
      "toc_position": {},
      "toc_section_display": true,
      "toc_window_display": false
    },
    "colab": {
      "name": "Data_Preprocessing_with_Pandas.ipynb",
      "provenance": [],
      "include_colab_link": true
    }
  },
  "cells": [
    {
      "cell_type": "markdown",
      "metadata": {
        "id": "view-in-github",
        "colab_type": "text"
      },
      "source": [
        "<a href=\"https://colab.research.google.com/github/helloanh/ALRP/blob/master/discussion-2.ipynb\" target=\"_parent\"><img src=\"https://colab.research.google.com/assets/colab-badge.svg\" alt=\"Open In Colab\"/></a>"
      ]
    },
    {
      "cell_type": "markdown",
      "metadata": {
        "_uuid": "fdb0a9b3640bb8e12c6ce9ab2b9b64f9b0fbff65",
        "id": "zSigAELjm27A"
      },
      "source": [
        "# **Data_Preprocessing_with_Pandas** \n",
        "\n",
        "1. [Overview](#1)\n",
        "2. [Pandas Library About](#2)\n",
        "3. [Import Library](#3)\n",
        "4. [Pandas Data Structure](#4)\n",
        "    * [Series](#5)\n",
        "    * [DataFrame](#6)\n",
        "5. [Import Data](#7)\n",
        "    * [CSV](#8)\n",
        "    * [Excel](#9)\n",
        "    * [Others(json, SQL, html)](#10)\n",
        "6. [Exporting Data](#11)\n",
        "7. [Create Test Objects](#12)\n",
        "8. [Summariza Data](#13)\n",
        "    * [df.info()](#14)\n",
        "    * [df.shape()](#15)\n",
        "    * [df.index](#16)\n",
        "    * [df.columns](#17)\n",
        "    * [df.count()](#18)\n",
        "    * [df.sum()](#19)\n",
        "    * [df.cumsum()](#20)\n",
        "    * [df.min()](#21)\n",
        "    * [df.max()](#22)\n",
        "    * [idxmin()](#23)\n",
        "    * [idxmax()](#24)\n",
        "    * [df.describe()](#25)\n",
        "    * [df.mean()](#26)\n",
        "    * [df.median()](#27)\n",
        "    * [df.quantile([0.25,0.75])](#28)\n",
        "    * [df.var()](#29)\n",
        "    * [df.std()](#30)\n",
        "    * [df.cummax()](#31)\n",
        "    * [df.cummin()](#32)\n",
        "    * [df['columnName'].cumproad()](#33)\n",
        "    * [len(df)](#34)\n",
        "    * [df.isnull()](#35)\n",
        "    * [df.corr()](#81)\n",
        "9. [Pandas with Selection & Filtering](#36)\n",
        "    * [series['index']](#37)\n",
        "    * [df[n:n]](#38)\n",
        "    * [df.iloc[[0],[5]]](#39)\n",
        "    * [df.loc[n:n]](#40)\n",
        "    * [df['columnName']](#41)\n",
        "    * [df['columnName][n]](#42)\n",
        "    * [df['columnName'].nunique()](#43)\n",
        "    * [df['columnName'].unique()](#44)\n",
        "    * [df.columnName](#45)\n",
        "    * [df['columnName'].value_counts(dropna =False)](#46)\n",
        "    * [df.head(n)](#47)\n",
        "    * [df.tail(n)](#48)\n",
        "    * [df.sample(n)](#49)\n",
        "    * [df.sample(frac=0.5)](#50)\n",
        "    * [df.nlargest(n,'columnName')](#51)\n",
        "    * [df.nsmallest(n,'columnName')](#52)\n",
        "    * [df[df.columnName < n]](#53)\n",
        "    * [df[['columnName','columnName']] ](#54)\n",
        "    * [df.loc[:,\"columnName1\":\"columnName2\"]](#55)\n",
        "    * [Create Filter](#56)\n",
        "    * [df.filter(regex = 'code')](#57)\n",
        "    * [np.logical_and](#58)\n",
        "    * [Filtering with &](#59)\n",
        "10. [Sort Data](#60)\n",
        "    * [df.sort_values('columnName')](#61)\n",
        "    * [df.sort_values('columnName', ascending=False)](#62)\n",
        "    * [df.sort_index()](#63)\n",
        "11. [Rename & Defining New & Change Columns](#64)\n",
        "    * [df.rename(columns= {'columnName' : 'newColumnName'})](#65)\n",
        "    * [Defining New Column](#66)\n",
        "    * [Change Index Name](#67)\n",
        "    * [Make all columns lowercase](#68)\n",
        "    * [Make all columns uppercase](#69)\n",
        "12. [Drop Data](#70)\n",
        "    * [df.drop(columns=['columnName'])](#71)\n",
        "    * [Series.drop(['index'])](#72)\n",
        "    * [Drop an observation (row)](#82)\n",
        "    * [Drop a variable (column)](#83)\n",
        "13. [Convert Data Types](#73)\n",
        "    * [df.dtypes](#74)\n",
        "    * [df['columnName'] = df['columnName'].astype('dataType')](#75)\n",
        "    * [pd.melt(frame=dataFrameName,id_vars = 'columnName', value_vars= ['columnName'])](#76)\n",
        "14. [Apply Function](#77)\n",
        "    * [Method 1](#78)\n",
        "    * [Method 2](#79)\n",
        "15. [Utilities Code](#80)"
      ]
    },
    {
      "cell_type": "code",
      "metadata": {
        "colab": {
          "base_uri": "https://localhost:8080/"
        },
        "id": "84jO6PuZnAfv",
        "outputId": "6ce012f4-be45-4a79-8d1c-60e3d8a78f26"
      },
      "source": [
        "from google.colab import drive\n",
        "drive.mount('/content/drive')"
      ],
      "execution_count": 39,
      "outputs": [
        {
          "output_type": "stream",
          "text": [
            "Drive already mounted at /content/drive; to attempt to forcibly remount, call drive.mount(\"/content/drive\", force_remount=True).\n"
          ],
          "name": "stdout"
        }
      ]
    },
    {
      "cell_type": "markdown",
      "metadata": {
        "_uuid": "8851575f447385ce4440ddb0247c64bca54fd46e",
        "id": "zmIvj7wEm27F"
      },
      "source": [
        "# **Pandas** "
      ]
    },
    {
      "cell_type": "code",
      "metadata": {
        "_cell_guid": "b1076dfc-b9ad-4769-8c92-a6c4dae69d19",
        "_uuid": "8f2839f25d086af736a60e9eeb907d3b93b6e0e5",
        "id": "X3r5M3j9m27G"
      },
      "source": [
        "import numpy as np # linear algebra\n",
        "import pandas as pd # import in pandas\n",
        "import os"
      ],
      "execution_count": 114,
      "outputs": []
    },
    {
      "cell_type": "markdown",
      "metadata": {
        "_uuid": "a426ae53d18d45d00983d551db00a7467187d619",
        "id": "oSbsnAFcm27H"
      },
      "source": [
        "# **Pandas Data Structure** <a id=\"4\"></a>\n",
        "<mark>[Return Contents](#0)\n",
        "<hr>\n",
        "\n",
        "Pandas has two types of data structures. These are series and dataframe.\n",
        "\n",
        "### **Series** <a id=\"5\"></a>\n",
        "\n",
        "The series is a one-dimensional labeled array. It can accommodate any type of data in it."
      ]
    },
    {
      "cell_type": "code",
      "metadata": {
        "_uuid": "1263fb3f8afa0fc2b233693bb8b14305be64a868",
        "colab": {
          "base_uri": "https://localhost:8080/"
        },
        "id": "O7ByVLHBm27H",
        "outputId": "96f37a26-507d-46f7-d2d6-22552f2f39ce"
      },
      "source": [
        "mySeries = pd.Series([3,-5,7,4], index=['a','b','c','d'])\n",
        "type(mySeries)"
      ],
      "execution_count": 41,
      "outputs": [
        {
          "output_type": "execute_result",
          "data": {
            "text/plain": [
              "pandas.core.series.Series"
            ]
          },
          "metadata": {
            "tags": []
          },
          "execution_count": 41
        }
      ]
    },
    {
      "cell_type": "markdown",
      "metadata": {
        "_uuid": "2b73b3f939dde85b87b827c6ce48887598c5f206",
        "id": "bjsc65tdm27I"
      },
      "source": [
        "### **DataFrame** <a id=\"6\"></a>\n",
        "\n",
        "The dataframe is a two-dimensional data structure. It contains columns."
      ]
    },
    {
      "cell_type": "code",
      "metadata": {
        "_uuid": "5fe39122825e7b4ad3b51dd48fc265326343f289",
        "colab": {
          "base_uri": "https://localhost:8080/"
        },
        "id": "UwsREC2Wm27J",
        "outputId": "09a59f9a-a409-4c05-f89e-a5ccec327ccb"
      },
      "source": [
        "data = {'Country' : ['Belgium', 'India', 'Brazil' ],\n",
        "        'Capital': ['Brussels', 'New Delhi', 'Brassilia'],\n",
        "        'Population': [1234,1234,1234]}\n",
        "datas = pd.DataFrame(data, columns=['Country','Capital','Population'])\n",
        "print(type(data))\n",
        "print(type(datas))"
      ],
      "execution_count": 115,
      "outputs": [
        {
          "output_type": "stream",
          "text": [
            "<class 'dict'>\n",
            "<class 'pandas.core.frame.DataFrame'>\n"
          ],
          "name": "stdout"
        }
      ]
    },
    {
      "cell_type": "markdown",
      "metadata": {
        "_uuid": "1316f32ba568af226f868caf2b0e693130a5bb5f",
        "id": "7nCg05Gfm27K"
      },
      "source": [
        "# **Import Library** <a id=\"7\"></a>\n",
        "<mark>[Return Contents](#0)\n",
        "<hr>\n",
        "\n",
        "With pandas, we can open CSV, Excel and SQL databases. I will show you how to use this method for CSV and Excel files only.\n",
        "\n",
        "### **CSV(comma - separated values)** <a id=\"8\"></a>\n",
        "\n",
        "It is very easy to open and read CSV files and to overwrite the CSV file."
      ]
    },
    {
      "cell_type": "code",
      "metadata": {
        "_uuid": "504c6eeb8668b0a46380e5e24f314269284e119d",
        "colab": {
          "base_uri": "https://localhost:8080/"
        },
        "id": "CGZ9yG5qm27K",
        "outputId": "eaa8e9d6-0e64-4356-b08e-e552d212b4f1"
      },
      "source": [
        "df = pd.read_csv('/DJIA_table.csv')\n",
        "type(df)\n",
        "# If your Python file is not in the same folder as your CSV file, you should do this as follows.\n",
        "# df = pd.read_csv('/home/desktop/Iris.csv')"
      ],
      "execution_count": 116,
      "outputs": [
        {
          "output_type": "execute_result",
          "data": {
            "text/plain": [
              "pandas.core.frame.DataFrame"
            ]
          },
          "metadata": {
            "tags": []
          },
          "execution_count": 116
        }
      ]
    },
    {
      "cell_type": "markdown",
      "metadata": {
        "_uuid": "644c4eceafba990426b635cd66cb49a4be34de0a",
        "id": "caPvO_EUm27L"
      },
      "source": [
        "### **Excel** <a id=\"9\"></a>\n",
        "\n",
        "When we want to work with Excel files, we need to type the following code."
      ]
    },
    {
      "cell_type": "code",
      "metadata": {
        "_uuid": "468b5105d9feffb1d54cb7752cc57a07687e61dc",
        "id": "W9E9wryHm27L"
      },
      "source": [
        "# pd.read_excel('filename')\n",
        "# pd.to_excel('dir/dataFrame.xlsx', sheet_name='Sheet1')"
      ],
      "execution_count": 117,
      "outputs": []
    },
    {
      "cell_type": "markdown",
      "metadata": {
        "_uuid": "91d6e54d29a522606c7c843ff0efc9fb0ddbf2ca",
        "id": "UuQa3CWTm27M"
      },
      "source": [
        "### **Others(json, SQL, table, html)** <a id=\"10\"></a>"
      ]
    },
    {
      "cell_type": "code",
      "metadata": {
        "_uuid": "5fb0849e539bc6afdfa70fcbcba38b869e74f195",
        "id": "Mql3N6eHm27M"
      },
      "source": [
        "# pd.read_sql(query,connection_object) -> Reads from a SQL table/database\n",
        "# pd.read_table(filename) -> From a delimited text file(like TSV)\n",
        "# pd.read_json(json_string) -> Reads from a json formatted string, URL or file\n",
        "# pd.read_html(url) -> Parses an html URL, string or file and extracts tables to a list of dataframes\n",
        "# pd.read_clipboard() -> Takes the contentes of your clipboard and passes it to read_table()\n",
        "# pd.DataFrame(dict) -> From a dict, keys for columns names, values for data as lists"
      ],
      "execution_count": 118,
      "outputs": []
    },
    {
      "cell_type": "code",
      "metadata": {
        "colab": {
          "base_uri": "https://localhost:8080/"
        },
        "id": "nuDtEgGttr7G",
        "outputId": "fb594537-3403-431f-d944-6ff5666184cf"
      },
      "source": [
        "# STUDENT INPUT \n",
        "import requests\n",
        "# Getting data from an API source\n",
        "chuck_norris_resp = requests.get('https://api.chucknorris.io/jokes/random')\n",
        "print(chuck_norris_resp.text)"
      ],
      "execution_count": 119,
      "outputs": [
        {
          "output_type": "stream",
          "text": [
            "{\"categories\":[],\"created_at\":\"2020-01-05 13:42:30.480041\",\"icon_url\":\"https://assets.chucknorris.host/img/avatar/chuck-norris.png\",\"id\":\"zuTfmhrcQgqi0nAip08vsw\",\"updated_at\":\"2020-01-05 13:42:30.480041\",\"url\":\"https://api.chucknorris.io/jokes/zuTfmhrcQgqi0nAip08vsw\",\"value\":\"Chuck Norris is so fast that he can use the earths rotation as a tredmill.\"}\n"
          ],
          "name": "stdout"
        }
      ]
    },
    {
      "cell_type": "code",
      "metadata": {
        "colab": {
          "base_uri": "https://localhost:8080/"
        },
        "id": "5vbuhIBeuecL",
        "outputId": "b8a5ba20-a3b1-48be-a0f8-4847456f4b60"
      },
      "source": [
        "df = pd.read_csv('/DJIA_table.csv')\n",
        "df.to_json"
      ],
      "execution_count": 120,
      "outputs": [
        {
          "output_type": "execute_result",
          "data": {
            "text/plain": [
              "<bound method NDFrame.to_json of             Date          Open  ...     Volume     Adj Close\n",
              "0     2016-07-01  17924.240234  ...   82160000  17949.369141\n",
              "1     2016-06-30  17712.759766  ...  133030000  17929.990234\n",
              "2     2016-06-29  17456.019531  ...  106380000  17694.679688\n",
              "3     2016-06-28  17190.509766  ...  112190000  17409.720703\n",
              "4     2016-06-27  17355.210938  ...  138740000  17140.240234\n",
              "...          ...           ...  ...        ...           ...\n",
              "1984  2008-08-14  11532.070312  ...  159790000  11615.929688\n",
              "1985  2008-08-13  11632.809570  ...  182550000  11532.959961\n",
              "1986  2008-08-12  11781.700195  ...  173590000  11642.469727\n",
              "1987  2008-08-11  11729.669922  ...  183190000  11782.349609\n",
              "1988  2008-08-08  11432.089844  ...  212830000  11734.320312\n",
              "\n",
              "[1989 rows x 7 columns]>"
            ]
          },
          "metadata": {
            "tags": []
          },
          "execution_count": 120
        }
      ]
    },
    {
      "cell_type": "markdown",
      "metadata": {
        "_uuid": "caaf40c4674f87d855900e5223f51e2a4dd07cfc",
        "id": "fWi-9CFcm27N"
      },
      "source": [
        "# **Exporting Data** <a id=\"11\"></a>\n",
        "<mark>[Return Contents](#0)\n",
        "<hr>"
      ]
    },
    {
      "cell_type": "code",
      "metadata": {
        "_uuid": "91ef5e0bc13b063b95ae1e4424c303bd684c02ce",
        "id": "UDkIKxIim27N"
      },
      "source": [
        "# df.to_csv(filename) -> Writes to a CSV file\n",
        "# df.to_excel(filename) -> Writes on an Excel file\n",
        "# df.to_sql(table_name, connection_object) -> Writes to a SQL table\n",
        "# df.to_json(filename) -> Writes to a file in JSON format\n",
        "# df.to_html(filename) -> Saves as an HTML table\n",
        "# df.to_clipboard() -> Writes to the clipboard"
      ],
      "execution_count": 48,
      "outputs": []
    },
    {
      "cell_type": "markdown",
      "metadata": {
        "_uuid": "3b7d9b79a7b22a994648e4fe7cd7cd5622aae105",
        "id": "wCD2fpiym27O"
      },
      "source": [
        "# **Create Test Objects** <a id=\"12\"></a>\n",
        "<mark>[Return Contents](#0)\n",
        "<hr>"
      ]
    },
    {
      "cell_type": "code",
      "metadata": {
        "_uuid": "0cf5537b0c3930da09e825bdf5a0058456c10715",
        "colab": {
          "base_uri": "https://localhost:8080/",
          "height": 0
        },
        "id": "e9ySaxxpm27O",
        "outputId": "a7c55a24-5f2f-48ff-c839-2141a98a1667"
      },
      "source": [
        "pd.DataFrame(np.random.rand(20,5)) # 5 columns and 20 rows of random floats"
      ],
      "execution_count": 121,
      "outputs": [
        {
          "output_type": "execute_result",
          "data": {
            "text/html": [
              "<div>\n",
              "<style scoped>\n",
              "    .dataframe tbody tr th:only-of-type {\n",
              "        vertical-align: middle;\n",
              "    }\n",
              "\n",
              "    .dataframe tbody tr th {\n",
              "        vertical-align: top;\n",
              "    }\n",
              "\n",
              "    .dataframe thead th {\n",
              "        text-align: right;\n",
              "    }\n",
              "</style>\n",
              "<table border=\"1\" class=\"dataframe\">\n",
              "  <thead>\n",
              "    <tr style=\"text-align: right;\">\n",
              "      <th></th>\n",
              "      <th>0</th>\n",
              "      <th>1</th>\n",
              "      <th>2</th>\n",
              "      <th>3</th>\n",
              "      <th>4</th>\n",
              "    </tr>\n",
              "  </thead>\n",
              "  <tbody>\n",
              "    <tr>\n",
              "      <th>0</th>\n",
              "      <td>0.967287</td>\n",
              "      <td>0.836524</td>\n",
              "      <td>0.836196</td>\n",
              "      <td>0.188474</td>\n",
              "      <td>0.669977</td>\n",
              "    </tr>\n",
              "    <tr>\n",
              "      <th>1</th>\n",
              "      <td>0.183841</td>\n",
              "      <td>0.883326</td>\n",
              "      <td>0.174025</td>\n",
              "      <td>0.084209</td>\n",
              "      <td>0.496294</td>\n",
              "    </tr>\n",
              "    <tr>\n",
              "      <th>2</th>\n",
              "      <td>0.157053</td>\n",
              "      <td>0.857931</td>\n",
              "      <td>0.194690</td>\n",
              "      <td>0.947234</td>\n",
              "      <td>0.993437</td>\n",
              "    </tr>\n",
              "    <tr>\n",
              "      <th>3</th>\n",
              "      <td>0.473882</td>\n",
              "      <td>0.220222</td>\n",
              "      <td>0.417684</td>\n",
              "      <td>0.686610</td>\n",
              "      <td>0.739087</td>\n",
              "    </tr>\n",
              "    <tr>\n",
              "      <th>4</th>\n",
              "      <td>0.050633</td>\n",
              "      <td>0.445010</td>\n",
              "      <td>0.364737</td>\n",
              "      <td>0.875174</td>\n",
              "      <td>0.154870</td>\n",
              "    </tr>\n",
              "    <tr>\n",
              "      <th>5</th>\n",
              "      <td>0.536441</td>\n",
              "      <td>0.851679</td>\n",
              "      <td>0.593730</td>\n",
              "      <td>0.150006</td>\n",
              "      <td>0.690165</td>\n",
              "    </tr>\n",
              "    <tr>\n",
              "      <th>6</th>\n",
              "      <td>0.595133</td>\n",
              "      <td>0.963091</td>\n",
              "      <td>0.513382</td>\n",
              "      <td>0.006238</td>\n",
              "      <td>0.742545</td>\n",
              "    </tr>\n",
              "    <tr>\n",
              "      <th>7</th>\n",
              "      <td>0.640263</td>\n",
              "      <td>0.251146</td>\n",
              "      <td>0.595106</td>\n",
              "      <td>0.758303</td>\n",
              "      <td>0.794414</td>\n",
              "    </tr>\n",
              "    <tr>\n",
              "      <th>8</th>\n",
              "      <td>0.727128</td>\n",
              "      <td>0.605649</td>\n",
              "      <td>0.950260</td>\n",
              "      <td>0.086585</td>\n",
              "      <td>0.266919</td>\n",
              "    </tr>\n",
              "    <tr>\n",
              "      <th>9</th>\n",
              "      <td>0.137401</td>\n",
              "      <td>0.766905</td>\n",
              "      <td>0.365736</td>\n",
              "      <td>0.396419</td>\n",
              "      <td>0.694292</td>\n",
              "    </tr>\n",
              "    <tr>\n",
              "      <th>10</th>\n",
              "      <td>0.720568</td>\n",
              "      <td>0.994942</td>\n",
              "      <td>0.169556</td>\n",
              "      <td>0.547204</td>\n",
              "      <td>0.436786</td>\n",
              "    </tr>\n",
              "    <tr>\n",
              "      <th>11</th>\n",
              "      <td>0.242961</td>\n",
              "      <td>0.144488</td>\n",
              "      <td>0.191626</td>\n",
              "      <td>0.308163</td>\n",
              "      <td>0.751609</td>\n",
              "    </tr>\n",
              "    <tr>\n",
              "      <th>12</th>\n",
              "      <td>0.712390</td>\n",
              "      <td>0.970741</td>\n",
              "      <td>0.152568</td>\n",
              "      <td>0.170083</td>\n",
              "      <td>0.829282</td>\n",
              "    </tr>\n",
              "    <tr>\n",
              "      <th>13</th>\n",
              "      <td>0.838790</td>\n",
              "      <td>0.972303</td>\n",
              "      <td>0.368822</td>\n",
              "      <td>0.241293</td>\n",
              "      <td>0.305351</td>\n",
              "    </tr>\n",
              "    <tr>\n",
              "      <th>14</th>\n",
              "      <td>0.832060</td>\n",
              "      <td>0.263711</td>\n",
              "      <td>0.669436</td>\n",
              "      <td>0.212461</td>\n",
              "      <td>0.557942</td>\n",
              "    </tr>\n",
              "    <tr>\n",
              "      <th>15</th>\n",
              "      <td>0.162711</td>\n",
              "      <td>0.491362</td>\n",
              "      <td>0.172370</td>\n",
              "      <td>0.478358</td>\n",
              "      <td>0.057308</td>\n",
              "    </tr>\n",
              "    <tr>\n",
              "      <th>16</th>\n",
              "      <td>0.840027</td>\n",
              "      <td>0.283024</td>\n",
              "      <td>0.443837</td>\n",
              "      <td>0.905089</td>\n",
              "      <td>0.541397</td>\n",
              "    </tr>\n",
              "    <tr>\n",
              "      <th>17</th>\n",
              "      <td>0.961125</td>\n",
              "      <td>0.857701</td>\n",
              "      <td>0.222495</td>\n",
              "      <td>0.480121</td>\n",
              "      <td>0.979389</td>\n",
              "    </tr>\n",
              "    <tr>\n",
              "      <th>18</th>\n",
              "      <td>0.529262</td>\n",
              "      <td>0.046608</td>\n",
              "      <td>0.370008</td>\n",
              "      <td>0.135150</td>\n",
              "      <td>0.179779</td>\n",
              "    </tr>\n",
              "    <tr>\n",
              "      <th>19</th>\n",
              "      <td>0.416531</td>\n",
              "      <td>0.491655</td>\n",
              "      <td>0.761374</td>\n",
              "      <td>0.817328</td>\n",
              "      <td>0.072966</td>\n",
              "    </tr>\n",
              "  </tbody>\n",
              "</table>\n",
              "</div>"
            ],
            "text/plain": [
              "           0         1         2         3         4\n",
              "0   0.967287  0.836524  0.836196  0.188474  0.669977\n",
              "1   0.183841  0.883326  0.174025  0.084209  0.496294\n",
              "2   0.157053  0.857931  0.194690  0.947234  0.993437\n",
              "3   0.473882  0.220222  0.417684  0.686610  0.739087\n",
              "4   0.050633  0.445010  0.364737  0.875174  0.154870\n",
              "5   0.536441  0.851679  0.593730  0.150006  0.690165\n",
              "6   0.595133  0.963091  0.513382  0.006238  0.742545\n",
              "7   0.640263  0.251146  0.595106  0.758303  0.794414\n",
              "8   0.727128  0.605649  0.950260  0.086585  0.266919\n",
              "9   0.137401  0.766905  0.365736  0.396419  0.694292\n",
              "10  0.720568  0.994942  0.169556  0.547204  0.436786\n",
              "11  0.242961  0.144488  0.191626  0.308163  0.751609\n",
              "12  0.712390  0.970741  0.152568  0.170083  0.829282\n",
              "13  0.838790  0.972303  0.368822  0.241293  0.305351\n",
              "14  0.832060  0.263711  0.669436  0.212461  0.557942\n",
              "15  0.162711  0.491362  0.172370  0.478358  0.057308\n",
              "16  0.840027  0.283024  0.443837  0.905089  0.541397\n",
              "17  0.961125  0.857701  0.222495  0.480121  0.979389\n",
              "18  0.529262  0.046608  0.370008  0.135150  0.179779\n",
              "19  0.416531  0.491655  0.761374  0.817328  0.072966"
            ]
          },
          "metadata": {
            "tags": []
          },
          "execution_count": 121
        }
      ]
    },
    {
      "cell_type": "markdown",
      "metadata": {
        "_uuid": "4b6898acc1f32bab20b37fe7b0dee8f47a321301",
        "id": "CYJvJFDym27O"
      },
      "source": [
        "# **Summarize Data** <a id=\"13\"></a>\n",
        "<mark>[Return Contents](#0)\n",
        "<hr>\n",
        "\n",
        "It's easy to get information about data with pandas. It makes it easier for us. Let's examine the existing functions one by one"
      ]
    },
    {
      "cell_type": "markdown",
      "metadata": {
        "_uuid": "bd615451f4c5670bd4e8fa3f727d1c0f1d82dbed",
        "id": "IXF7tVCUm27P"
      },
      "source": [
        "### **df.info()** <a id=\"14\"></a>\n",
        "This Code provides detailed information about our data.\n",
        "\n",
        "* **RangeIndex:** Specifies how many data there is.\n",
        "* **Data Columns:** Specifies how many columns are found.\n",
        "* **Columns:** Gives information about Columns.\n",
        "* **dtypes:** It says what kind of data you have and how many of these data you have.\n",
        "* **Memory Usage:** It says how much memory usage is.\n",
        "\n",
        "<mark>[Return Contents](#0)\n",
        "<hr>"
      ]
    },
    {
      "cell_type": "code",
      "metadata": {
        "_uuid": "10c546875a26f15d71ae9517d1f165b3e9a70781",
        "colab": {
          "base_uri": "https://localhost:8080/"
        },
        "id": "g60IZRLVm27P",
        "outputId": "67912ba2-2610-463c-e972-590a55eca9a6"
      },
      "source": [
        "df.info()"
      ],
      "execution_count": 122,
      "outputs": [
        {
          "output_type": "stream",
          "text": [
            "<class 'pandas.core.frame.DataFrame'>\n",
            "RangeIndex: 1989 entries, 0 to 1988\n",
            "Data columns (total 7 columns):\n",
            " #   Column     Non-Null Count  Dtype  \n",
            "---  ------     --------------  -----  \n",
            " 0   Date       1989 non-null   object \n",
            " 1   Open       1989 non-null   float64\n",
            " 2   High       1989 non-null   float64\n",
            " 3   Low        1989 non-null   float64\n",
            " 4   Close      1989 non-null   float64\n",
            " 5   Volume     1989 non-null   int64  \n",
            " 6   Adj Close  1989 non-null   float64\n",
            "dtypes: float64(5), int64(1), object(1)\n",
            "memory usage: 108.9+ KB\n"
          ],
          "name": "stdout"
        }
      ]
    },
    {
      "cell_type": "markdown",
      "metadata": {
        "_uuid": "f885b5ef0f5cde44dc5fbdffac16695503b35fc6",
        "id": "sKOvUUcRm27Q"
      },
      "source": [
        "### **df.shape()** <a id=\"15\"></a>\n",
        "This code shows us the number of rows and columns.\n",
        "\n",
        "<mark>[Return Contents](#0)\n",
        "<hr>"
      ]
    },
    {
      "cell_type": "code",
      "metadata": {
        "_uuid": "6a2f6f6ef1d420c6ccdb2d52b1ab531fb1148d24",
        "colab": {
          "base_uri": "https://localhost:8080/"
        },
        "id": "tZh6Vydnm27Q",
        "outputId": "e30354ef-0136-4921-a377-d66aec9e829d"
      },
      "source": [
        "df.shape"
      ],
      "execution_count": 123,
      "outputs": [
        {
          "output_type": "execute_result",
          "data": {
            "text/plain": [
              "(1989, 7)"
            ]
          },
          "metadata": {
            "tags": []
          },
          "execution_count": 123
        }
      ]
    },
    {
      "cell_type": "markdown",
      "metadata": {
        "_uuid": "617ea072afc3ca84a35ccd9b451ea32ead59823f",
        "id": "_cf4ON4Bm27Q"
      },
      "source": [
        "### **df.index** <a id=\"16\"></a>\n",
        "This code shows the total number of index found.\n",
        "\n",
        "<mark>[Return Contents](#0)\n",
        "<hr>"
      ]
    },
    {
      "cell_type": "code",
      "metadata": {
        "_uuid": "7faf88abf28731ab59c9838c665026b6348ce32d",
        "colab": {
          "base_uri": "https://localhost:8080/"
        },
        "id": "Rx0uNEiPm27R",
        "outputId": "1eef9ab5-c72b-4c6c-8c6a-bd7c9eeae0a4"
      },
      "source": [
        "df.index"
      ],
      "execution_count": 124,
      "outputs": [
        {
          "output_type": "execute_result",
          "data": {
            "text/plain": [
              "RangeIndex(start=0, stop=1989, step=1)"
            ]
          },
          "metadata": {
            "tags": []
          },
          "execution_count": 124
        }
      ]
    },
    {
      "cell_type": "markdown",
      "metadata": {
        "_uuid": "35bc3f0f534f3882d7462fa91d51f57e8361327b",
        "id": "FtD6NmhQm27R"
      },
      "source": [
        "### **df.columns** <a id=\"17\"></a>\n",
        "This code shows all the columns contained in the data we have examined.\n",
        "\n",
        "<mark>[Return Contents](#0)\n",
        "<hr>"
      ]
    },
    {
      "cell_type": "code",
      "metadata": {
        "_uuid": "e31b26213b05a838e5376d370e14acba61790a2e",
        "colab": {
          "base_uri": "https://localhost:8080/"
        },
        "id": "zR6ymMxcm27R",
        "outputId": "11a1b041-51c0-45ed-eb1f-f3c21cebe632"
      },
      "source": [
        "df.columns"
      ],
      "execution_count": 125,
      "outputs": [
        {
          "output_type": "execute_result",
          "data": {
            "text/plain": [
              "Index(['Date', 'Open', 'High', 'Low', 'Close', 'Volume', 'Adj Close'], dtype='object')"
            ]
          },
          "metadata": {
            "tags": []
          },
          "execution_count": 125
        }
      ]
    },
    {
      "cell_type": "markdown",
      "metadata": {
        "_uuid": "9c1b1229f876a1791c34337b13b789106d0bcfef",
        "id": "Gj8P9aXYm27R"
      },
      "source": [
        "### **df.count()** <a id=\"18\"></a>\n",
        "This code shows us how many pieces of data are in each column.\n",
        "\n",
        "<mark>[Return Contents](#0)\n",
        "<hr>"
      ]
    },
    {
      "cell_type": "code",
      "metadata": {
        "_uuid": "3509654c02ace990c098b9cdef6d43a4d35c2454",
        "colab": {
          "base_uri": "https://localhost:8080/"
        },
        "id": "xx_1AkMym27S",
        "outputId": "0619661a-0d8c-4a73-f799-603168f5d697"
      },
      "source": [
        "df.count()"
      ],
      "execution_count": 126,
      "outputs": [
        {
          "output_type": "execute_result",
          "data": {
            "text/plain": [
              "Date         1989\n",
              "Open         1989\n",
              "High         1989\n",
              "Low          1989\n",
              "Close        1989\n",
              "Volume       1989\n",
              "Adj Close    1989\n",
              "dtype: int64"
            ]
          },
          "metadata": {
            "tags": []
          },
          "execution_count": 126
        }
      ]
    },
    {
      "cell_type": "markdown",
      "metadata": {
        "_uuid": "4756f4d3ee72fd0d5a02ff0c48bc27ee0438854a",
        "id": "oHOI-PuJm27S"
      },
      "source": [
        "### **df.sum()** <a id=\"19\"></a>\n",
        "This code shows us the sum of the data in each column.\n",
        "\n",
        "<mark>[Return Contents](#0)\n",
        "<hr>"
      ]
    },
    {
      "cell_type": "code",
      "metadata": {
        "_uuid": "01420020ad3f68adc9ae8000c26101d03009fbef",
        "colab": {
          "base_uri": "https://localhost:8080/"
        },
        "id": "9hU4wcQIm27S",
        "outputId": "c863f53a-2dfe-41bb-d74a-36fdea911f1f"
      },
      "source": [
        "df.sum()"
      ],
      "execution_count": 127,
      "outputs": [
        {
          "output_type": "execute_result",
          "data": {
            "text/plain": [
              "Date         2016-07-012016-06-302016-06-292016-06-282016-0...\n",
              "Open                                               2.67702e+07\n",
              "High                                               2.69337e+07\n",
              "Low                                                2.65988e+07\n",
              "Close                                               2.6778e+07\n",
              "Volume                                            323831020000\n",
              "Adj Close                                           2.6778e+07\n",
              "dtype: object"
            ]
          },
          "metadata": {
            "tags": []
          },
          "execution_count": 127
        }
      ]
    },
    {
      "cell_type": "markdown",
      "metadata": {
        "_uuid": "b2695908688bf1ab5811768b35209483f6a14ae8",
        "id": "y82Efm2Am27T"
      },
      "source": [
        "### **df.cumsum()** <a id=\"20\"></a>\n",
        "This code gives us cumulative sum of the data.\n",
        "\n",
        "<mark>[Return Contents](#0)\n",
        "<hr>"
      ]
    },
    {
      "cell_type": "code",
      "metadata": {
        "_uuid": "82827d42ae7bb44b20a5c960135430e497391895",
        "colab": {
          "base_uri": "https://localhost:8080/",
          "height": 0
        },
        "id": "6nphrKBCm27T",
        "outputId": "f762c0b3-6f3e-4867-8d09-8dc5ef8a002d"
      },
      "source": [
        "df.cumsum().head()"
      ],
      "execution_count": 128,
      "outputs": [
        {
          "output_type": "execute_result",
          "data": {
            "text/html": [
              "<div>\n",
              "<style scoped>\n",
              "    .dataframe tbody tr th:only-of-type {\n",
              "        vertical-align: middle;\n",
              "    }\n",
              "\n",
              "    .dataframe tbody tr th {\n",
              "        vertical-align: top;\n",
              "    }\n",
              "\n",
              "    .dataframe thead th {\n",
              "        text-align: right;\n",
              "    }\n",
              "</style>\n",
              "<table border=\"1\" class=\"dataframe\">\n",
              "  <thead>\n",
              "    <tr style=\"text-align: right;\">\n",
              "      <th></th>\n",
              "      <th>Date</th>\n",
              "      <th>Open</th>\n",
              "      <th>High</th>\n",
              "      <th>Low</th>\n",
              "      <th>Close</th>\n",
              "      <th>Volume</th>\n",
              "      <th>Adj Close</th>\n",
              "    </tr>\n",
              "  </thead>\n",
              "  <tbody>\n",
              "    <tr>\n",
              "      <th>0</th>\n",
              "      <td>2016-07-01</td>\n",
              "      <td>17924.240234</td>\n",
              "      <td>18002.380859</td>\n",
              "      <td>17916.910156</td>\n",
              "      <td>17949.369141</td>\n",
              "      <td>82160000</td>\n",
              "      <td>17949.369141</td>\n",
              "    </tr>\n",
              "    <tr>\n",
              "      <th>1</th>\n",
              "      <td>2016-07-012016-06-30</td>\n",
              "      <td>35637.000000</td>\n",
              "      <td>35932.990234</td>\n",
              "      <td>35628.710937</td>\n",
              "      <td>35879.359375</td>\n",
              "      <td>215190000</td>\n",
              "      <td>35879.359375</td>\n",
              "    </tr>\n",
              "    <tr>\n",
              "      <th>2</th>\n",
              "      <td>2016-07-012016-06-302016-06-29</td>\n",
              "      <td>53093.019531</td>\n",
              "      <td>53637.500000</td>\n",
              "      <td>53084.730468</td>\n",
              "      <td>53574.039063</td>\n",
              "      <td>321570000</td>\n",
              "      <td>53574.039063</td>\n",
              "    </tr>\n",
              "    <tr>\n",
              "      <th>3</th>\n",
              "      <td>2016-07-012016-06-302016-06-292016-06-28</td>\n",
              "      <td>70283.529297</td>\n",
              "      <td>71047.220703</td>\n",
              "      <td>70275.240234</td>\n",
              "      <td>70983.759766</td>\n",
              "      <td>433760000</td>\n",
              "      <td>70983.759766</td>\n",
              "    </tr>\n",
              "    <tr>\n",
              "      <th>4</th>\n",
              "      <td>2016-07-012016-06-302016-06-292016-06-282016-0...</td>\n",
              "      <td>87638.740235</td>\n",
              "      <td>88402.431641</td>\n",
              "      <td>87338.320312</td>\n",
              "      <td>88124.000000</td>\n",
              "      <td>572500000</td>\n",
              "      <td>88124.000000</td>\n",
              "    </tr>\n",
              "  </tbody>\n",
              "</table>\n",
              "</div>"
            ],
            "text/plain": [
              "                                                Date  ...     Adj Close\n",
              "0                                         2016-07-01  ...  17949.369141\n",
              "1                               2016-07-012016-06-30  ...  35879.359375\n",
              "2                     2016-07-012016-06-302016-06-29  ...  53574.039063\n",
              "3           2016-07-012016-06-302016-06-292016-06-28  ...  70983.759766\n",
              "4  2016-07-012016-06-302016-06-292016-06-282016-0...  ...  88124.000000\n",
              "\n",
              "[5 rows x 7 columns]"
            ]
          },
          "metadata": {
            "tags": []
          },
          "execution_count": 128
        }
      ]
    },
    {
      "cell_type": "markdown",
      "metadata": {
        "_uuid": "8a36d94e3e0d961dbd674c808dc14be1a0958371",
        "id": "Q5RHH57tm27T"
      },
      "source": [
        "### **df.min()** <a id=\"21\"></a>\n",
        "This code brings us the smallest of the data.\n",
        "\n",
        "<mark>[Return Contents](#0)\n",
        "<hr>"
      ]
    },
    {
      "cell_type": "code",
      "metadata": {
        "_uuid": "dcef4961748e9eb2b0c1311265d5e2c69a8c8e4a",
        "colab": {
          "base_uri": "https://localhost:8080/"
        },
        "id": "woy-GAJXm27U",
        "outputId": "e08131f5-0f9e-4211-896e-8c4beb1116c9"
      },
      "source": [
        "df.min()"
      ],
      "execution_count": 129,
      "outputs": [
        {
          "output_type": "execute_result",
          "data": {
            "text/plain": [
              "Date         2008-08-08\n",
              "Open            6547.01\n",
              "High            6709.61\n",
              "Low             6469.95\n",
              "Close           6547.05\n",
              "Volume          8410000\n",
              "Adj Close       6547.05\n",
              "dtype: object"
            ]
          },
          "metadata": {
            "tags": []
          },
          "execution_count": 129
        }
      ]
    },
    {
      "cell_type": "markdown",
      "metadata": {
        "_uuid": "6387ac8877231eeb35e210275d9f0c4fe4bab90b",
        "id": "9lYTDaqjm27U"
      },
      "source": [
        "### **df.max()** <a id=\"22\"></a>\n",
        "This code brings up the largest among the data.\n",
        "\n",
        "<mark>[Return Contents](#0)\n",
        "<hr>"
      ]
    },
    {
      "cell_type": "code",
      "metadata": {
        "_uuid": "bce741708b2a6387ccdf7bccf7bc44d37307ad31",
        "colab": {
          "base_uri": "https://localhost:8080/"
        },
        "id": "zpD66Cxhm27U",
        "outputId": "483a6556-8404-4e90-b341-639659fd2891"
      },
      "source": [
        "df.max()"
      ],
      "execution_count": 130,
      "outputs": [
        {
          "output_type": "execute_result",
          "data": {
            "text/plain": [
              "Date         2016-07-01\n",
              "Open            18315.1\n",
              "High            18351.4\n",
              "Low             18272.6\n",
              "Close           18312.4\n",
              "Volume        674920000\n",
              "Adj Close       18312.4\n",
              "dtype: object"
            ]
          },
          "metadata": {
            "tags": []
          },
          "execution_count": 130
        }
      ]
    },
    {
      "cell_type": "markdown",
      "metadata": {
        "_uuid": "88b7dea1b9cc468b0c4344cb6c7f3fb94f3c616e",
        "id": "8cz8Vtilm27V"
      },
      "source": [
        "### **idxmin()**  <a id=\"23\"></a>\n",
        "This code fetches the smallest value in the data. The use on series and dataframe is different.\n",
        "\n",
        "<mark>[Return Contents](#0)\n",
        "<hr>"
      ]
    },
    {
      "cell_type": "code",
      "metadata": {
        "_uuid": "9096b7015c2259e4e4a67beb44d55914a59929a4",
        "colab": {
          "base_uri": "https://localhost:8080/"
        },
        "id": "0J8-xB-xm27V",
        "outputId": "124b8efe-cae5-452f-bcbf-23ba9b652311"
      },
      "source": [
        "print(\"df: \",df['Open'].idxmin())\n",
        "print(\"series\", mySeries.idxmin())"
      ],
      "execution_count": 131,
      "outputs": [
        {
          "output_type": "stream",
          "text": [
            "df:  1842\n",
            "series b\n"
          ],
          "name": "stdout"
        }
      ]
    },
    {
      "cell_type": "markdown",
      "metadata": {
        "_uuid": "2ad1b3dac499ca9c5e26f1e0f303ef6ea2670e13",
        "id": "ptZb_Idqm27V"
      },
      "source": [
        "### **idxmax()**  <a id=\"24\"></a>\n",
        "This code returns the largest value in the data.\n",
        "\n",
        "<mark>[Return Contents](#0)\n",
        "<hr>"
      ]
    },
    {
      "cell_type": "code",
      "metadata": {
        "_uuid": "607b8bea1225ccdaa76a2f70076d5fa438e859ab",
        "colab": {
          "base_uri": "https://localhost:8080/"
        },
        "id": "zhG26vp0m27W",
        "outputId": "4010dd4d-4a28-4f60-ea35-860803a3e6a3"
      },
      "source": [
        "print(\"df: \",df['Open'].idxmax())\n",
        "print(\"series: \",mySeries.idxmax())"
      ],
      "execution_count": 132,
      "outputs": [
        {
          "output_type": "stream",
          "text": [
            "df:  282\n",
            "series:  c\n"
          ],
          "name": "stdout"
        }
      ]
    },
    {
      "cell_type": "markdown",
      "metadata": {
        "_uuid": "97f89c5cc2ca00c8a9848ac77066fee54f935ec3",
        "id": "0ZKkWSExm27W"
      },
      "source": [
        "### **df.describe()**  <a id=\"25\"></a>\n",
        "This Code provides basic statistical information about the data. The numerical column is based.\n",
        "\n",
        "* **count:** vnumber of entries\n",
        "* **mean: **average of entries\n",
        "* **std:** standart deviation\n",
        "* **min:** minimum entry\n",
        "* **25%:** first quantile\n",
        "* **50%:** median or second quantile\n",
        "* **75%:** third quantile\n",
        "* **max:** maximum entry\n",
        "\n",
        "<mark>[Return Contents](#0)\n",
        "<hr>"
      ]
    },
    {
      "cell_type": "code",
      "metadata": {
        "_uuid": "f75c57e9f16adc167f8148b2225111056ebbf432",
        "colab": {
          "base_uri": "https://localhost:8080/",
          "height": 0
        },
        "id": "oCwB_akUm27W",
        "outputId": "aaff0b07-8b58-46d9-ed0b-3acc86635624"
      },
      "source": [
        "df.describe()"
      ],
      "execution_count": 133,
      "outputs": [
        {
          "output_type": "execute_result",
          "data": {
            "text/html": [
              "<div>\n",
              "<style scoped>\n",
              "    .dataframe tbody tr th:only-of-type {\n",
              "        vertical-align: middle;\n",
              "    }\n",
              "\n",
              "    .dataframe tbody tr th {\n",
              "        vertical-align: top;\n",
              "    }\n",
              "\n",
              "    .dataframe thead th {\n",
              "        text-align: right;\n",
              "    }\n",
              "</style>\n",
              "<table border=\"1\" class=\"dataframe\">\n",
              "  <thead>\n",
              "    <tr style=\"text-align: right;\">\n",
              "      <th></th>\n",
              "      <th>Open</th>\n",
              "      <th>High</th>\n",
              "      <th>Low</th>\n",
              "      <th>Close</th>\n",
              "      <th>Volume</th>\n",
              "      <th>Adj Close</th>\n",
              "    </tr>\n",
              "  </thead>\n",
              "  <tbody>\n",
              "    <tr>\n",
              "      <th>count</th>\n",
              "      <td>1989.000000</td>\n",
              "      <td>1989.000000</td>\n",
              "      <td>1989.000000</td>\n",
              "      <td>1989.000000</td>\n",
              "      <td>1.989000e+03</td>\n",
              "      <td>1989.000000</td>\n",
              "    </tr>\n",
              "    <tr>\n",
              "      <th>mean</th>\n",
              "      <td>13459.116048</td>\n",
              "      <td>13541.303173</td>\n",
              "      <td>13372.931728</td>\n",
              "      <td>13463.032255</td>\n",
              "      <td>1.628110e+08</td>\n",
              "      <td>13463.032255</td>\n",
              "    </tr>\n",
              "    <tr>\n",
              "      <th>std</th>\n",
              "      <td>3143.281634</td>\n",
              "      <td>3136.271725</td>\n",
              "      <td>3150.420934</td>\n",
              "      <td>3144.006996</td>\n",
              "      <td>9.392343e+07</td>\n",
              "      <td>3144.006996</td>\n",
              "    </tr>\n",
              "    <tr>\n",
              "      <th>min</th>\n",
              "      <td>6547.009766</td>\n",
              "      <td>6709.609863</td>\n",
              "      <td>6469.950195</td>\n",
              "      <td>6547.049805</td>\n",
              "      <td>8.410000e+06</td>\n",
              "      <td>6547.049805</td>\n",
              "    </tr>\n",
              "    <tr>\n",
              "      <th>25%</th>\n",
              "      <td>10907.339844</td>\n",
              "      <td>11000.980469</td>\n",
              "      <td>10824.759766</td>\n",
              "      <td>10913.379883</td>\n",
              "      <td>1.000000e+08</td>\n",
              "      <td>10913.379883</td>\n",
              "    </tr>\n",
              "    <tr>\n",
              "      <th>50%</th>\n",
              "      <td>13022.049805</td>\n",
              "      <td>13088.110352</td>\n",
              "      <td>12953.129883</td>\n",
              "      <td>13025.580078</td>\n",
              "      <td>1.351700e+08</td>\n",
              "      <td>13025.580078</td>\n",
              "    </tr>\n",
              "    <tr>\n",
              "      <th>75%</th>\n",
              "      <td>16477.699219</td>\n",
              "      <td>16550.070312</td>\n",
              "      <td>16392.769531</td>\n",
              "      <td>16478.410156</td>\n",
              "      <td>1.926000e+08</td>\n",
              "      <td>16478.410156</td>\n",
              "    </tr>\n",
              "    <tr>\n",
              "      <th>max</th>\n",
              "      <td>18315.060547</td>\n",
              "      <td>18351.359375</td>\n",
              "      <td>18272.560547</td>\n",
              "      <td>18312.390625</td>\n",
              "      <td>6.749200e+08</td>\n",
              "      <td>18312.390625</td>\n",
              "    </tr>\n",
              "  </tbody>\n",
              "</table>\n",
              "</div>"
            ],
            "text/plain": [
              "               Open          High  ...        Volume     Adj Close\n",
              "count   1989.000000   1989.000000  ...  1.989000e+03   1989.000000\n",
              "mean   13459.116048  13541.303173  ...  1.628110e+08  13463.032255\n",
              "std     3143.281634   3136.271725  ...  9.392343e+07   3144.006996\n",
              "min     6547.009766   6709.609863  ...  8.410000e+06   6547.049805\n",
              "25%    10907.339844  11000.980469  ...  1.000000e+08  10913.379883\n",
              "50%    13022.049805  13088.110352  ...  1.351700e+08  13025.580078\n",
              "75%    16477.699219  16550.070312  ...  1.926000e+08  16478.410156\n",
              "max    18315.060547  18351.359375  ...  6.749200e+08  18312.390625\n",
              "\n",
              "[8 rows x 6 columns]"
            ]
          },
          "metadata": {
            "tags": []
          },
          "execution_count": 133
        }
      ]
    },
    {
      "cell_type": "markdown",
      "metadata": {
        "_uuid": "ee81ed576d22d6e350d59e961697231de83dbd6c",
        "id": "tyZJYSSXm27X"
      },
      "source": [
        "### **df.mean()**  <a id=\"26\"></a>\n",
        "This code returns the mean value for the numeric column.\n",
        "\n",
        "<mark>[Return Contents](#0)\n",
        "<hr>"
      ]
    },
    {
      "cell_type": "code",
      "metadata": {
        "_uuid": "a48fe07b2e9edf425eea43ee8efc7208451053b8",
        "colab": {
          "base_uri": "https://localhost:8080/"
        },
        "id": "ZRLIx3_0m27X",
        "outputId": "44bb76fe-840a-41f3-f46d-44b99f08c7d7"
      },
      "source": [
        "df.mean()"
      ],
      "execution_count": 134,
      "outputs": [
        {
          "output_type": "execute_result",
          "data": {
            "text/plain": [
              "Open         1.345912e+04\n",
              "High         1.354130e+04\n",
              "Low          1.337293e+04\n",
              "Close        1.346303e+04\n",
              "Volume       1.628110e+08\n",
              "Adj Close    1.346303e+04\n",
              "dtype: float64"
            ]
          },
          "metadata": {
            "tags": []
          },
          "execution_count": 134
        }
      ]
    },
    {
      "cell_type": "markdown",
      "metadata": {
        "_uuid": "9505e713279ca2d4f9ee8e9e8f493fc6fc1dffaf",
        "id": "imE60dADm27X"
      },
      "source": [
        "### **df.median()**  <a id=\"27\"></a>\n",
        "This code returns median for columns with numeric values.\n",
        "\n",
        "<mark>[Return Contents](#0)\n",
        "<hr>"
      ]
    },
    {
      "cell_type": "code",
      "metadata": {
        "_uuid": "e8f946be9ec391af5cf4cdc720bd86f08b1e11f8",
        "colab": {
          "base_uri": "https://localhost:8080/"
        },
        "id": "trO4MbP7m27X",
        "outputId": "b744e87b-a14c-47a0-ba10-2727f0ee0b3e"
      },
      "source": [
        "df.median()"
      ],
      "execution_count": 135,
      "outputs": [
        {
          "output_type": "execute_result",
          "data": {
            "text/plain": [
              "Open         1.302205e+04\n",
              "High         1.308811e+04\n",
              "Low          1.295313e+04\n",
              "Close        1.302558e+04\n",
              "Volume       1.351700e+08\n",
              "Adj Close    1.302558e+04\n",
              "dtype: float64"
            ]
          },
          "metadata": {
            "tags": []
          },
          "execution_count": 135
        }
      ]
    },
    {
      "cell_type": "markdown",
      "metadata": {
        "_uuid": "e6ef1d3c59446abef4af4e9a8f9e4c7091268d07",
        "id": "49lQuWYqm27Y"
      },
      "source": [
        "### **df.quantile([0.25,0.75])**  <a id=\"28\"></a>\n",
        "This code calculates the values 0.25 and 0.75 of the columns for each column.\n",
        "\n",
        "<mark>[Return Contents](#0)\n",
        "<hr>"
      ]
    },
    {
      "cell_type": "code",
      "metadata": {
        "_uuid": "8145c67dde8b9aba6803436d28cc7225445343a3",
        "colab": {
          "base_uri": "https://localhost:8080/",
          "height": 0
        },
        "id": "DXuHG3RHm27Y",
        "outputId": "e8d1bc87-1cb2-4401-eac3-f27d578cb4e9"
      },
      "source": [
        "df.quantile([0.25,0.75])"
      ],
      "execution_count": 136,
      "outputs": [
        {
          "output_type": "execute_result",
          "data": {
            "text/html": [
              "<div>\n",
              "<style scoped>\n",
              "    .dataframe tbody tr th:only-of-type {\n",
              "        vertical-align: middle;\n",
              "    }\n",
              "\n",
              "    .dataframe tbody tr th {\n",
              "        vertical-align: top;\n",
              "    }\n",
              "\n",
              "    .dataframe thead th {\n",
              "        text-align: right;\n",
              "    }\n",
              "</style>\n",
              "<table border=\"1\" class=\"dataframe\">\n",
              "  <thead>\n",
              "    <tr style=\"text-align: right;\">\n",
              "      <th></th>\n",
              "      <th>Open</th>\n",
              "      <th>High</th>\n",
              "      <th>Low</th>\n",
              "      <th>Close</th>\n",
              "      <th>Volume</th>\n",
              "      <th>Adj Close</th>\n",
              "    </tr>\n",
              "  </thead>\n",
              "  <tbody>\n",
              "    <tr>\n",
              "      <th>0.25</th>\n",
              "      <td>10907.339844</td>\n",
              "      <td>11000.980469</td>\n",
              "      <td>10824.759766</td>\n",
              "      <td>10913.379883</td>\n",
              "      <td>100000000.0</td>\n",
              "      <td>10913.379883</td>\n",
              "    </tr>\n",
              "    <tr>\n",
              "      <th>0.75</th>\n",
              "      <td>16477.699219</td>\n",
              "      <td>16550.070312</td>\n",
              "      <td>16392.769531</td>\n",
              "      <td>16478.410156</td>\n",
              "      <td>192600000.0</td>\n",
              "      <td>16478.410156</td>\n",
              "    </tr>\n",
              "  </tbody>\n",
              "</table>\n",
              "</div>"
            ],
            "text/plain": [
              "              Open          High  ...       Volume     Adj Close\n",
              "0.25  10907.339844  11000.980469  ...  100000000.0  10913.379883\n",
              "0.75  16477.699219  16550.070312  ...  192600000.0  16478.410156\n",
              "\n",
              "[2 rows x 6 columns]"
            ]
          },
          "metadata": {
            "tags": []
          },
          "execution_count": 136
        }
      ]
    },
    {
      "cell_type": "markdown",
      "metadata": {
        "_uuid": "aac3a79b56277361df222d188abf5916e158287c",
        "id": "uRmRSGk_m27Z"
      },
      "source": [
        "### **df.var()**  <a id=\"29\"></a>\n",
        "This code calculates the variance value for each column with a numeric value.\n",
        "\n",
        "<mark>[Return Contents](#0)\n",
        "<hr>"
      ]
    },
    {
      "cell_type": "code",
      "metadata": {
        "_uuid": "4d6dc0723b2a02b1a30eba32aee013e618a8c777",
        "colab": {
          "base_uri": "https://localhost:8080/"
        },
        "id": "AuOLFdcHm27Z",
        "outputId": "26a2e570-1c84-4c3c-cfe4-6519ed9a44a1"
      },
      "source": [
        "df.var()"
      ],
      "execution_count": 137,
      "outputs": [
        {
          "output_type": "execute_result",
          "data": {
            "text/plain": [
              "Open         9.880219e+06\n",
              "High         9.836200e+06\n",
              "Low          9.925152e+06\n",
              "Close        9.884780e+06\n",
              "Volume       8.821610e+15\n",
              "Adj Close    9.884780e+06\n",
              "dtype: float64"
            ]
          },
          "metadata": {
            "tags": []
          },
          "execution_count": 137
        }
      ]
    },
    {
      "cell_type": "markdown",
      "metadata": {
        "_uuid": "9dadcadc50fa2f35d0be27c491706ae64ddb5879",
        "id": "1NlyTE6sm27a"
      },
      "source": [
        "### **df.std()** <a id=\"30\"></a>\n",
        "This code calculates the standard deviation value for each column with numeric value.\n",
        "\n",
        "<mark>[Return Contents](#0)\n",
        "<hr>"
      ]
    },
    {
      "cell_type": "code",
      "metadata": {
        "_uuid": "dc29b13723a50b444d0892194aa9c131a6969217",
        "colab": {
          "base_uri": "https://localhost:8080/"
        },
        "id": "xJtRxZ2zm27a",
        "outputId": "5b6e0b24-a77f-402b-aba7-bb6e4b9d2e69"
      },
      "source": [
        "df.std()"
      ],
      "execution_count": 138,
      "outputs": [
        {
          "output_type": "execute_result",
          "data": {
            "text/plain": [
              "Open         3.143282e+03\n",
              "High         3.136272e+03\n",
              "Low          3.150421e+03\n",
              "Close        3.144007e+03\n",
              "Volume       9.392343e+07\n",
              "Adj Close    3.144007e+03\n",
              "dtype: float64"
            ]
          },
          "metadata": {
            "tags": []
          },
          "execution_count": 138
        }
      ]
    },
    {
      "cell_type": "markdown",
      "metadata": {
        "_uuid": "9143f758fa6d821ece2efd8389b09b045bf486c2",
        "id": "O1oGxf9Hm27a"
      },
      "source": [
        "### **df.cummax()** <a id=\"31\"></a>\n",
        "This code calculates the cumulative max value between the data.\n",
        "\n",
        "<mark>[Return Contents](#0)\n",
        "<hr>"
      ]
    },
    {
      "cell_type": "code",
      "metadata": {
        "_uuid": "beac65acb14480ea7c2a3b1db839bda1b700aed8",
        "colab": {
          "base_uri": "https://localhost:8080/",
          "height": 0
        },
        "id": "TvndTa9Pm27a",
        "outputId": "8a4e8dcd-f2ea-46b6-ed7a-1dde7f801868"
      },
      "source": [
        "df.cummax()"
      ],
      "execution_count": 139,
      "outputs": [
        {
          "output_type": "execute_result",
          "data": {
            "text/html": [
              "<div>\n",
              "<style scoped>\n",
              "    .dataframe tbody tr th:only-of-type {\n",
              "        vertical-align: middle;\n",
              "    }\n",
              "\n",
              "    .dataframe tbody tr th {\n",
              "        vertical-align: top;\n",
              "    }\n",
              "\n",
              "    .dataframe thead th {\n",
              "        text-align: right;\n",
              "    }\n",
              "</style>\n",
              "<table border=\"1\" class=\"dataframe\">\n",
              "  <thead>\n",
              "    <tr style=\"text-align: right;\">\n",
              "      <th></th>\n",
              "      <th>Date</th>\n",
              "      <th>Open</th>\n",
              "      <th>High</th>\n",
              "      <th>Low</th>\n",
              "      <th>Close</th>\n",
              "      <th>Volume</th>\n",
              "      <th>Adj Close</th>\n",
              "    </tr>\n",
              "  </thead>\n",
              "  <tbody>\n",
              "    <tr>\n",
              "      <th>0</th>\n",
              "      <td>2016-07-01</td>\n",
              "      <td>17924.240234</td>\n",
              "      <td>18002.380859</td>\n",
              "      <td>17916.910156</td>\n",
              "      <td>17949.369141</td>\n",
              "      <td>82160000</td>\n",
              "      <td>17949.369141</td>\n",
              "    </tr>\n",
              "    <tr>\n",
              "      <th>1</th>\n",
              "      <td>2016-07-01</td>\n",
              "      <td>17924.240234</td>\n",
              "      <td>18002.380859</td>\n",
              "      <td>17916.910156</td>\n",
              "      <td>17949.369141</td>\n",
              "      <td>133030000</td>\n",
              "      <td>17949.369141</td>\n",
              "    </tr>\n",
              "    <tr>\n",
              "      <th>2</th>\n",
              "      <td>2016-07-01</td>\n",
              "      <td>17924.240234</td>\n",
              "      <td>18002.380859</td>\n",
              "      <td>17916.910156</td>\n",
              "      <td>17949.369141</td>\n",
              "      <td>133030000</td>\n",
              "      <td>17949.369141</td>\n",
              "    </tr>\n",
              "    <tr>\n",
              "      <th>3</th>\n",
              "      <td>2016-07-01</td>\n",
              "      <td>17924.240234</td>\n",
              "      <td>18002.380859</td>\n",
              "      <td>17916.910156</td>\n",
              "      <td>17949.369141</td>\n",
              "      <td>133030000</td>\n",
              "      <td>17949.369141</td>\n",
              "    </tr>\n",
              "    <tr>\n",
              "      <th>4</th>\n",
              "      <td>2016-07-01</td>\n",
              "      <td>17924.240234</td>\n",
              "      <td>18002.380859</td>\n",
              "      <td>17916.910156</td>\n",
              "      <td>17949.369141</td>\n",
              "      <td>138740000</td>\n",
              "      <td>17949.369141</td>\n",
              "    </tr>\n",
              "    <tr>\n",
              "      <th>...</th>\n",
              "      <td>...</td>\n",
              "      <td>...</td>\n",
              "      <td>...</td>\n",
              "      <td>...</td>\n",
              "      <td>...</td>\n",
              "      <td>...</td>\n",
              "      <td>...</td>\n",
              "    </tr>\n",
              "    <tr>\n",
              "      <th>1984</th>\n",
              "      <td>2016-07-01</td>\n",
              "      <td>18315.060547</td>\n",
              "      <td>18351.359375</td>\n",
              "      <td>18272.560547</td>\n",
              "      <td>18312.390625</td>\n",
              "      <td>674920000</td>\n",
              "      <td>18312.390625</td>\n",
              "    </tr>\n",
              "    <tr>\n",
              "      <th>1985</th>\n",
              "      <td>2016-07-01</td>\n",
              "      <td>18315.060547</td>\n",
              "      <td>18351.359375</td>\n",
              "      <td>18272.560547</td>\n",
              "      <td>18312.390625</td>\n",
              "      <td>674920000</td>\n",
              "      <td>18312.390625</td>\n",
              "    </tr>\n",
              "    <tr>\n",
              "      <th>1986</th>\n",
              "      <td>2016-07-01</td>\n",
              "      <td>18315.060547</td>\n",
              "      <td>18351.359375</td>\n",
              "      <td>18272.560547</td>\n",
              "      <td>18312.390625</td>\n",
              "      <td>674920000</td>\n",
              "      <td>18312.390625</td>\n",
              "    </tr>\n",
              "    <tr>\n",
              "      <th>1987</th>\n",
              "      <td>2016-07-01</td>\n",
              "      <td>18315.060547</td>\n",
              "      <td>18351.359375</td>\n",
              "      <td>18272.560547</td>\n",
              "      <td>18312.390625</td>\n",
              "      <td>674920000</td>\n",
              "      <td>18312.390625</td>\n",
              "    </tr>\n",
              "    <tr>\n",
              "      <th>1988</th>\n",
              "      <td>2016-07-01</td>\n",
              "      <td>18315.060547</td>\n",
              "      <td>18351.359375</td>\n",
              "      <td>18272.560547</td>\n",
              "      <td>18312.390625</td>\n",
              "      <td>674920000</td>\n",
              "      <td>18312.390625</td>\n",
              "    </tr>\n",
              "  </tbody>\n",
              "</table>\n",
              "<p>1989 rows × 7 columns</p>\n",
              "</div>"
            ],
            "text/plain": [
              "            Date          Open  ...     Volume     Adj Close\n",
              "0     2016-07-01  17924.240234  ...   82160000  17949.369141\n",
              "1     2016-07-01  17924.240234  ...  133030000  17949.369141\n",
              "2     2016-07-01  17924.240234  ...  133030000  17949.369141\n",
              "3     2016-07-01  17924.240234  ...  133030000  17949.369141\n",
              "4     2016-07-01  17924.240234  ...  138740000  17949.369141\n",
              "...          ...           ...  ...        ...           ...\n",
              "1984  2016-07-01  18315.060547  ...  674920000  18312.390625\n",
              "1985  2016-07-01  18315.060547  ...  674920000  18312.390625\n",
              "1986  2016-07-01  18315.060547  ...  674920000  18312.390625\n",
              "1987  2016-07-01  18315.060547  ...  674920000  18312.390625\n",
              "1988  2016-07-01  18315.060547  ...  674920000  18312.390625\n",
              "\n",
              "[1989 rows x 7 columns]"
            ]
          },
          "metadata": {
            "tags": []
          },
          "execution_count": 139
        }
      ]
    },
    {
      "cell_type": "markdown",
      "metadata": {
        "_uuid": "3fcc12a897018a10be30af61dd962ce55783ced6",
        "id": "Thoulr1hm27b"
      },
      "source": [
        "### **df.cummin()** <a id=\"32\"></a>\n",
        "This code returns the cumulative min value of the data.\n",
        "\n",
        "<mark>[Return Contents](#0)\n",
        "<hr>"
      ]
    },
    {
      "cell_type": "code",
      "metadata": {
        "_uuid": "1f338476139eeea15cb87f2df4b7f6958daa1e14",
        "colab": {
          "base_uri": "https://localhost:8080/",
          "height": 0
        },
        "id": "XvhhDtBEm27b",
        "outputId": "6a56697f-9c02-41c8-d5c7-2f9bd86d077d"
      },
      "source": [
        "df.cummin()"
      ],
      "execution_count": 140,
      "outputs": [
        {
          "output_type": "execute_result",
          "data": {
            "text/html": [
              "<div>\n",
              "<style scoped>\n",
              "    .dataframe tbody tr th:only-of-type {\n",
              "        vertical-align: middle;\n",
              "    }\n",
              "\n",
              "    .dataframe tbody tr th {\n",
              "        vertical-align: top;\n",
              "    }\n",
              "\n",
              "    .dataframe thead th {\n",
              "        text-align: right;\n",
              "    }\n",
              "</style>\n",
              "<table border=\"1\" class=\"dataframe\">\n",
              "  <thead>\n",
              "    <tr style=\"text-align: right;\">\n",
              "      <th></th>\n",
              "      <th>Date</th>\n",
              "      <th>Open</th>\n",
              "      <th>High</th>\n",
              "      <th>Low</th>\n",
              "      <th>Close</th>\n",
              "      <th>Volume</th>\n",
              "      <th>Adj Close</th>\n",
              "    </tr>\n",
              "  </thead>\n",
              "  <tbody>\n",
              "    <tr>\n",
              "      <th>0</th>\n",
              "      <td>2016-07-01</td>\n",
              "      <td>17924.240234</td>\n",
              "      <td>18002.380859</td>\n",
              "      <td>17916.910156</td>\n",
              "      <td>17949.369141</td>\n",
              "      <td>82160000</td>\n",
              "      <td>17949.369141</td>\n",
              "    </tr>\n",
              "    <tr>\n",
              "      <th>1</th>\n",
              "      <td>2016-06-30</td>\n",
              "      <td>17712.759766</td>\n",
              "      <td>17930.609375</td>\n",
              "      <td>17711.800781</td>\n",
              "      <td>17929.990234</td>\n",
              "      <td>82160000</td>\n",
              "      <td>17929.990234</td>\n",
              "    </tr>\n",
              "    <tr>\n",
              "      <th>2</th>\n",
              "      <td>2016-06-29</td>\n",
              "      <td>17456.019531</td>\n",
              "      <td>17704.509766</td>\n",
              "      <td>17456.019531</td>\n",
              "      <td>17694.679688</td>\n",
              "      <td>82160000</td>\n",
              "      <td>17694.679688</td>\n",
              "    </tr>\n",
              "    <tr>\n",
              "      <th>3</th>\n",
              "      <td>2016-06-28</td>\n",
              "      <td>17190.509766</td>\n",
              "      <td>17409.720703</td>\n",
              "      <td>17190.509766</td>\n",
              "      <td>17409.720703</td>\n",
              "      <td>82160000</td>\n",
              "      <td>17409.720703</td>\n",
              "    </tr>\n",
              "    <tr>\n",
              "      <th>4</th>\n",
              "      <td>2016-06-27</td>\n",
              "      <td>17190.509766</td>\n",
              "      <td>17355.210938</td>\n",
              "      <td>17063.080078</td>\n",
              "      <td>17140.240234</td>\n",
              "      <td>82160000</td>\n",
              "      <td>17140.240234</td>\n",
              "    </tr>\n",
              "    <tr>\n",
              "      <th>...</th>\n",
              "      <td>...</td>\n",
              "      <td>...</td>\n",
              "      <td>...</td>\n",
              "      <td>...</td>\n",
              "      <td>...</td>\n",
              "      <td>...</td>\n",
              "      <td>...</td>\n",
              "    </tr>\n",
              "    <tr>\n",
              "      <th>1984</th>\n",
              "      <td>2008-08-14</td>\n",
              "      <td>6547.009766</td>\n",
              "      <td>6709.609863</td>\n",
              "      <td>6469.950195</td>\n",
              "      <td>6547.049805</td>\n",
              "      <td>8410000</td>\n",
              "      <td>6547.049805</td>\n",
              "    </tr>\n",
              "    <tr>\n",
              "      <th>1985</th>\n",
              "      <td>2008-08-13</td>\n",
              "      <td>6547.009766</td>\n",
              "      <td>6709.609863</td>\n",
              "      <td>6469.950195</td>\n",
              "      <td>6547.049805</td>\n",
              "      <td>8410000</td>\n",
              "      <td>6547.049805</td>\n",
              "    </tr>\n",
              "    <tr>\n",
              "      <th>1986</th>\n",
              "      <td>2008-08-12</td>\n",
              "      <td>6547.009766</td>\n",
              "      <td>6709.609863</td>\n",
              "      <td>6469.950195</td>\n",
              "      <td>6547.049805</td>\n",
              "      <td>8410000</td>\n",
              "      <td>6547.049805</td>\n",
              "    </tr>\n",
              "    <tr>\n",
              "      <th>1987</th>\n",
              "      <td>2008-08-11</td>\n",
              "      <td>6547.009766</td>\n",
              "      <td>6709.609863</td>\n",
              "      <td>6469.950195</td>\n",
              "      <td>6547.049805</td>\n",
              "      <td>8410000</td>\n",
              "      <td>6547.049805</td>\n",
              "    </tr>\n",
              "    <tr>\n",
              "      <th>1988</th>\n",
              "      <td>2008-08-08</td>\n",
              "      <td>6547.009766</td>\n",
              "      <td>6709.609863</td>\n",
              "      <td>6469.950195</td>\n",
              "      <td>6547.049805</td>\n",
              "      <td>8410000</td>\n",
              "      <td>6547.049805</td>\n",
              "    </tr>\n",
              "  </tbody>\n",
              "</table>\n",
              "<p>1989 rows × 7 columns</p>\n",
              "</div>"
            ],
            "text/plain": [
              "            Date          Open  ...    Volume     Adj Close\n",
              "0     2016-07-01  17924.240234  ...  82160000  17949.369141\n",
              "1     2016-06-30  17712.759766  ...  82160000  17929.990234\n",
              "2     2016-06-29  17456.019531  ...  82160000  17694.679688\n",
              "3     2016-06-28  17190.509766  ...  82160000  17409.720703\n",
              "4     2016-06-27  17190.509766  ...  82160000  17140.240234\n",
              "...          ...           ...  ...       ...           ...\n",
              "1984  2008-08-14   6547.009766  ...   8410000   6547.049805\n",
              "1985  2008-08-13   6547.009766  ...   8410000   6547.049805\n",
              "1986  2008-08-12   6547.009766  ...   8410000   6547.049805\n",
              "1987  2008-08-11   6547.009766  ...   8410000   6547.049805\n",
              "1988  2008-08-08   6547.009766  ...   8410000   6547.049805\n",
              "\n",
              "[1989 rows x 7 columns]"
            ]
          },
          "metadata": {
            "tags": []
          },
          "execution_count": 140
        }
      ]
    },
    {
      "cell_type": "markdown",
      "metadata": {
        "_uuid": "0cd60da3b32d18ebbee2e5c4af63880694ec546a",
        "id": "ktvYSR1lm27c"
      },
      "source": [
        "### **df['columnName'].cumproad()** <a id=\"33\"></a>\n",
        "This code returns the cumulative production of the data.\n",
        "\n",
        "<mark>[Return Contents](#0)\n",
        "<hr>"
      ]
    },
    {
      "cell_type": "code",
      "metadata": {
        "_uuid": "b1ada72f4fa74e8caf4962f0901b301b110c4ef0",
        "colab": {
          "base_uri": "https://localhost:8080/"
        },
        "id": "T-uiN9HWm27c",
        "outputId": "1df0f74e-248b-425d-8098-1399eefff67d"
      },
      "source": [
        "df['Open'].cumprod().head()"
      ],
      "execution_count": 141,
      "outputs": [
        {
          "output_type": "execute_result",
          "data": {
            "text/plain": [
              "0    1.792424e+04\n",
              "1    3.174878e+08\n",
              "2    5.542073e+12\n",
              "3    9.527105e+16\n",
              "4    1.653449e+21\n",
              "Name: Open, dtype: float64"
            ]
          },
          "metadata": {
            "tags": []
          },
          "execution_count": 141
        }
      ]
    },
    {
      "cell_type": "markdown",
      "metadata": {
        "_uuid": "dbbb7f7547fa7499cd81ef2e2ceb6e62e353f193",
        "id": "yU4S4xFim27c"
      },
      "source": [
        "### **len(df)** <a id=\"34\"></a>\n",
        "This code gives you how many data there is.\n",
        "\n",
        "<mark>[Return Contents](#0)\n",
        "<hr>"
      ]
    },
    {
      "cell_type": "code",
      "metadata": {
        "_uuid": "e773df58aa59556aea40bbd379b47cb99bfc5629",
        "colab": {
          "base_uri": "https://localhost:8080/"
        },
        "id": "OywSltcem27c",
        "outputId": "2b5e4333-b158-4ed9-d7c6-2fee510ddfb9"
      },
      "source": [
        "len(df)"
      ],
      "execution_count": 142,
      "outputs": [
        {
          "output_type": "execute_result",
          "data": {
            "text/plain": [
              "1989"
            ]
          },
          "metadata": {
            "tags": []
          },
          "execution_count": 142
        }
      ]
    },
    {
      "cell_type": "markdown",
      "metadata": {
        "_uuid": "14ff3ff54a24aa3ad8996f3ef68e119a7b03f8f9",
        "id": "3OPQMQY0m27d"
      },
      "source": [
        "### **df.isnull()** <a id=\"35\"></a>\n",
        "Checks for null values, returns boolean.\n",
        "\n",
        "<mark>[Return Contents](#0)\n",
        "<hr>"
      ]
    },
    {
      "cell_type": "code",
      "metadata": {
        "_uuid": "d6c4c3ed8f7bd639db1eb3487a5e61aff1651847",
        "colab": {
          "base_uri": "https://localhost:8080/",
          "height": 0
        },
        "id": "QSqdy2r6m27d",
        "outputId": "15c44b47-17d2-4043-ce8b-428cf85e2a0b"
      },
      "source": [
        "df.isnull().head()"
      ],
      "execution_count": 143,
      "outputs": [
        {
          "output_type": "execute_result",
          "data": {
            "text/html": [
              "<div>\n",
              "<style scoped>\n",
              "    .dataframe tbody tr th:only-of-type {\n",
              "        vertical-align: middle;\n",
              "    }\n",
              "\n",
              "    .dataframe tbody tr th {\n",
              "        vertical-align: top;\n",
              "    }\n",
              "\n",
              "    .dataframe thead th {\n",
              "        text-align: right;\n",
              "    }\n",
              "</style>\n",
              "<table border=\"1\" class=\"dataframe\">\n",
              "  <thead>\n",
              "    <tr style=\"text-align: right;\">\n",
              "      <th></th>\n",
              "      <th>Date</th>\n",
              "      <th>Open</th>\n",
              "      <th>High</th>\n",
              "      <th>Low</th>\n",
              "      <th>Close</th>\n",
              "      <th>Volume</th>\n",
              "      <th>Adj Close</th>\n",
              "    </tr>\n",
              "  </thead>\n",
              "  <tbody>\n",
              "    <tr>\n",
              "      <th>0</th>\n",
              "      <td>False</td>\n",
              "      <td>False</td>\n",
              "      <td>False</td>\n",
              "      <td>False</td>\n",
              "      <td>False</td>\n",
              "      <td>False</td>\n",
              "      <td>False</td>\n",
              "    </tr>\n",
              "    <tr>\n",
              "      <th>1</th>\n",
              "      <td>False</td>\n",
              "      <td>False</td>\n",
              "      <td>False</td>\n",
              "      <td>False</td>\n",
              "      <td>False</td>\n",
              "      <td>False</td>\n",
              "      <td>False</td>\n",
              "    </tr>\n",
              "    <tr>\n",
              "      <th>2</th>\n",
              "      <td>False</td>\n",
              "      <td>False</td>\n",
              "      <td>False</td>\n",
              "      <td>False</td>\n",
              "      <td>False</td>\n",
              "      <td>False</td>\n",
              "      <td>False</td>\n",
              "    </tr>\n",
              "    <tr>\n",
              "      <th>3</th>\n",
              "      <td>False</td>\n",
              "      <td>False</td>\n",
              "      <td>False</td>\n",
              "      <td>False</td>\n",
              "      <td>False</td>\n",
              "      <td>False</td>\n",
              "      <td>False</td>\n",
              "    </tr>\n",
              "    <tr>\n",
              "      <th>4</th>\n",
              "      <td>False</td>\n",
              "      <td>False</td>\n",
              "      <td>False</td>\n",
              "      <td>False</td>\n",
              "      <td>False</td>\n",
              "      <td>False</td>\n",
              "      <td>False</td>\n",
              "    </tr>\n",
              "  </tbody>\n",
              "</table>\n",
              "</div>"
            ],
            "text/plain": [
              "    Date   Open   High    Low  Close  Volume  Adj Close\n",
              "0  False  False  False  False  False   False      False\n",
              "1  False  False  False  False  False   False      False\n",
              "2  False  False  False  False  False   False      False\n",
              "3  False  False  False  False  False   False      False\n",
              "4  False  False  False  False  False   False      False"
            ]
          },
          "metadata": {
            "tags": []
          },
          "execution_count": 143
        }
      ]
    },
    {
      "cell_type": "markdown",
      "metadata": {
        "_uuid": "9c2242ccb54b0cccecd0f5ebdfda70f454cb35d7",
        "id": "yyCaALrZm27d"
      },
      "source": [
        "### **df.corr()** <a id=\"81\"></a>\n",
        "it gives information about the correlation between the data.\n",
        "\n",
        "<mark>[Return Contents](#0)\n",
        "<hr>"
      ]
    },
    {
      "cell_type": "code",
      "metadata": {
        "_uuid": "7ad15ffbc630aa1ffbeebe5270844112e1c88b18",
        "colab": {
          "base_uri": "https://localhost:8080/",
          "height": 0
        },
        "id": "rrkRK9I1m27e",
        "outputId": "ea97483d-b07f-4a24-db6e-a929dd93c9c5"
      },
      "source": [
        "df.corr()"
      ],
      "execution_count": 144,
      "outputs": [
        {
          "output_type": "execute_result",
          "data": {
            "text/html": [
              "<div>\n",
              "<style scoped>\n",
              "    .dataframe tbody tr th:only-of-type {\n",
              "        vertical-align: middle;\n",
              "    }\n",
              "\n",
              "    .dataframe tbody tr th {\n",
              "        vertical-align: top;\n",
              "    }\n",
              "\n",
              "    .dataframe thead th {\n",
              "        text-align: right;\n",
              "    }\n",
              "</style>\n",
              "<table border=\"1\" class=\"dataframe\">\n",
              "  <thead>\n",
              "    <tr style=\"text-align: right;\">\n",
              "      <th></th>\n",
              "      <th>Open</th>\n",
              "      <th>High</th>\n",
              "      <th>Low</th>\n",
              "      <th>Close</th>\n",
              "      <th>Volume</th>\n",
              "      <th>Adj Close</th>\n",
              "    </tr>\n",
              "  </thead>\n",
              "  <tbody>\n",
              "    <tr>\n",
              "      <th>Open</th>\n",
              "      <td>1.000000</td>\n",
              "      <td>0.999592</td>\n",
              "      <td>0.999436</td>\n",
              "      <td>0.998991</td>\n",
              "      <td>-0.691621</td>\n",
              "      <td>0.998991</td>\n",
              "    </tr>\n",
              "    <tr>\n",
              "      <th>High</th>\n",
              "      <td>0.999592</td>\n",
              "      <td>1.000000</td>\n",
              "      <td>0.999373</td>\n",
              "      <td>0.999546</td>\n",
              "      <td>-0.686997</td>\n",
              "      <td>0.999546</td>\n",
              "    </tr>\n",
              "    <tr>\n",
              "      <th>Low</th>\n",
              "      <td>0.999436</td>\n",
              "      <td>0.999373</td>\n",
              "      <td>1.000000</td>\n",
              "      <td>0.999595</td>\n",
              "      <td>-0.699572</td>\n",
              "      <td>0.999595</td>\n",
              "    </tr>\n",
              "    <tr>\n",
              "      <th>Close</th>\n",
              "      <td>0.998991</td>\n",
              "      <td>0.999546</td>\n",
              "      <td>0.999595</td>\n",
              "      <td>1.000000</td>\n",
              "      <td>-0.694281</td>\n",
              "      <td>1.000000</td>\n",
              "    </tr>\n",
              "    <tr>\n",
              "      <th>Volume</th>\n",
              "      <td>-0.691621</td>\n",
              "      <td>-0.686997</td>\n",
              "      <td>-0.699572</td>\n",
              "      <td>-0.694281</td>\n",
              "      <td>1.000000</td>\n",
              "      <td>-0.694281</td>\n",
              "    </tr>\n",
              "    <tr>\n",
              "      <th>Adj Close</th>\n",
              "      <td>0.998991</td>\n",
              "      <td>0.999546</td>\n",
              "      <td>0.999595</td>\n",
              "      <td>1.000000</td>\n",
              "      <td>-0.694281</td>\n",
              "      <td>1.000000</td>\n",
              "    </tr>\n",
              "  </tbody>\n",
              "</table>\n",
              "</div>"
            ],
            "text/plain": [
              "               Open      High       Low     Close    Volume  Adj Close\n",
              "Open       1.000000  0.999592  0.999436  0.998991 -0.691621   0.998991\n",
              "High       0.999592  1.000000  0.999373  0.999546 -0.686997   0.999546\n",
              "Low        0.999436  0.999373  1.000000  0.999595 -0.699572   0.999595\n",
              "Close      0.998991  0.999546  0.999595  1.000000 -0.694281   1.000000\n",
              "Volume    -0.691621 -0.686997 -0.699572 -0.694281  1.000000  -0.694281\n",
              "Adj Close  0.998991  0.999546  0.999595  1.000000 -0.694281   1.000000"
            ]
          },
          "metadata": {
            "tags": []
          },
          "execution_count": 144
        }
      ]
    },
    {
      "cell_type": "markdown",
      "metadata": {
        "_uuid": "37ec533a2bdbadc4271c1eabe3956ca7f112bf11",
        "id": "KbFefgaYm27e"
      },
      "source": [
        "# **Selection & Filtering** <a id=\"36\"></a>\n",
        "<mark>[Return Contents](#0)\n",
        "<hr>\n",
        "\n",
        "This is how we can choose the data we want with pandas, how we can bring unique data."
      ]
    },
    {
      "cell_type": "markdown",
      "metadata": {
        "_uuid": "cd86aed11ba3388bee1c7038fa653bdd0c40b88c",
        "id": "sayDZAoZm27e"
      },
      "source": [
        "### **mySeries['b']** <a id=\"37\"></a>\n",
        "This code returns data with a value of B in series.\n",
        "\n",
        "<mark>[Return Contents](#0)\n",
        "<hr>"
      ]
    },
    {
      "cell_type": "code",
      "metadata": {
        "_uuid": "d296ecf3432c28312feb0784abb4967686f7e0bc",
        "colab": {
          "base_uri": "https://localhost:8080/"
        },
        "id": "EDyPJThVm27e",
        "outputId": "d86eed63-2b17-4b58-f4aa-86ad51b95be7"
      },
      "source": [
        "mySeries['b']"
      ],
      "execution_count": 149,
      "outputs": [
        {
          "output_type": "execute_result",
          "data": {
            "text/plain": [
              "-5"
            ]
          },
          "metadata": {
            "tags": []
          },
          "execution_count": 149
        }
      ]
    },
    {
      "cell_type": "markdown",
      "metadata": {
        "_uuid": "b0276f695b6ee645cf6c65fc15198973b1bf1b2f",
        "id": "IGSyoZirm27f"
      },
      "source": [
        "### **df[n:n]** <a id=\"38\"></a>\n",
        "This code fetches data from N to N.\n",
        "\n",
        "<mark>[Return Contents](#0)\n",
        "<hr>"
      ]
    },
    {
      "cell_type": "code",
      "metadata": {
        "_uuid": "68fc73b45d10fbba5dbf09ebcf87621885bf1787",
        "colab": {
          "base_uri": "https://localhost:8080/",
          "height": 266
        },
        "id": "X0_7X7kZm27f",
        "outputId": "ffd0d1da-7785-4a0f-b6f3-918aad6c1ff8"
      },
      "source": [
        "df[1982:]\n",
        "#Or\n",
        "#df[5:7]"
      ],
      "execution_count": 151,
      "outputs": [
        {
          "output_type": "execute_result",
          "data": {
            "text/html": [
              "<div>\n",
              "<style scoped>\n",
              "    .dataframe tbody tr th:only-of-type {\n",
              "        vertical-align: middle;\n",
              "    }\n",
              "\n",
              "    .dataframe tbody tr th {\n",
              "        vertical-align: top;\n",
              "    }\n",
              "\n",
              "    .dataframe thead th {\n",
              "        text-align: right;\n",
              "    }\n",
              "</style>\n",
              "<table border=\"1\" class=\"dataframe\">\n",
              "  <thead>\n",
              "    <tr style=\"text-align: right;\">\n",
              "      <th></th>\n",
              "      <th>Date</th>\n",
              "      <th>Open</th>\n",
              "      <th>High</th>\n",
              "      <th>Low</th>\n",
              "      <th>Close</th>\n",
              "      <th>Volume</th>\n",
              "      <th>Adj Close</th>\n",
              "    </tr>\n",
              "  </thead>\n",
              "  <tbody>\n",
              "    <tr>\n",
              "      <th>1982</th>\n",
              "      <td>2008-08-18</td>\n",
              "      <td>11659.650391</td>\n",
              "      <td>11690.429688</td>\n",
              "      <td>11434.120117</td>\n",
              "      <td>11479.389648</td>\n",
              "      <td>156290000</td>\n",
              "      <td>11479.389648</td>\n",
              "    </tr>\n",
              "    <tr>\n",
              "      <th>1983</th>\n",
              "      <td>2008-08-15</td>\n",
              "      <td>11611.209961</td>\n",
              "      <td>11709.889648</td>\n",
              "      <td>11599.730469</td>\n",
              "      <td>11659.900391</td>\n",
              "      <td>215040000</td>\n",
              "      <td>11659.900391</td>\n",
              "    </tr>\n",
              "    <tr>\n",
              "      <th>1984</th>\n",
              "      <td>2008-08-14</td>\n",
              "      <td>11532.070312</td>\n",
              "      <td>11718.280273</td>\n",
              "      <td>11450.889648</td>\n",
              "      <td>11615.929688</td>\n",
              "      <td>159790000</td>\n",
              "      <td>11615.929688</td>\n",
              "    </tr>\n",
              "    <tr>\n",
              "      <th>1985</th>\n",
              "      <td>2008-08-13</td>\n",
              "      <td>11632.809570</td>\n",
              "      <td>11633.780273</td>\n",
              "      <td>11453.339844</td>\n",
              "      <td>11532.959961</td>\n",
              "      <td>182550000</td>\n",
              "      <td>11532.959961</td>\n",
              "    </tr>\n",
              "    <tr>\n",
              "      <th>1986</th>\n",
              "      <td>2008-08-12</td>\n",
              "      <td>11781.700195</td>\n",
              "      <td>11782.349609</td>\n",
              "      <td>11601.519531</td>\n",
              "      <td>11642.469727</td>\n",
              "      <td>173590000</td>\n",
              "      <td>11642.469727</td>\n",
              "    </tr>\n",
              "    <tr>\n",
              "      <th>1987</th>\n",
              "      <td>2008-08-11</td>\n",
              "      <td>11729.669922</td>\n",
              "      <td>11867.110352</td>\n",
              "      <td>11675.530273</td>\n",
              "      <td>11782.349609</td>\n",
              "      <td>183190000</td>\n",
              "      <td>11782.349609</td>\n",
              "    </tr>\n",
              "    <tr>\n",
              "      <th>1988</th>\n",
              "      <td>2008-08-08</td>\n",
              "      <td>11432.089844</td>\n",
              "      <td>11759.959961</td>\n",
              "      <td>11388.040039</td>\n",
              "      <td>11734.320312</td>\n",
              "      <td>212830000</td>\n",
              "      <td>11734.320312</td>\n",
              "    </tr>\n",
              "  </tbody>\n",
              "</table>\n",
              "</div>"
            ],
            "text/plain": [
              "            Date          Open  ...     Volume     Adj Close\n",
              "1982  2008-08-18  11659.650391  ...  156290000  11479.389648\n",
              "1983  2008-08-15  11611.209961  ...  215040000  11659.900391\n",
              "1984  2008-08-14  11532.070312  ...  159790000  11615.929688\n",
              "1985  2008-08-13  11632.809570  ...  182550000  11532.959961\n",
              "1986  2008-08-12  11781.700195  ...  173590000  11642.469727\n",
              "1987  2008-08-11  11729.669922  ...  183190000  11782.349609\n",
              "1988  2008-08-08  11432.089844  ...  212830000  11734.320312\n",
              "\n",
              "[7 rows x 7 columns]"
            ]
          },
          "metadata": {
            "tags": []
          },
          "execution_count": 151
        }
      ]
    },
    {
      "cell_type": "markdown",
      "metadata": {
        "_uuid": "0d16f5649598feb417b990ac8d6e1571a193ef35",
        "id": "JAgGikLRm27f"
      },
      "source": [
        "### **df.iloc[[n],[n]]** <a id=\"39\"></a>\n",
        "This code brings the data in the N row and N column in the DataFrame.\n",
        "\n",
        "<mark>[Return Contents](#0)\n",
        "<hr>"
      ]
    },
    {
      "cell_type": "code",
      "metadata": {
        "_uuid": "de6796a0684aac7f6c37c9c9ff3e67308ba20adb",
        "colab": {
          "base_uri": "https://localhost:8080/",
          "height": 0
        },
        "id": "WW9XUOH2m27f",
        "outputId": "12f5864e-e33e-4036-8ec3-8ea3bb174d59"
      },
      "source": [
        "df.iloc[[0],[3]]"
      ],
      "execution_count": 75,
      "outputs": [
        {
          "output_type": "execute_result",
          "data": {
            "text/html": [
              "<div>\n",
              "<style scoped>\n",
              "    .dataframe tbody tr th:only-of-type {\n",
              "        vertical-align: middle;\n",
              "    }\n",
              "\n",
              "    .dataframe tbody tr th {\n",
              "        vertical-align: top;\n",
              "    }\n",
              "\n",
              "    .dataframe thead th {\n",
              "        text-align: right;\n",
              "    }\n",
              "</style>\n",
              "<table border=\"1\" class=\"dataframe\">\n",
              "  <thead>\n",
              "    <tr style=\"text-align: right;\">\n",
              "      <th></th>\n",
              "      <th>Low</th>\n",
              "    </tr>\n",
              "  </thead>\n",
              "  <tbody>\n",
              "    <tr>\n",
              "      <th>0</th>\n",
              "      <td>17916.910156</td>\n",
              "    </tr>\n",
              "  </tbody>\n",
              "</table>\n",
              "</div>"
            ],
            "text/plain": [
              "            Low\n",
              "0  17916.910156"
            ]
          },
          "metadata": {
            "tags": []
          },
          "execution_count": 75
        }
      ]
    },
    {
      "cell_type": "markdown",
      "metadata": {
        "_uuid": "bb3b27a4c73fa3bccaf3457e8a6a8bacdb7f8b88",
        "id": "NVQTQMNom27g"
      },
      "source": [
        "### **df.loc[n:n]** <a id=\"40\"></a>\n",
        "This code allows us to fetch the data in the range we specify.\n",
        "\n",
        "<mark>[Return Contents](#0)\n",
        "<hr>"
      ]
    },
    {
      "cell_type": "code",
      "metadata": {
        "_uuid": "e0791dc5f7012b248d6216bc3edfc5af591c50ea",
        "colab": {
          "base_uri": "https://localhost:8080/",
          "height": 0
        },
        "id": "DNboCa1tm27g",
        "outputId": "09f7eaca-8b38-424a-9044-d09eddbedd88"
      },
      "source": [
        "#df.loc[n:]\n",
        "# OR\n",
        "df.loc[5:7]"
      ],
      "execution_count": 76,
      "outputs": [
        {
          "output_type": "execute_result",
          "data": {
            "text/html": [
              "<div>\n",
              "<style scoped>\n",
              "    .dataframe tbody tr th:only-of-type {\n",
              "        vertical-align: middle;\n",
              "    }\n",
              "\n",
              "    .dataframe tbody tr th {\n",
              "        vertical-align: top;\n",
              "    }\n",
              "\n",
              "    .dataframe thead th {\n",
              "        text-align: right;\n",
              "    }\n",
              "</style>\n",
              "<table border=\"1\" class=\"dataframe\">\n",
              "  <thead>\n",
              "    <tr style=\"text-align: right;\">\n",
              "      <th></th>\n",
              "      <th>Date</th>\n",
              "      <th>Open</th>\n",
              "      <th>High</th>\n",
              "      <th>Low</th>\n",
              "      <th>Close</th>\n",
              "      <th>Volume</th>\n",
              "      <th>Adj Close</th>\n",
              "    </tr>\n",
              "  </thead>\n",
              "  <tbody>\n",
              "    <tr>\n",
              "      <th>5</th>\n",
              "      <td>2016-06-24</td>\n",
              "      <td>17946.630859</td>\n",
              "      <td>17946.630859</td>\n",
              "      <td>17356.339844</td>\n",
              "      <td>17400.750000</td>\n",
              "      <td>239000000</td>\n",
              "      <td>17400.750000</td>\n",
              "    </tr>\n",
              "    <tr>\n",
              "      <th>6</th>\n",
              "      <td>2016-06-23</td>\n",
              "      <td>17844.109375</td>\n",
              "      <td>18011.070312</td>\n",
              "      <td>17844.109375</td>\n",
              "      <td>18011.070312</td>\n",
              "      <td>98070000</td>\n",
              "      <td>18011.070312</td>\n",
              "    </tr>\n",
              "    <tr>\n",
              "      <th>7</th>\n",
              "      <td>2016-06-22</td>\n",
              "      <td>17832.669922</td>\n",
              "      <td>17920.160156</td>\n",
              "      <td>17770.359375</td>\n",
              "      <td>17780.830078</td>\n",
              "      <td>89440000</td>\n",
              "      <td>17780.830078</td>\n",
              "    </tr>\n",
              "  </tbody>\n",
              "</table>\n",
              "</div>"
            ],
            "text/plain": [
              "         Date          Open  ...     Volume     Adj Close\n",
              "5  2016-06-24  17946.630859  ...  239000000  17400.750000\n",
              "6  2016-06-23  17844.109375  ...   98070000  18011.070312\n",
              "7  2016-06-22  17832.669922  ...   89440000  17780.830078\n",
              "\n",
              "[3 rows x 7 columns]"
            ]
          },
          "metadata": {
            "tags": []
          },
          "execution_count": 76
        }
      ]
    },
    {
      "cell_type": "markdown",
      "metadata": {
        "_uuid": "5d7dfc275348d58e53436938e96d3233b4d6753e",
        "id": "4qrS7Anym27g"
      },
      "source": [
        "### **df['columnName']** <a id=\"41\"></a>\n",
        "With this code, we can select and bring any column we want.\n",
        "\n",
        "<mark>[Return Contents](#0)\n",
        "<hr>"
      ]
    },
    {
      "cell_type": "code",
      "metadata": {
        "_uuid": "da3167e40f0419054bde6e6d168bb22bce24973b",
        "colab": {
          "base_uri": "https://localhost:8080/"
        },
        "id": "Hk9k8hW5m27h",
        "outputId": "ad4cf234-84e4-4982-f586-87a072644dde"
      },
      "source": [
        "df['Open'].head()\n",
        "# OR\n",
        "# df.Open"
      ],
      "execution_count": 152,
      "outputs": [
        {
          "output_type": "execute_result",
          "data": {
            "text/plain": [
              "0    17924.240234\n",
              "1    17712.759766\n",
              "2    17456.019531\n",
              "3    17190.509766\n",
              "4    17355.210938\n",
              "Name: Open, dtype: float64"
            ]
          },
          "metadata": {
            "tags": []
          },
          "execution_count": 152
        }
      ]
    },
    {
      "cell_type": "markdown",
      "metadata": {
        "_uuid": "394d9e7a7b3bd7077a490a264ef4d308e035771f",
        "id": "5hO1N33am27h"
      },
      "source": [
        "### **df['columnName'][n]** <a id=\"42\"></a>\n",
        "With this code, we can select and return any value of the column we want.\n",
        "\n",
        "<mark>[Return Contents](#0)\n",
        "<hr>"
      ]
    },
    {
      "cell_type": "code",
      "metadata": {
        "_uuid": "40f514f220034b9d27c8390147c577f69a5c5dac",
        "colab": {
          "base_uri": "https://localhost:8080/"
        },
        "id": "h-miQiK4m27h",
        "outputId": "ea2dd697-0e90-421a-9261-df4bfae3b969"
      },
      "source": [
        "df['Open'][0]\n",
        "# OR\n",
        "# df.Open[0]\n",
        "# df[\"Open\"][1]\n",
        "# df.loc[1,[\"Open\"]]"
      ],
      "execution_count": 153,
      "outputs": [
        {
          "output_type": "execute_result",
          "data": {
            "text/plain": [
              "17924.240234"
            ]
          },
          "metadata": {
            "tags": []
          },
          "execution_count": 153
        }
      ]
    },
    {
      "cell_type": "markdown",
      "metadata": {
        "_uuid": "714c9cc591916b1bd88f2bc164a76aa37092ab3e",
        "id": "ADBu27L2m27i"
      },
      "source": [
        "### **df['columnName'].nunique()** <a id=\"43\"></a>\n",
        "This code shows how many of the data that is in the selected column and does not repeat.\n",
        "\n",
        "<mark>[Return Contents](#0)\n",
        "<hr>"
      ]
    },
    {
      "cell_type": "code",
      "metadata": {
        "_uuid": "7e5559e6f63e2d975e99666574f110b87a58e74a",
        "colab": {
          "base_uri": "https://localhost:8080/"
        },
        "id": "DwOxU0FZm27i",
        "outputId": "95d235ef-c322-46b7-856b-b79eddffc550"
      },
      "source": [
        "df['Open'].nunique()"
      ],
      "execution_count": 154,
      "outputs": [
        {
          "output_type": "execute_result",
          "data": {
            "text/plain": [
              "1980"
            ]
          },
          "metadata": {
            "tags": []
          },
          "execution_count": 154
        }
      ]
    },
    {
      "cell_type": "markdown",
      "metadata": {
        "_uuid": "1326f2c62207fd3345f16bfc5728b8ddf3988257",
        "id": "PQ7cevPEm27i"
      },
      "source": [
        "### **df['columnName'].unique()** <a id=\"44\"></a>\n",
        "This code shows which of the data in the selected column repeats.\n",
        "\n",
        "<mark>[Return Contents](#0)\n",
        "<hr>"
      ]
    },
    {
      "cell_type": "code",
      "metadata": {
        "_uuid": "88ffb43d255ad0a471be3a27732e3c5158ba8fd7",
        "colab": {
          "base_uri": "https://localhost:8080/"
        },
        "id": "KlOozpcCm27i",
        "outputId": "96ca83c5-434c-430c-cae8-62fbb0104d13"
      },
      "source": [
        "df['Open'].unique()\n",
        "# We can write the above code as follows:: df.Open.unique()"
      ],
      "execution_count": 155,
      "outputs": [
        {
          "output_type": "execute_result",
          "data": {
            "text/plain": [
              "array([17924.240234, 17712.759766, 17456.019531, ..., 11781.700195,\n",
              "       11729.669922, 11432.089844])"
            ]
          },
          "metadata": {
            "tags": []
          },
          "execution_count": 155
        }
      ]
    },
    {
      "cell_type": "markdown",
      "metadata": {
        "_uuid": "a394405d4c8055ace028e2b360af9a495e3aca79",
        "id": "-FcsmUwzm27k"
      },
      "source": [
        "### **df.columnName** <a id=\"45\"></a>\n",
        "This code is another way to select the column we want.\n",
        "\n",
        "<mark>[Return Contents](#0)\n",
        "<hr>"
      ]
    },
    {
      "cell_type": "code",
      "metadata": {
        "_uuid": "5fb80a8a47528d73d77d0369d27ad02855a675e6",
        "colab": {
          "base_uri": "https://localhost:8080/"
        },
        "id": "MuP7rMTHm27k",
        "outputId": "ad1e68d4-1cfd-4b4c-fa89-9daddc8d0946"
      },
      "source": [
        "df.Open.head()"
      ],
      "execution_count": 156,
      "outputs": [
        {
          "output_type": "execute_result",
          "data": {
            "text/plain": [
              "0    17924.240234\n",
              "1    17712.759766\n",
              "2    17456.019531\n",
              "3    17190.509766\n",
              "4    17355.210938\n",
              "Name: Open, dtype: float64"
            ]
          },
          "metadata": {
            "tags": []
          },
          "execution_count": 156
        }
      ]
    },
    {
      "cell_type": "markdown",
      "metadata": {
        "_uuid": "260398cf0a5fd7774021f5b85aa651d76869fe61",
        "id": "AGzyh5XDm27k"
      },
      "source": [
        "### **df['columnName'].value_counts(dropna =False)** <a id=\"46\"></a>\n",
        "This code counts all of the data in the column we have specified, but does not count the null/none values.\n",
        "\n",
        "<mark>[Return Contents](#0)\n",
        "<hr>"
      ]
    },
    {
      "cell_type": "code",
      "metadata": {
        "_uuid": "6bed66e2f74a1f00e10fad7cf874b962cb3bdfc8",
        "colab": {
          "base_uri": "https://localhost:8080/"
        },
        "id": "I0YYvdcKm27l",
        "outputId": "0459f055-56c7-4c21-9393-259ce60ecbd3"
      },
      "source": [
        "print(df.Open.value_counts(dropna =True).head())\n",
        "# OR\n",
        "# print(df['Item'].value_counts(dropna =False))"
      ],
      "execution_count": 157,
      "outputs": [
        {
          "output_type": "stream",
          "text": [
            "17374.779297    2\n",
            "18033.330078    2\n",
            "10309.389648    2\n",
            "17711.119141    2\n",
            "17812.250000    2\n",
            "Name: Open, dtype: int64\n"
          ],
          "name": "stdout"
        }
      ]
    },
    {
      "cell_type": "markdown",
      "metadata": {
        "_uuid": "f9b78c632be9052e8713a529fd74dd59ae769b71",
        "id": "-6wlmbaZm27l"
      },
      "source": [
        "### **df.head(n)** <a id=\"47\"></a>\n",
        "This code optionally brings in the first 5 data. returns the number of data that you type instead of N.\n",
        "\n",
        "<mark>[Return Contents](#0)\n",
        "<hr>"
      ]
    },
    {
      "cell_type": "code",
      "metadata": {
        "_uuid": "e9751b0512899f2d84eb07d8bd24b45351f564a3",
        "colab": {
          "base_uri": "https://localhost:8080/",
          "height": 204
        },
        "id": "5zhAdCQ-m27l",
        "outputId": "12482e40-1cb0-48e7-d704-c752ba1224e7"
      },
      "source": [
        "df.head()\n",
        "# OR\n",
        "# df.head(15)"
      ],
      "execution_count": 83,
      "outputs": [
        {
          "output_type": "execute_result",
          "data": {
            "text/html": [
              "<div>\n",
              "<style scoped>\n",
              "    .dataframe tbody tr th:only-of-type {\n",
              "        vertical-align: middle;\n",
              "    }\n",
              "\n",
              "    .dataframe tbody tr th {\n",
              "        vertical-align: top;\n",
              "    }\n",
              "\n",
              "    .dataframe thead th {\n",
              "        text-align: right;\n",
              "    }\n",
              "</style>\n",
              "<table border=\"1\" class=\"dataframe\">\n",
              "  <thead>\n",
              "    <tr style=\"text-align: right;\">\n",
              "      <th></th>\n",
              "      <th>Date</th>\n",
              "      <th>Open</th>\n",
              "      <th>High</th>\n",
              "      <th>Low</th>\n",
              "      <th>Close</th>\n",
              "      <th>Volume</th>\n",
              "      <th>Adj Close</th>\n",
              "    </tr>\n",
              "  </thead>\n",
              "  <tbody>\n",
              "    <tr>\n",
              "      <th>0</th>\n",
              "      <td>2016-07-01</td>\n",
              "      <td>17924.240234</td>\n",
              "      <td>18002.380859</td>\n",
              "      <td>17916.910156</td>\n",
              "      <td>17949.369141</td>\n",
              "      <td>82160000</td>\n",
              "      <td>17949.369141</td>\n",
              "    </tr>\n",
              "    <tr>\n",
              "      <th>1</th>\n",
              "      <td>2016-06-30</td>\n",
              "      <td>17712.759766</td>\n",
              "      <td>17930.609375</td>\n",
              "      <td>17711.800781</td>\n",
              "      <td>17929.990234</td>\n",
              "      <td>133030000</td>\n",
              "      <td>17929.990234</td>\n",
              "    </tr>\n",
              "    <tr>\n",
              "      <th>2</th>\n",
              "      <td>2016-06-29</td>\n",
              "      <td>17456.019531</td>\n",
              "      <td>17704.509766</td>\n",
              "      <td>17456.019531</td>\n",
              "      <td>17694.679688</td>\n",
              "      <td>106380000</td>\n",
              "      <td>17694.679688</td>\n",
              "    </tr>\n",
              "    <tr>\n",
              "      <th>3</th>\n",
              "      <td>2016-06-28</td>\n",
              "      <td>17190.509766</td>\n",
              "      <td>17409.720703</td>\n",
              "      <td>17190.509766</td>\n",
              "      <td>17409.720703</td>\n",
              "      <td>112190000</td>\n",
              "      <td>17409.720703</td>\n",
              "    </tr>\n",
              "    <tr>\n",
              "      <th>4</th>\n",
              "      <td>2016-06-27</td>\n",
              "      <td>17355.210938</td>\n",
              "      <td>17355.210938</td>\n",
              "      <td>17063.080078</td>\n",
              "      <td>17140.240234</td>\n",
              "      <td>138740000</td>\n",
              "      <td>17140.240234</td>\n",
              "    </tr>\n",
              "  </tbody>\n",
              "</table>\n",
              "</div>"
            ],
            "text/plain": [
              "         Date          Open  ...     Volume     Adj Close\n",
              "0  2016-07-01  17924.240234  ...   82160000  17949.369141\n",
              "1  2016-06-30  17712.759766  ...  133030000  17929.990234\n",
              "2  2016-06-29  17456.019531  ...  106380000  17694.679688\n",
              "3  2016-06-28  17190.509766  ...  112190000  17409.720703\n",
              "4  2016-06-27  17355.210938  ...  138740000  17140.240234\n",
              "\n",
              "[5 rows x 7 columns]"
            ]
          },
          "metadata": {
            "tags": []
          },
          "execution_count": 83
        }
      ]
    },
    {
      "cell_type": "markdown",
      "metadata": {
        "_uuid": "be2de7201deaea863247067fe5432746c0d04cba",
        "id": "4ep5gMZWm27m"
      },
      "source": [
        "### **df.tail(n)** <a id=\"48\"></a>\n",
        "This code optionally brings 5 data at the end. returns the number of data that you type instead of N.\n",
        "\n",
        "<mark>[Return Contents](#0)\n",
        "<hr>"
      ]
    },
    {
      "cell_type": "code",
      "metadata": {
        "_uuid": "318f20d9624d31dc6a3f8150523b266da9acfcc5",
        "colab": {
          "base_uri": "https://localhost:8080/",
          "height": 0
        },
        "id": "C9IYX9-Cm27m",
        "outputId": "5681ebe0-20c4-4553-c27e-6adcca5ae85f"
      },
      "source": [
        "df.tail()\n",
        "# OR\n",
        "# df.tail(20)"
      ],
      "execution_count": 84,
      "outputs": [
        {
          "output_type": "execute_result",
          "data": {
            "text/html": [
              "<div>\n",
              "<style scoped>\n",
              "    .dataframe tbody tr th:only-of-type {\n",
              "        vertical-align: middle;\n",
              "    }\n",
              "\n",
              "    .dataframe tbody tr th {\n",
              "        vertical-align: top;\n",
              "    }\n",
              "\n",
              "    .dataframe thead th {\n",
              "        text-align: right;\n",
              "    }\n",
              "</style>\n",
              "<table border=\"1\" class=\"dataframe\">\n",
              "  <thead>\n",
              "    <tr style=\"text-align: right;\">\n",
              "      <th></th>\n",
              "      <th>Date</th>\n",
              "      <th>Open</th>\n",
              "      <th>High</th>\n",
              "      <th>Low</th>\n",
              "      <th>Close</th>\n",
              "      <th>Volume</th>\n",
              "      <th>Adj Close</th>\n",
              "    </tr>\n",
              "  </thead>\n",
              "  <tbody>\n",
              "    <tr>\n",
              "      <th>1984</th>\n",
              "      <td>2008-08-14</td>\n",
              "      <td>11532.070312</td>\n",
              "      <td>11718.280273</td>\n",
              "      <td>11450.889648</td>\n",
              "      <td>11615.929688</td>\n",
              "      <td>159790000</td>\n",
              "      <td>11615.929688</td>\n",
              "    </tr>\n",
              "    <tr>\n",
              "      <th>1985</th>\n",
              "      <td>2008-08-13</td>\n",
              "      <td>11632.809570</td>\n",
              "      <td>11633.780273</td>\n",
              "      <td>11453.339844</td>\n",
              "      <td>11532.959961</td>\n",
              "      <td>182550000</td>\n",
              "      <td>11532.959961</td>\n",
              "    </tr>\n",
              "    <tr>\n",
              "      <th>1986</th>\n",
              "      <td>2008-08-12</td>\n",
              "      <td>11781.700195</td>\n",
              "      <td>11782.349609</td>\n",
              "      <td>11601.519531</td>\n",
              "      <td>11642.469727</td>\n",
              "      <td>173590000</td>\n",
              "      <td>11642.469727</td>\n",
              "    </tr>\n",
              "    <tr>\n",
              "      <th>1987</th>\n",
              "      <td>2008-08-11</td>\n",
              "      <td>11729.669922</td>\n",
              "      <td>11867.110352</td>\n",
              "      <td>11675.530273</td>\n",
              "      <td>11782.349609</td>\n",
              "      <td>183190000</td>\n",
              "      <td>11782.349609</td>\n",
              "    </tr>\n",
              "    <tr>\n",
              "      <th>1988</th>\n",
              "      <td>2008-08-08</td>\n",
              "      <td>11432.089844</td>\n",
              "      <td>11759.959961</td>\n",
              "      <td>11388.040039</td>\n",
              "      <td>11734.320312</td>\n",
              "      <td>212830000</td>\n",
              "      <td>11734.320312</td>\n",
              "    </tr>\n",
              "  </tbody>\n",
              "</table>\n",
              "</div>"
            ],
            "text/plain": [
              "            Date          Open  ...     Volume     Adj Close\n",
              "1984  2008-08-14  11532.070312  ...  159790000  11615.929688\n",
              "1985  2008-08-13  11632.809570  ...  182550000  11532.959961\n",
              "1986  2008-08-12  11781.700195  ...  173590000  11642.469727\n",
              "1987  2008-08-11  11729.669922  ...  183190000  11782.349609\n",
              "1988  2008-08-08  11432.089844  ...  212830000  11734.320312\n",
              "\n",
              "[5 rows x 7 columns]"
            ]
          },
          "metadata": {
            "tags": []
          },
          "execution_count": 84
        }
      ]
    },
    {
      "cell_type": "markdown",
      "metadata": {
        "_uuid": "fb84fc0ec1005c386ca34948dbc31a2f78482524",
        "id": "cttQmwkum27m"
      },
      "source": [
        "### **df.sample(n)** <a id=\"49\"></a>\n",
        "This code fetches random n data from the data.\n",
        "\n",
        "<mark>[Return Contents](#0)\n",
        "<hr>"
      ]
    },
    {
      "cell_type": "code",
      "metadata": {
        "_uuid": "9b7035347af1daf7a0ad44800c58655ec290a5ad",
        "colab": {
          "base_uri": "https://localhost:8080/",
          "height": 0
        },
        "id": "HPOXwg0Im27n",
        "outputId": "ec099a1b-aa94-475b-81fe-1ad333510b42"
      },
      "source": [
        "df.sample(5)"
      ],
      "execution_count": 85,
      "outputs": [
        {
          "output_type": "execute_result",
          "data": {
            "text/html": [
              "<div>\n",
              "<style scoped>\n",
              "    .dataframe tbody tr th:only-of-type {\n",
              "        vertical-align: middle;\n",
              "    }\n",
              "\n",
              "    .dataframe tbody tr th {\n",
              "        vertical-align: top;\n",
              "    }\n",
              "\n",
              "    .dataframe thead th {\n",
              "        text-align: right;\n",
              "    }\n",
              "</style>\n",
              "<table border=\"1\" class=\"dataframe\">\n",
              "  <thead>\n",
              "    <tr style=\"text-align: right;\">\n",
              "      <th></th>\n",
              "      <th>Date</th>\n",
              "      <th>Open</th>\n",
              "      <th>High</th>\n",
              "      <th>Low</th>\n",
              "      <th>Close</th>\n",
              "      <th>Volume</th>\n",
              "      <th>Adj Close</th>\n",
              "    </tr>\n",
              "  </thead>\n",
              "  <tbody>\n",
              "    <tr>\n",
              "      <th>281</th>\n",
              "      <td>2015-05-21</td>\n",
              "      <td>18285.869141</td>\n",
              "      <td>18314.890625</td>\n",
              "      <td>18249.900391</td>\n",
              "      <td>18285.740234</td>\n",
              "      <td>84270000</td>\n",
              "      <td>18285.740234</td>\n",
              "    </tr>\n",
              "    <tr>\n",
              "      <th>843</th>\n",
              "      <td>2013-02-27</td>\n",
              "      <td>13900.129883</td>\n",
              "      <td>14104.860352</td>\n",
              "      <td>13880.190430</td>\n",
              "      <td>14075.370117</td>\n",
              "      <td>107010000</td>\n",
              "      <td>14075.370117</td>\n",
              "    </tr>\n",
              "    <tr>\n",
              "      <th>1602</th>\n",
              "      <td>2010-02-22</td>\n",
              "      <td>10402.429688</td>\n",
              "      <td>10433.639648</td>\n",
              "      <td>10368.950195</td>\n",
              "      <td>10383.379883</td>\n",
              "      <td>158440000</td>\n",
              "      <td>10383.379883</td>\n",
              "    </tr>\n",
              "    <tr>\n",
              "      <th>1834</th>\n",
              "      <td>2009-03-20</td>\n",
              "      <td>7402.310059</td>\n",
              "      <td>7460.930176</td>\n",
              "      <td>7257.830078</td>\n",
              "      <td>7278.379883</td>\n",
              "      <td>672950000</td>\n",
              "      <td>7278.379883</td>\n",
              "    </tr>\n",
              "    <tr>\n",
              "      <th>1274</th>\n",
              "      <td>2011-06-09</td>\n",
              "      <td>12049.469727</td>\n",
              "      <td>12183.120117</td>\n",
              "      <td>12049.089844</td>\n",
              "      <td>12124.360352</td>\n",
              "      <td>149700000</td>\n",
              "      <td>12124.360352</td>\n",
              "    </tr>\n",
              "  </tbody>\n",
              "</table>\n",
              "</div>"
            ],
            "text/plain": [
              "            Date          Open  ...     Volume     Adj Close\n",
              "281   2015-05-21  18285.869141  ...   84270000  18285.740234\n",
              "843   2013-02-27  13900.129883  ...  107010000  14075.370117\n",
              "1602  2010-02-22  10402.429688  ...  158440000  10383.379883\n",
              "1834  2009-03-20   7402.310059  ...  672950000   7278.379883\n",
              "1274  2011-06-09  12049.469727  ...  149700000  12124.360352\n",
              "\n",
              "[5 rows x 7 columns]"
            ]
          },
          "metadata": {
            "tags": []
          },
          "execution_count": 85
        }
      ]
    },
    {
      "cell_type": "markdown",
      "metadata": {
        "_uuid": "5fc0c9e236247779b6f929004ba980bf2bb3487a",
        "id": "S8wdp3hcm27n"
      },
      "source": [
        "### **df.sample(frac=0.5)** <a id=\"50\"></a>\n",
        "This code selects the fractions of random rows and fetches the data to that extent.\n",
        "\n",
        "<mark>[Return Contents](#0)\n",
        "<hr>"
      ]
    },
    {
      "cell_type": "code",
      "metadata": {
        "_uuid": "501b38a9b6abe3f5fed9da98a0d4d0fb095fe2c5",
        "colab": {
          "base_uri": "https://localhost:8080/",
          "height": 0
        },
        "id": "C5MWC4HLm27n",
        "outputId": "4a33de25-55ca-43eb-8283-008b2e689c3b"
      },
      "source": [
        "df.sample(frac=0.5).head()"
      ],
      "execution_count": 86,
      "outputs": [
        {
          "output_type": "execute_result",
          "data": {
            "text/html": [
              "<div>\n",
              "<style scoped>\n",
              "    .dataframe tbody tr th:only-of-type {\n",
              "        vertical-align: middle;\n",
              "    }\n",
              "\n",
              "    .dataframe tbody tr th {\n",
              "        vertical-align: top;\n",
              "    }\n",
              "\n",
              "    .dataframe thead th {\n",
              "        text-align: right;\n",
              "    }\n",
              "</style>\n",
              "<table border=\"1\" class=\"dataframe\">\n",
              "  <thead>\n",
              "    <tr style=\"text-align: right;\">\n",
              "      <th></th>\n",
              "      <th>Date</th>\n",
              "      <th>Open</th>\n",
              "      <th>High</th>\n",
              "      <th>Low</th>\n",
              "      <th>Close</th>\n",
              "      <th>Volume</th>\n",
              "      <th>Adj Close</th>\n",
              "    </tr>\n",
              "  </thead>\n",
              "  <tbody>\n",
              "    <tr>\n",
              "      <th>53</th>\n",
              "      <td>2016-04-18</td>\n",
              "      <td>17890.199219</td>\n",
              "      <td>18009.529297</td>\n",
              "      <td>17848.220703</td>\n",
              "      <td>18004.160156</td>\n",
              "      <td>89390000</td>\n",
              "      <td>18004.160156</td>\n",
              "    </tr>\n",
              "    <tr>\n",
              "      <th>1077</th>\n",
              "      <td>2012-03-21</td>\n",
              "      <td>13170.790039</td>\n",
              "      <td>13190.019531</td>\n",
              "      <td>13112.929688</td>\n",
              "      <td>13124.620117</td>\n",
              "      <td>124860000</td>\n",
              "      <td>13124.620117</td>\n",
              "    </tr>\n",
              "    <tr>\n",
              "      <th>1863</th>\n",
              "      <td>2009-02-06</td>\n",
              "      <td>8056.379883</td>\n",
              "      <td>8312.370117</td>\n",
              "      <td>8052.240234</td>\n",
              "      <td>8280.589844</td>\n",
              "      <td>396380000</td>\n",
              "      <td>8280.589844</td>\n",
              "    </tr>\n",
              "    <tr>\n",
              "      <th>1292</th>\n",
              "      <td>2011-05-13</td>\n",
              "      <td>12695.650391</td>\n",
              "      <td>12714.500000</td>\n",
              "      <td>12543.190430</td>\n",
              "      <td>12595.750000</td>\n",
              "      <td>169940000</td>\n",
              "      <td>12595.750000</td>\n",
              "    </tr>\n",
              "    <tr>\n",
              "      <th>392</th>\n",
              "      <td>2014-12-10</td>\n",
              "      <td>17797.990234</td>\n",
              "      <td>17797.990234</td>\n",
              "      <td>17508.099609</td>\n",
              "      <td>17533.150391</td>\n",
              "      <td>115100000</td>\n",
              "      <td>17533.150391</td>\n",
              "    </tr>\n",
              "  </tbody>\n",
              "</table>\n",
              "</div>"
            ],
            "text/plain": [
              "            Date          Open  ...     Volume     Adj Close\n",
              "53    2016-04-18  17890.199219  ...   89390000  18004.160156\n",
              "1077  2012-03-21  13170.790039  ...  124860000  13124.620117\n",
              "1863  2009-02-06   8056.379883  ...  396380000   8280.589844\n",
              "1292  2011-05-13  12695.650391  ...  169940000  12595.750000\n",
              "392   2014-12-10  17797.990234  ...  115100000  17533.150391\n",
              "\n",
              "[5 rows x 7 columns]"
            ]
          },
          "metadata": {
            "tags": []
          },
          "execution_count": 86
        }
      ]
    },
    {
      "cell_type": "markdown",
      "metadata": {
        "_uuid": "f900885737988b1cb56df881fda6920eaa07381c",
        "id": "ZkZInEIXm27o"
      },
      "source": [
        "### **df.nlargest(n,'columnName')** <a id=\"51\"></a>\n",
        "This code brings N from the column where we have specified the largest data.\n",
        "\n",
        "<mark>[Return Contents](#0)\n",
        "<hr>"
      ]
    },
    {
      "cell_type": "code",
      "metadata": {
        "_uuid": "2d61d5cb304bf17ef3ec00395152afece27eea42",
        "colab": {
          "base_uri": "https://localhost:8080/",
          "height": 0
        },
        "id": "0pVZUiunm27o",
        "outputId": "bb659d7c-a932-4363-cbb4-ad7dda0916ce"
      },
      "source": [
        "df.nlargest(5,'Open')"
      ],
      "execution_count": 87,
      "outputs": [
        {
          "output_type": "execute_result",
          "data": {
            "text/html": [
              "<div>\n",
              "<style scoped>\n",
              "    .dataframe tbody tr th:only-of-type {\n",
              "        vertical-align: middle;\n",
              "    }\n",
              "\n",
              "    .dataframe tbody tr th {\n",
              "        vertical-align: top;\n",
              "    }\n",
              "\n",
              "    .dataframe thead th {\n",
              "        text-align: right;\n",
              "    }\n",
              "</style>\n",
              "<table border=\"1\" class=\"dataframe\">\n",
              "  <thead>\n",
              "    <tr style=\"text-align: right;\">\n",
              "      <th></th>\n",
              "      <th>Date</th>\n",
              "      <th>Open</th>\n",
              "      <th>High</th>\n",
              "      <th>Low</th>\n",
              "      <th>Close</th>\n",
              "      <th>Volume</th>\n",
              "      <th>Adj Close</th>\n",
              "    </tr>\n",
              "  </thead>\n",
              "  <tbody>\n",
              "    <tr>\n",
              "      <th>282</th>\n",
              "      <td>2015-05-20</td>\n",
              "      <td>18315.060547</td>\n",
              "      <td>18350.130859</td>\n",
              "      <td>18272.560547</td>\n",
              "      <td>18285.400391</td>\n",
              "      <td>80190000</td>\n",
              "      <td>18285.400391</td>\n",
              "    </tr>\n",
              "    <tr>\n",
              "      <th>283</th>\n",
              "      <td>2015-05-19</td>\n",
              "      <td>18300.480469</td>\n",
              "      <td>18351.359375</td>\n",
              "      <td>18261.349609</td>\n",
              "      <td>18312.390625</td>\n",
              "      <td>87200000</td>\n",
              "      <td>18312.390625</td>\n",
              "    </tr>\n",
              "    <tr>\n",
              "      <th>280</th>\n",
              "      <td>2015-05-22</td>\n",
              "      <td>18286.869141</td>\n",
              "      <td>18286.869141</td>\n",
              "      <td>18217.140625</td>\n",
              "      <td>18232.019531</td>\n",
              "      <td>78890000</td>\n",
              "      <td>18232.019531</td>\n",
              "    </tr>\n",
              "    <tr>\n",
              "      <th>281</th>\n",
              "      <td>2015-05-21</td>\n",
              "      <td>18285.869141</td>\n",
              "      <td>18314.890625</td>\n",
              "      <td>18249.900391</td>\n",
              "      <td>18285.740234</td>\n",
              "      <td>84270000</td>\n",
              "      <td>18285.740234</td>\n",
              "    </tr>\n",
              "    <tr>\n",
              "      <th>337</th>\n",
              "      <td>2015-03-03</td>\n",
              "      <td>18281.949219</td>\n",
              "      <td>18281.949219</td>\n",
              "      <td>18136.880859</td>\n",
              "      <td>18203.369141</td>\n",
              "      <td>83830000</td>\n",
              "      <td>18203.369141</td>\n",
              "    </tr>\n",
              "  </tbody>\n",
              "</table>\n",
              "</div>"
            ],
            "text/plain": [
              "           Date          Open  ...    Volume     Adj Close\n",
              "282  2015-05-20  18315.060547  ...  80190000  18285.400391\n",
              "283  2015-05-19  18300.480469  ...  87200000  18312.390625\n",
              "280  2015-05-22  18286.869141  ...  78890000  18232.019531\n",
              "281  2015-05-21  18285.869141  ...  84270000  18285.740234\n",
              "337  2015-03-03  18281.949219  ...  83830000  18203.369141\n",
              "\n",
              "[5 rows x 7 columns]"
            ]
          },
          "metadata": {
            "tags": []
          },
          "execution_count": 87
        }
      ]
    },
    {
      "cell_type": "markdown",
      "metadata": {
        "_uuid": "e925e067c524cabf599b4b4cc36c55332590a4b0",
        "id": "jQXtv5wjm27o"
      },
      "source": [
        "### **df.nsmallest(n,'columnName')** <a id=\"52\"></a>\n",
        "This code brings N from the column where we have specified the smallest data.\n",
        "\n",
        "<mark>[Return Contents](#0)\n",
        "<hr>"
      ]
    },
    {
      "cell_type": "code",
      "metadata": {
        "_uuid": "1cb8e5e34abb9f9cbdc2963d9b8fdb0c0109c17d",
        "colab": {
          "base_uri": "https://localhost:8080/",
          "height": 0
        },
        "id": "8KmitSsFm27p",
        "outputId": "74baa26a-32c6-4436-9e6c-569ceef426d2"
      },
      "source": [
        "df.nsmallest(3,'Open')"
      ],
      "execution_count": 88,
      "outputs": [
        {
          "output_type": "execute_result",
          "data": {
            "text/html": [
              "<div>\n",
              "<style scoped>\n",
              "    .dataframe tbody tr th:only-of-type {\n",
              "        vertical-align: middle;\n",
              "    }\n",
              "\n",
              "    .dataframe tbody tr th {\n",
              "        vertical-align: top;\n",
              "    }\n",
              "\n",
              "    .dataframe thead th {\n",
              "        text-align: right;\n",
              "    }\n",
              "</style>\n",
              "<table border=\"1\" class=\"dataframe\">\n",
              "  <thead>\n",
              "    <tr style=\"text-align: right;\">\n",
              "      <th></th>\n",
              "      <th>Date</th>\n",
              "      <th>Open</th>\n",
              "      <th>High</th>\n",
              "      <th>Low</th>\n",
              "      <th>Close</th>\n",
              "      <th>Volume</th>\n",
              "      <th>Adj Close</th>\n",
              "    </tr>\n",
              "  </thead>\n",
              "  <tbody>\n",
              "    <tr>\n",
              "      <th>1842</th>\n",
              "      <td>2009-03-10</td>\n",
              "      <td>6547.009766</td>\n",
              "      <td>6926.490234</td>\n",
              "      <td>6546.609863</td>\n",
              "      <td>6926.490234</td>\n",
              "      <td>640020000</td>\n",
              "      <td>6926.490234</td>\n",
              "    </tr>\n",
              "    <tr>\n",
              "      <th>1844</th>\n",
              "      <td>2009-03-06</td>\n",
              "      <td>6595.160156</td>\n",
              "      <td>6755.169922</td>\n",
              "      <td>6469.950195</td>\n",
              "      <td>6626.939941</td>\n",
              "      <td>425170000</td>\n",
              "      <td>6626.939941</td>\n",
              "    </tr>\n",
              "    <tr>\n",
              "      <th>1843</th>\n",
              "      <td>2009-03-09</td>\n",
              "      <td>6625.740234</td>\n",
              "      <td>6709.609863</td>\n",
              "      <td>6516.859863</td>\n",
              "      <td>6547.049805</td>\n",
              "      <td>365990000</td>\n",
              "      <td>6547.049805</td>\n",
              "    </tr>\n",
              "  </tbody>\n",
              "</table>\n",
              "</div>"
            ],
            "text/plain": [
              "            Date         Open         High  ...        Close     Volume    Adj Close\n",
              "1842  2009-03-10  6547.009766  6926.490234  ...  6926.490234  640020000  6926.490234\n",
              "1844  2009-03-06  6595.160156  6755.169922  ...  6626.939941  425170000  6626.939941\n",
              "1843  2009-03-09  6625.740234  6709.609863  ...  6547.049805  365990000  6547.049805\n",
              "\n",
              "[3 rows x 7 columns]"
            ]
          },
          "metadata": {
            "tags": []
          },
          "execution_count": 88
        }
      ]
    },
    {
      "cell_type": "markdown",
      "metadata": {
        "_uuid": "a51ee840ca8cd0400f2c4d95221158b25133d12f",
        "id": "UY4KqIECm27p"
      },
      "source": [
        "### **df[df.columnName < 5]** <a id=\"53\"></a>\n",
        "This code returns the column name we have specified, which is less than 5.\n",
        "\n",
        "<mark>[Return Contents](#0)\n",
        "<hr>"
      ]
    },
    {
      "cell_type": "code",
      "metadata": {
        "_uuid": "52be41ac78b67ca5c95a18199fa7f09f2d2efc4c",
        "colab": {
          "base_uri": "https://localhost:8080/",
          "height": 0
        },
        "id": "Bl0sBJjlm27p",
        "outputId": "007d4981-5948-4c7f-85c7-11385b1cecc5"
      },
      "source": [
        "df[df.Open > 18281.949219]"
      ],
      "execution_count": 89,
      "outputs": [
        {
          "output_type": "execute_result",
          "data": {
            "text/html": [
              "<div>\n",
              "<style scoped>\n",
              "    .dataframe tbody tr th:only-of-type {\n",
              "        vertical-align: middle;\n",
              "    }\n",
              "\n",
              "    .dataframe tbody tr th {\n",
              "        vertical-align: top;\n",
              "    }\n",
              "\n",
              "    .dataframe thead th {\n",
              "        text-align: right;\n",
              "    }\n",
              "</style>\n",
              "<table border=\"1\" class=\"dataframe\">\n",
              "  <thead>\n",
              "    <tr style=\"text-align: right;\">\n",
              "      <th></th>\n",
              "      <th>Date</th>\n",
              "      <th>Open</th>\n",
              "      <th>High</th>\n",
              "      <th>Low</th>\n",
              "      <th>Close</th>\n",
              "      <th>Volume</th>\n",
              "      <th>Adj Close</th>\n",
              "    </tr>\n",
              "  </thead>\n",
              "  <tbody>\n",
              "    <tr>\n",
              "      <th>280</th>\n",
              "      <td>2015-05-22</td>\n",
              "      <td>18286.869141</td>\n",
              "      <td>18286.869141</td>\n",
              "      <td>18217.140625</td>\n",
              "      <td>18232.019531</td>\n",
              "      <td>78890000</td>\n",
              "      <td>18232.019531</td>\n",
              "    </tr>\n",
              "    <tr>\n",
              "      <th>281</th>\n",
              "      <td>2015-05-21</td>\n",
              "      <td>18285.869141</td>\n",
              "      <td>18314.890625</td>\n",
              "      <td>18249.900391</td>\n",
              "      <td>18285.740234</td>\n",
              "      <td>84270000</td>\n",
              "      <td>18285.740234</td>\n",
              "    </tr>\n",
              "    <tr>\n",
              "      <th>282</th>\n",
              "      <td>2015-05-20</td>\n",
              "      <td>18315.060547</td>\n",
              "      <td>18350.130859</td>\n",
              "      <td>18272.560547</td>\n",
              "      <td>18285.400391</td>\n",
              "      <td>80190000</td>\n",
              "      <td>18285.400391</td>\n",
              "    </tr>\n",
              "    <tr>\n",
              "      <th>283</th>\n",
              "      <td>2015-05-19</td>\n",
              "      <td>18300.480469</td>\n",
              "      <td>18351.359375</td>\n",
              "      <td>18261.349609</td>\n",
              "      <td>18312.390625</td>\n",
              "      <td>87200000</td>\n",
              "      <td>18312.390625</td>\n",
              "    </tr>\n",
              "  </tbody>\n",
              "</table>\n",
              "</div>"
            ],
            "text/plain": [
              "           Date          Open  ...    Volume     Adj Close\n",
              "280  2015-05-22  18286.869141  ...  78890000  18232.019531\n",
              "281  2015-05-21  18285.869141  ...  84270000  18285.740234\n",
              "282  2015-05-20  18315.060547  ...  80190000  18285.400391\n",
              "283  2015-05-19  18300.480469  ...  87200000  18312.390625\n",
              "\n",
              "[4 rows x 7 columns]"
            ]
          },
          "metadata": {
            "tags": []
          },
          "execution_count": 89
        }
      ]
    },
    {
      "cell_type": "markdown",
      "metadata": {
        "_uuid": "b0ff118b7df06756d55ce9196aa558325e214b23",
        "id": "eo9p0y5Ym27q"
      },
      "source": [
        "### **df[['columnName','columnName']]** <a id=\"54\"></a>\n",
        "This code helps us pick and bring any columns we want.\n",
        "\n",
        "<mark>[Return Contents](#0)\n",
        "<hr>"
      ]
    },
    {
      "cell_type": "code",
      "metadata": {
        "_uuid": "979f91158aaba4a2c287c70096c4f63f289da3e5",
        "colab": {
          "base_uri": "https://localhost:8080/",
          "height": 0
        },
        "id": "b9y4lq2om27q",
        "outputId": "92cb2bd5-47e8-4033-c72b-0b22316c55c2"
      },
      "source": [
        "df[['High','Low']].head()\n",
        "# df.loc[:,[\"High\",\"Low\"]]"
      ],
      "execution_count": 90,
      "outputs": [
        {
          "output_type": "execute_result",
          "data": {
            "text/html": [
              "<div>\n",
              "<style scoped>\n",
              "    .dataframe tbody tr th:only-of-type {\n",
              "        vertical-align: middle;\n",
              "    }\n",
              "\n",
              "    .dataframe tbody tr th {\n",
              "        vertical-align: top;\n",
              "    }\n",
              "\n",
              "    .dataframe thead th {\n",
              "        text-align: right;\n",
              "    }\n",
              "</style>\n",
              "<table border=\"1\" class=\"dataframe\">\n",
              "  <thead>\n",
              "    <tr style=\"text-align: right;\">\n",
              "      <th></th>\n",
              "      <th>High</th>\n",
              "      <th>Low</th>\n",
              "    </tr>\n",
              "  </thead>\n",
              "  <tbody>\n",
              "    <tr>\n",
              "      <th>0</th>\n",
              "      <td>18002.380859</td>\n",
              "      <td>17916.910156</td>\n",
              "    </tr>\n",
              "    <tr>\n",
              "      <th>1</th>\n",
              "      <td>17930.609375</td>\n",
              "      <td>17711.800781</td>\n",
              "    </tr>\n",
              "    <tr>\n",
              "      <th>2</th>\n",
              "      <td>17704.509766</td>\n",
              "      <td>17456.019531</td>\n",
              "    </tr>\n",
              "    <tr>\n",
              "      <th>3</th>\n",
              "      <td>17409.720703</td>\n",
              "      <td>17190.509766</td>\n",
              "    </tr>\n",
              "    <tr>\n",
              "      <th>4</th>\n",
              "      <td>17355.210938</td>\n",
              "      <td>17063.080078</td>\n",
              "    </tr>\n",
              "  </tbody>\n",
              "</table>\n",
              "</div>"
            ],
            "text/plain": [
              "           High           Low\n",
              "0  18002.380859  17916.910156\n",
              "1  17930.609375  17711.800781\n",
              "2  17704.509766  17456.019531\n",
              "3  17409.720703  17190.509766\n",
              "4  17355.210938  17063.080078"
            ]
          },
          "metadata": {
            "tags": []
          },
          "execution_count": 90
        }
      ]
    },
    {
      "cell_type": "markdown",
      "metadata": {
        "_uuid": "33045814a6e5e2735bedffbfe5c69184e7e2a68a",
        "id": "H43qeD4Jm27q"
      },
      "source": [
        "### **df.loc[:,\"columnName1\":\"columnName2\"]** <a id=\"55\"></a>\n",
        "This code returns columns from columnname1 to columnname2.\n",
        "\n",
        "<mark>[Return Contents](#0)\n",
        "<hr>"
      ]
    },
    {
      "cell_type": "code",
      "metadata": {
        "_uuid": "3fef8f90c9972582f593a0af3dae462146bc871d",
        "colab": {
          "base_uri": "https://localhost:8080/",
          "height": 0
        },
        "id": "KZAD3N8-m27r",
        "outputId": "37734789-5e7d-4199-9669-d4857ba88981"
      },
      "source": [
        "df.loc[:,\"Date\":\"Close\"].head()\n",
        "# OR\n",
        "# data.loc[:3,\"Date\":\"Close\"]"
      ],
      "execution_count": 91,
      "outputs": [
        {
          "output_type": "execute_result",
          "data": {
            "text/html": [
              "<div>\n",
              "<style scoped>\n",
              "    .dataframe tbody tr th:only-of-type {\n",
              "        vertical-align: middle;\n",
              "    }\n",
              "\n",
              "    .dataframe tbody tr th {\n",
              "        vertical-align: top;\n",
              "    }\n",
              "\n",
              "    .dataframe thead th {\n",
              "        text-align: right;\n",
              "    }\n",
              "</style>\n",
              "<table border=\"1\" class=\"dataframe\">\n",
              "  <thead>\n",
              "    <tr style=\"text-align: right;\">\n",
              "      <th></th>\n",
              "      <th>Date</th>\n",
              "      <th>Open</th>\n",
              "      <th>High</th>\n",
              "      <th>Low</th>\n",
              "      <th>Close</th>\n",
              "    </tr>\n",
              "  </thead>\n",
              "  <tbody>\n",
              "    <tr>\n",
              "      <th>0</th>\n",
              "      <td>2016-07-01</td>\n",
              "      <td>17924.240234</td>\n",
              "      <td>18002.380859</td>\n",
              "      <td>17916.910156</td>\n",
              "      <td>17949.369141</td>\n",
              "    </tr>\n",
              "    <tr>\n",
              "      <th>1</th>\n",
              "      <td>2016-06-30</td>\n",
              "      <td>17712.759766</td>\n",
              "      <td>17930.609375</td>\n",
              "      <td>17711.800781</td>\n",
              "      <td>17929.990234</td>\n",
              "    </tr>\n",
              "    <tr>\n",
              "      <th>2</th>\n",
              "      <td>2016-06-29</td>\n",
              "      <td>17456.019531</td>\n",
              "      <td>17704.509766</td>\n",
              "      <td>17456.019531</td>\n",
              "      <td>17694.679688</td>\n",
              "    </tr>\n",
              "    <tr>\n",
              "      <th>3</th>\n",
              "      <td>2016-06-28</td>\n",
              "      <td>17190.509766</td>\n",
              "      <td>17409.720703</td>\n",
              "      <td>17190.509766</td>\n",
              "      <td>17409.720703</td>\n",
              "    </tr>\n",
              "    <tr>\n",
              "      <th>4</th>\n",
              "      <td>2016-06-27</td>\n",
              "      <td>17355.210938</td>\n",
              "      <td>17355.210938</td>\n",
              "      <td>17063.080078</td>\n",
              "      <td>17140.240234</td>\n",
              "    </tr>\n",
              "  </tbody>\n",
              "</table>\n",
              "</div>"
            ],
            "text/plain": [
              "         Date          Open          High           Low         Close\n",
              "0  2016-07-01  17924.240234  18002.380859  17916.910156  17949.369141\n",
              "1  2016-06-30  17712.759766  17930.609375  17711.800781  17929.990234\n",
              "2  2016-06-29  17456.019531  17704.509766  17456.019531  17694.679688\n",
              "3  2016-06-28  17190.509766  17409.720703  17190.509766  17409.720703\n",
              "4  2016-06-27  17355.210938  17355.210938  17063.080078  17140.240234"
            ]
          },
          "metadata": {
            "tags": []
          },
          "execution_count": 91
        }
      ]
    },
    {
      "cell_type": "markdown",
      "metadata": {
        "_uuid": "09d20f2795a29736a8a444f1f7bd1bdf3bb607d0",
        "id": "D2Ie9ShYm27r"
      },
      "source": [
        "### **Create Filter** <a id=\"56\"></a>\n",
        "<mark>[Return Contents](#0)\n",
        "<hr>"
      ]
    },
    {
      "cell_type": "code",
      "metadata": {
        "_uuid": "920f513014e6ef5a46f13a71c24a0114e3fb9c44",
        "colab": {
          "base_uri": "https://localhost:8080/",
          "height": 0
        },
        "id": "T_HsJ7Oam27r",
        "outputId": "33e7c6d0-5efd-4bb4-918f-216102581af1"
      },
      "source": [
        "filters = df.Date > '2016-06-27'\n",
        "df[filters]"
      ],
      "execution_count": 92,
      "outputs": [
        {
          "output_type": "execute_result",
          "data": {
            "text/html": [
              "<div>\n",
              "<style scoped>\n",
              "    .dataframe tbody tr th:only-of-type {\n",
              "        vertical-align: middle;\n",
              "    }\n",
              "\n",
              "    .dataframe tbody tr th {\n",
              "        vertical-align: top;\n",
              "    }\n",
              "\n",
              "    .dataframe thead th {\n",
              "        text-align: right;\n",
              "    }\n",
              "</style>\n",
              "<table border=\"1\" class=\"dataframe\">\n",
              "  <thead>\n",
              "    <tr style=\"text-align: right;\">\n",
              "      <th></th>\n",
              "      <th>Date</th>\n",
              "      <th>Open</th>\n",
              "      <th>High</th>\n",
              "      <th>Low</th>\n",
              "      <th>Close</th>\n",
              "      <th>Volume</th>\n",
              "      <th>Adj Close</th>\n",
              "    </tr>\n",
              "  </thead>\n",
              "  <tbody>\n",
              "    <tr>\n",
              "      <th>0</th>\n",
              "      <td>2016-07-01</td>\n",
              "      <td>17924.240234</td>\n",
              "      <td>18002.380859</td>\n",
              "      <td>17916.910156</td>\n",
              "      <td>17949.369141</td>\n",
              "      <td>82160000</td>\n",
              "      <td>17949.369141</td>\n",
              "    </tr>\n",
              "    <tr>\n",
              "      <th>1</th>\n",
              "      <td>2016-06-30</td>\n",
              "      <td>17712.759766</td>\n",
              "      <td>17930.609375</td>\n",
              "      <td>17711.800781</td>\n",
              "      <td>17929.990234</td>\n",
              "      <td>133030000</td>\n",
              "      <td>17929.990234</td>\n",
              "    </tr>\n",
              "    <tr>\n",
              "      <th>2</th>\n",
              "      <td>2016-06-29</td>\n",
              "      <td>17456.019531</td>\n",
              "      <td>17704.509766</td>\n",
              "      <td>17456.019531</td>\n",
              "      <td>17694.679688</td>\n",
              "      <td>106380000</td>\n",
              "      <td>17694.679688</td>\n",
              "    </tr>\n",
              "    <tr>\n",
              "      <th>3</th>\n",
              "      <td>2016-06-28</td>\n",
              "      <td>17190.509766</td>\n",
              "      <td>17409.720703</td>\n",
              "      <td>17190.509766</td>\n",
              "      <td>17409.720703</td>\n",
              "      <td>112190000</td>\n",
              "      <td>17409.720703</td>\n",
              "    </tr>\n",
              "  </tbody>\n",
              "</table>\n",
              "</div>"
            ],
            "text/plain": [
              "         Date          Open  ...     Volume     Adj Close\n",
              "0  2016-07-01  17924.240234  ...   82160000  17949.369141\n",
              "1  2016-06-30  17712.759766  ...  133030000  17929.990234\n",
              "2  2016-06-29  17456.019531  ...  106380000  17694.679688\n",
              "3  2016-06-28  17190.509766  ...  112190000  17409.720703\n",
              "\n",
              "[4 rows x 7 columns]"
            ]
          },
          "metadata": {
            "tags": []
          },
          "execution_count": 92
        }
      ]
    },
    {
      "cell_type": "markdown",
      "metadata": {
        "_uuid": "efa55b8fad561c2fa5b23cf16ada80388ffb1d89",
        "id": "Mdxzdbrim27s"
      },
      "source": [
        "### **df.filter(regex = 'code')** <a id=\"57\"></a>\n",
        "This code allows regex to filter any data we want.\n",
        "\n",
        "<mark>[Return Contents](#0)\n",
        "<hr>"
      ]
    },
    {
      "cell_type": "code",
      "metadata": {
        "_uuid": "391f736af8220b16ffe4dd371e7d1701b22af190",
        "colab": {
          "base_uri": "https://localhost:8080/",
          "height": 204
        },
        "id": "cVTdZ_D1m27s",
        "outputId": "62d43b31-7915-404b-8a5b-2ea57905a3b2"
      },
      "source": [
        "df.filter(regex='^L').head()"
      ],
      "execution_count": 158,
      "outputs": [
        {
          "output_type": "execute_result",
          "data": {
            "text/html": [
              "<div>\n",
              "<style scoped>\n",
              "    .dataframe tbody tr th:only-of-type {\n",
              "        vertical-align: middle;\n",
              "    }\n",
              "\n",
              "    .dataframe tbody tr th {\n",
              "        vertical-align: top;\n",
              "    }\n",
              "\n",
              "    .dataframe thead th {\n",
              "        text-align: right;\n",
              "    }\n",
              "</style>\n",
              "<table border=\"1\" class=\"dataframe\">\n",
              "  <thead>\n",
              "    <tr style=\"text-align: right;\">\n",
              "      <th></th>\n",
              "      <th>Low</th>\n",
              "    </tr>\n",
              "  </thead>\n",
              "  <tbody>\n",
              "    <tr>\n",
              "      <th>0</th>\n",
              "      <td>17916.910156</td>\n",
              "    </tr>\n",
              "    <tr>\n",
              "      <th>1</th>\n",
              "      <td>17711.800781</td>\n",
              "    </tr>\n",
              "    <tr>\n",
              "      <th>2</th>\n",
              "      <td>17456.019531</td>\n",
              "    </tr>\n",
              "    <tr>\n",
              "      <th>3</th>\n",
              "      <td>17190.509766</td>\n",
              "    </tr>\n",
              "    <tr>\n",
              "      <th>4</th>\n",
              "      <td>17063.080078</td>\n",
              "    </tr>\n",
              "  </tbody>\n",
              "</table>\n",
              "</div>"
            ],
            "text/plain": [
              "            Low\n",
              "0  17916.910156\n",
              "1  17711.800781\n",
              "2  17456.019531\n",
              "3  17190.509766\n",
              "4  17063.080078"
            ]
          },
          "metadata": {
            "tags": []
          },
          "execution_count": 158
        }
      ]
    },
    {
      "cell_type": "markdown",
      "metadata": {
        "_uuid": "98565ee61d70ee8c2684209457d341afd009cd52",
        "id": "VzmdutOsm27s"
      },
      "source": [
        "### **np.logical_and** <a id=\"58\"></a>\n",
        "Filtering with logical_and. Lets look at the example.\n",
        "\n",
        "<mark>[Return Contents](#0)\n",
        "<hr>"
      ]
    },
    {
      "cell_type": "code",
      "metadata": {
        "_uuid": "502a7a68ee0e0901db77c9ef66b2b41946936396",
        "colab": {
          "base_uri": "https://localhost:8080/",
          "height": 111
        },
        "id": "hPKzxhbOm27s",
        "outputId": "e43272be-e10b-4a0d-db5f-6c95aefbb542"
      },
      "source": [
        "df[np.logical_and(df['Open']>18281.949219, df['Date']>'2015-05-20' )]"
      ],
      "execution_count": 160,
      "outputs": [
        {
          "output_type": "execute_result",
          "data": {
            "text/html": [
              "<div>\n",
              "<style scoped>\n",
              "    .dataframe tbody tr th:only-of-type {\n",
              "        vertical-align: middle;\n",
              "    }\n",
              "\n",
              "    .dataframe tbody tr th {\n",
              "        vertical-align: top;\n",
              "    }\n",
              "\n",
              "    .dataframe thead th {\n",
              "        text-align: right;\n",
              "    }\n",
              "</style>\n",
              "<table border=\"1\" class=\"dataframe\">\n",
              "  <thead>\n",
              "    <tr style=\"text-align: right;\">\n",
              "      <th></th>\n",
              "      <th>Date</th>\n",
              "      <th>Open</th>\n",
              "      <th>High</th>\n",
              "      <th>Low</th>\n",
              "      <th>Close</th>\n",
              "      <th>Volume</th>\n",
              "      <th>Adj Close</th>\n",
              "    </tr>\n",
              "  </thead>\n",
              "  <tbody>\n",
              "    <tr>\n",
              "      <th>280</th>\n",
              "      <td>2015-05-22</td>\n",
              "      <td>18286.869141</td>\n",
              "      <td>18286.869141</td>\n",
              "      <td>18217.140625</td>\n",
              "      <td>18232.019531</td>\n",
              "      <td>78890000</td>\n",
              "      <td>18232.019531</td>\n",
              "    </tr>\n",
              "    <tr>\n",
              "      <th>281</th>\n",
              "      <td>2015-05-21</td>\n",
              "      <td>18285.869141</td>\n",
              "      <td>18314.890625</td>\n",
              "      <td>18249.900391</td>\n",
              "      <td>18285.740234</td>\n",
              "      <td>84270000</td>\n",
              "      <td>18285.740234</td>\n",
              "    </tr>\n",
              "  </tbody>\n",
              "</table>\n",
              "</div>"
            ],
            "text/plain": [
              "           Date          Open  ...    Volume     Adj Close\n",
              "280  2015-05-22  18286.869141  ...  78890000  18232.019531\n",
              "281  2015-05-21  18285.869141  ...  84270000  18285.740234\n",
              "\n",
              "[2 rows x 7 columns]"
            ]
          },
          "metadata": {
            "tags": []
          },
          "execution_count": 160
        }
      ]
    },
    {
      "cell_type": "markdown",
      "metadata": {
        "_uuid": "be8cc807047dd7037f0013d573c58573649c3097",
        "id": "BTsjpb2lm27t"
      },
      "source": [
        "### **Filtering with &** <a id=\"59\"></a>\n",
        "<mark>[Return Contents](#0)\n",
        "<hr>"
      ]
    },
    {
      "cell_type": "code",
      "metadata": {
        "_uuid": "48930d97ce2d7aebf9fc44d41ef9a21b21ece804",
        "colab": {
          "base_uri": "https://localhost:8080/",
          "height": 111
        },
        "id": "SuaITbZbm27t",
        "outputId": "f7195c73-0244-44b8-96d9-a00c62ddf3f5"
      },
      "source": [
        "df[(df['Open']>18281.949219) & (df['Date']>'2015-05-20')]"
      ],
      "execution_count": 161,
      "outputs": [
        {
          "output_type": "execute_result",
          "data": {
            "text/html": [
              "<div>\n",
              "<style scoped>\n",
              "    .dataframe tbody tr th:only-of-type {\n",
              "        vertical-align: middle;\n",
              "    }\n",
              "\n",
              "    .dataframe tbody tr th {\n",
              "        vertical-align: top;\n",
              "    }\n",
              "\n",
              "    .dataframe thead th {\n",
              "        text-align: right;\n",
              "    }\n",
              "</style>\n",
              "<table border=\"1\" class=\"dataframe\">\n",
              "  <thead>\n",
              "    <tr style=\"text-align: right;\">\n",
              "      <th></th>\n",
              "      <th>Date</th>\n",
              "      <th>Open</th>\n",
              "      <th>High</th>\n",
              "      <th>Low</th>\n",
              "      <th>Close</th>\n",
              "      <th>Volume</th>\n",
              "      <th>Adj Close</th>\n",
              "    </tr>\n",
              "  </thead>\n",
              "  <tbody>\n",
              "    <tr>\n",
              "      <th>280</th>\n",
              "      <td>2015-05-22</td>\n",
              "      <td>18286.869141</td>\n",
              "      <td>18286.869141</td>\n",
              "      <td>18217.140625</td>\n",
              "      <td>18232.019531</td>\n",
              "      <td>78890000</td>\n",
              "      <td>18232.019531</td>\n",
              "    </tr>\n",
              "    <tr>\n",
              "      <th>281</th>\n",
              "      <td>2015-05-21</td>\n",
              "      <td>18285.869141</td>\n",
              "      <td>18314.890625</td>\n",
              "      <td>18249.900391</td>\n",
              "      <td>18285.740234</td>\n",
              "      <td>84270000</td>\n",
              "      <td>18285.740234</td>\n",
              "    </tr>\n",
              "  </tbody>\n",
              "</table>\n",
              "</div>"
            ],
            "text/plain": [
              "           Date          Open  ...    Volume     Adj Close\n",
              "280  2015-05-22  18286.869141  ...  78890000  18232.019531\n",
              "281  2015-05-21  18285.869141  ...  84270000  18285.740234\n",
              "\n",
              "[2 rows x 7 columns]"
            ]
          },
          "metadata": {
            "tags": []
          },
          "execution_count": 161
        }
      ]
    },
    {
      "cell_type": "markdown",
      "metadata": {
        "_uuid": "9bb0b4f8e2b1b4e5c4d1d54404078201fe64b774",
        "id": "4ZiEp0jbm27t"
      },
      "source": [
        "# **Sort Data** <a id=\"60\"></a>\n",
        "\n",
        "<mark>[Return Contents](#0)\n",
        "<hr>\n",
        "\n",
        "### **df.sort_values('columnName')** <a id=\"61\"></a>\n",
        "This code sorts the column we specify in the form of low to high."
      ]
    },
    {
      "cell_type": "code",
      "metadata": {
        "_uuid": "f15141d1d55decedc9682157f4f02be6ece75be2",
        "colab": {
          "base_uri": "https://localhost:8080/",
          "height": 204
        },
        "id": "wQNO0Nzpm27u",
        "outputId": "b94b1ebe-2814-4d50-c007-80e4f720889b"
      },
      "source": [
        "df.sort_values('Open').head()"
      ],
      "execution_count": 162,
      "outputs": [
        {
          "output_type": "execute_result",
          "data": {
            "text/html": [
              "<div>\n",
              "<style scoped>\n",
              "    .dataframe tbody tr th:only-of-type {\n",
              "        vertical-align: middle;\n",
              "    }\n",
              "\n",
              "    .dataframe tbody tr th {\n",
              "        vertical-align: top;\n",
              "    }\n",
              "\n",
              "    .dataframe thead th {\n",
              "        text-align: right;\n",
              "    }\n",
              "</style>\n",
              "<table border=\"1\" class=\"dataframe\">\n",
              "  <thead>\n",
              "    <tr style=\"text-align: right;\">\n",
              "      <th></th>\n",
              "      <th>Date</th>\n",
              "      <th>Open</th>\n",
              "      <th>High</th>\n",
              "      <th>Low</th>\n",
              "      <th>Close</th>\n",
              "      <th>Volume</th>\n",
              "      <th>Adj Close</th>\n",
              "    </tr>\n",
              "  </thead>\n",
              "  <tbody>\n",
              "    <tr>\n",
              "      <th>1842</th>\n",
              "      <td>2009-03-10</td>\n",
              "      <td>6547.009766</td>\n",
              "      <td>6926.490234</td>\n",
              "      <td>6546.609863</td>\n",
              "      <td>6926.490234</td>\n",
              "      <td>640020000</td>\n",
              "      <td>6926.490234</td>\n",
              "    </tr>\n",
              "    <tr>\n",
              "      <th>1844</th>\n",
              "      <td>2009-03-06</td>\n",
              "      <td>6595.160156</td>\n",
              "      <td>6755.169922</td>\n",
              "      <td>6469.950195</td>\n",
              "      <td>6626.939941</td>\n",
              "      <td>425170000</td>\n",
              "      <td>6626.939941</td>\n",
              "    </tr>\n",
              "    <tr>\n",
              "      <th>1843</th>\n",
              "      <td>2009-03-09</td>\n",
              "      <td>6625.740234</td>\n",
              "      <td>6709.609863</td>\n",
              "      <td>6516.859863</td>\n",
              "      <td>6547.049805</td>\n",
              "      <td>365990000</td>\n",
              "      <td>6547.049805</td>\n",
              "    </tr>\n",
              "    <tr>\n",
              "      <th>1846</th>\n",
              "      <td>2009-03-04</td>\n",
              "      <td>6726.500000</td>\n",
              "      <td>6979.220215</td>\n",
              "      <td>6726.419922</td>\n",
              "      <td>6875.839844</td>\n",
              "      <td>464830000</td>\n",
              "      <td>6875.839844</td>\n",
              "    </tr>\n",
              "    <tr>\n",
              "      <th>1847</th>\n",
              "      <td>2009-03-03</td>\n",
              "      <td>6764.810059</td>\n",
              "      <td>6855.290039</td>\n",
              "      <td>6705.629883</td>\n",
              "      <td>6726.020020</td>\n",
              "      <td>445280000</td>\n",
              "      <td>6726.020020</td>\n",
              "    </tr>\n",
              "  </tbody>\n",
              "</table>\n",
              "</div>"
            ],
            "text/plain": [
              "            Date         Open         High  ...        Close     Volume    Adj Close\n",
              "1842  2009-03-10  6547.009766  6926.490234  ...  6926.490234  640020000  6926.490234\n",
              "1844  2009-03-06  6595.160156  6755.169922  ...  6626.939941  425170000  6626.939941\n",
              "1843  2009-03-09  6625.740234  6709.609863  ...  6547.049805  365990000  6547.049805\n",
              "1846  2009-03-04  6726.500000  6979.220215  ...  6875.839844  464830000  6875.839844\n",
              "1847  2009-03-03  6764.810059  6855.290039  ...  6726.020020  445280000  6726.020020\n",
              "\n",
              "[5 rows x 7 columns]"
            ]
          },
          "metadata": {
            "tags": []
          },
          "execution_count": 162
        }
      ]
    },
    {
      "cell_type": "markdown",
      "metadata": {
        "_uuid": "8816e0ceab950045905c67d7782733690001908c",
        "id": "ynQ0oJarm27u"
      },
      "source": [
        "### **df.sort_values('columnName', ascending=False)** <a id=\"62\"></a>\n",
        "This code is the column we specify in the form of high to low.\n",
        "\n",
        "<mark>[Return Contents](#0)\n",
        "<hr>"
      ]
    },
    {
      "cell_type": "code",
      "metadata": {
        "_uuid": "13f2b3ac2b4c80f75acdcbdfa08fbcd5c61fd710",
        "colab": {
          "base_uri": "https://localhost:8080/",
          "height": 204
        },
        "id": "h5P32fFWm27u",
        "outputId": "ceeb032b-5738-4675-9a04-2d3bbf65311a"
      },
      "source": [
        "df.sort_values('Date', ascending=False).head()"
      ],
      "execution_count": 163,
      "outputs": [
        {
          "output_type": "execute_result",
          "data": {
            "text/html": [
              "<div>\n",
              "<style scoped>\n",
              "    .dataframe tbody tr th:only-of-type {\n",
              "        vertical-align: middle;\n",
              "    }\n",
              "\n",
              "    .dataframe tbody tr th {\n",
              "        vertical-align: top;\n",
              "    }\n",
              "\n",
              "    .dataframe thead th {\n",
              "        text-align: right;\n",
              "    }\n",
              "</style>\n",
              "<table border=\"1\" class=\"dataframe\">\n",
              "  <thead>\n",
              "    <tr style=\"text-align: right;\">\n",
              "      <th></th>\n",
              "      <th>Date</th>\n",
              "      <th>Open</th>\n",
              "      <th>High</th>\n",
              "      <th>Low</th>\n",
              "      <th>Close</th>\n",
              "      <th>Volume</th>\n",
              "      <th>Adj Close</th>\n",
              "    </tr>\n",
              "  </thead>\n",
              "  <tbody>\n",
              "    <tr>\n",
              "      <th>0</th>\n",
              "      <td>2016-07-01</td>\n",
              "      <td>17924.240234</td>\n",
              "      <td>18002.380859</td>\n",
              "      <td>17916.910156</td>\n",
              "      <td>17949.369141</td>\n",
              "      <td>82160000</td>\n",
              "      <td>17949.369141</td>\n",
              "    </tr>\n",
              "    <tr>\n",
              "      <th>1</th>\n",
              "      <td>2016-06-30</td>\n",
              "      <td>17712.759766</td>\n",
              "      <td>17930.609375</td>\n",
              "      <td>17711.800781</td>\n",
              "      <td>17929.990234</td>\n",
              "      <td>133030000</td>\n",
              "      <td>17929.990234</td>\n",
              "    </tr>\n",
              "    <tr>\n",
              "      <th>2</th>\n",
              "      <td>2016-06-29</td>\n",
              "      <td>17456.019531</td>\n",
              "      <td>17704.509766</td>\n",
              "      <td>17456.019531</td>\n",
              "      <td>17694.679688</td>\n",
              "      <td>106380000</td>\n",
              "      <td>17694.679688</td>\n",
              "    </tr>\n",
              "    <tr>\n",
              "      <th>3</th>\n",
              "      <td>2016-06-28</td>\n",
              "      <td>17190.509766</td>\n",
              "      <td>17409.720703</td>\n",
              "      <td>17190.509766</td>\n",
              "      <td>17409.720703</td>\n",
              "      <td>112190000</td>\n",
              "      <td>17409.720703</td>\n",
              "    </tr>\n",
              "    <tr>\n",
              "      <th>4</th>\n",
              "      <td>2016-06-27</td>\n",
              "      <td>17355.210938</td>\n",
              "      <td>17355.210938</td>\n",
              "      <td>17063.080078</td>\n",
              "      <td>17140.240234</td>\n",
              "      <td>138740000</td>\n",
              "      <td>17140.240234</td>\n",
              "    </tr>\n",
              "  </tbody>\n",
              "</table>\n",
              "</div>"
            ],
            "text/plain": [
              "         Date          Open  ...     Volume     Adj Close\n",
              "0  2016-07-01  17924.240234  ...   82160000  17949.369141\n",
              "1  2016-06-30  17712.759766  ...  133030000  17929.990234\n",
              "2  2016-06-29  17456.019531  ...  106380000  17694.679688\n",
              "3  2016-06-28  17190.509766  ...  112190000  17409.720703\n",
              "4  2016-06-27  17355.210938  ...  138740000  17140.240234\n",
              "\n",
              "[5 rows x 7 columns]"
            ]
          },
          "metadata": {
            "tags": []
          },
          "execution_count": 163
        }
      ]
    },
    {
      "cell_type": "markdown",
      "metadata": {
        "_uuid": "8cba417bec9ee6ac67ed1e37c2132842e4cfefb9",
        "id": "k2PjIvQOm27v"
      },
      "source": [
        "### **df.sort_index()** <a id=\"63\"></a>\n",
        "This code sorts from small to large according to the DataFrame index.\n",
        "\n",
        "<mark>[Return Contents](#0)\n",
        "<hr>"
      ]
    },
    {
      "cell_type": "code",
      "metadata": {
        "_uuid": "0317290f54888b03bf983a84382c6f78494a2a25",
        "colab": {
          "base_uri": "https://localhost:8080/",
          "height": 204
        },
        "id": "36kODUV6m27w",
        "outputId": "9c652552-c0d0-4c77-a612-9f0d26b6cf72"
      },
      "source": [
        "df.sort_index().head()"
      ],
      "execution_count": 164,
      "outputs": [
        {
          "output_type": "execute_result",
          "data": {
            "text/html": [
              "<div>\n",
              "<style scoped>\n",
              "    .dataframe tbody tr th:only-of-type {\n",
              "        vertical-align: middle;\n",
              "    }\n",
              "\n",
              "    .dataframe tbody tr th {\n",
              "        vertical-align: top;\n",
              "    }\n",
              "\n",
              "    .dataframe thead th {\n",
              "        text-align: right;\n",
              "    }\n",
              "</style>\n",
              "<table border=\"1\" class=\"dataframe\">\n",
              "  <thead>\n",
              "    <tr style=\"text-align: right;\">\n",
              "      <th></th>\n",
              "      <th>Date</th>\n",
              "      <th>Open</th>\n",
              "      <th>High</th>\n",
              "      <th>Low</th>\n",
              "      <th>Close</th>\n",
              "      <th>Volume</th>\n",
              "      <th>Adj Close</th>\n",
              "    </tr>\n",
              "  </thead>\n",
              "  <tbody>\n",
              "    <tr>\n",
              "      <th>0</th>\n",
              "      <td>2016-07-01</td>\n",
              "      <td>17924.240234</td>\n",
              "      <td>18002.380859</td>\n",
              "      <td>17916.910156</td>\n",
              "      <td>17949.369141</td>\n",
              "      <td>82160000</td>\n",
              "      <td>17949.369141</td>\n",
              "    </tr>\n",
              "    <tr>\n",
              "      <th>1</th>\n",
              "      <td>2016-06-30</td>\n",
              "      <td>17712.759766</td>\n",
              "      <td>17930.609375</td>\n",
              "      <td>17711.800781</td>\n",
              "      <td>17929.990234</td>\n",
              "      <td>133030000</td>\n",
              "      <td>17929.990234</td>\n",
              "    </tr>\n",
              "    <tr>\n",
              "      <th>2</th>\n",
              "      <td>2016-06-29</td>\n",
              "      <td>17456.019531</td>\n",
              "      <td>17704.509766</td>\n",
              "      <td>17456.019531</td>\n",
              "      <td>17694.679688</td>\n",
              "      <td>106380000</td>\n",
              "      <td>17694.679688</td>\n",
              "    </tr>\n",
              "    <tr>\n",
              "      <th>3</th>\n",
              "      <td>2016-06-28</td>\n",
              "      <td>17190.509766</td>\n",
              "      <td>17409.720703</td>\n",
              "      <td>17190.509766</td>\n",
              "      <td>17409.720703</td>\n",
              "      <td>112190000</td>\n",
              "      <td>17409.720703</td>\n",
              "    </tr>\n",
              "    <tr>\n",
              "      <th>4</th>\n",
              "      <td>2016-06-27</td>\n",
              "      <td>17355.210938</td>\n",
              "      <td>17355.210938</td>\n",
              "      <td>17063.080078</td>\n",
              "      <td>17140.240234</td>\n",
              "      <td>138740000</td>\n",
              "      <td>17140.240234</td>\n",
              "    </tr>\n",
              "  </tbody>\n",
              "</table>\n",
              "</div>"
            ],
            "text/plain": [
              "         Date          Open  ...     Volume     Adj Close\n",
              "0  2016-07-01  17924.240234  ...   82160000  17949.369141\n",
              "1  2016-06-30  17712.759766  ...  133030000  17929.990234\n",
              "2  2016-06-29  17456.019531  ...  106380000  17694.679688\n",
              "3  2016-06-28  17190.509766  ...  112190000  17409.720703\n",
              "4  2016-06-27  17355.210938  ...  138740000  17140.240234\n",
              "\n",
              "[5 rows x 7 columns]"
            ]
          },
          "metadata": {
            "tags": []
          },
          "execution_count": 164
        }
      ]
    },
    {
      "cell_type": "markdown",
      "metadata": {
        "_uuid": "1e10d8a4929a0bd2587d0826dc863d35784bcd68",
        "id": "8cjtT-CRm27w"
      },
      "source": [
        "# **Rename & Defining New & Change Columns** <a id=\"64\"></a>\n",
        "<mark>[Return Contents](#0)\n",
        "<hr>"
      ]
    },
    {
      "cell_type": "markdown",
      "metadata": {
        "_uuid": "e6d2f6146eee2aec07942640be832e6f465f8b13",
        "id": "KW0K6QWVm27w"
      },
      "source": [
        "### **df.rename(columns= {'columnName' : 'newColumnName'})** <a id=\"65\"></a>\n",
        "This code helps us change the column name. The code I wrote below changes the ID value, but as we did not assign the change to the variable DF, it seems to be unchanged as you see below."
      ]
    },
    {
      "cell_type": "code",
      "metadata": {
        "_uuid": "f9629a7d893e2d06b28cd894755960b330abc5f1",
        "colab": {
          "base_uri": "https://localhost:8080/",
          "height": 235
        },
        "id": "54uE4B8Ym27w",
        "outputId": "b4acf357-1de2-4d91-d315-5354d44bacca"
      },
      "source": [
        "df.rename(columns= {'Adj Close' : 'Adjclose'}).head()\n",
        "# df = df.rename(columns= {'Id' : 'Identif'}, inplace=True) -> True way\n",
        "# inplace= True or False; This meaning, overwrite the data set.\n",
        "# Other Way\n",
        "# df.columns = ['date', 'open', 'high', 'low', 'close', 'volume', 'adjclose']"
      ],
      "execution_count": 170,
      "outputs": [
        {
          "output_type": "execute_result",
          "data": {
            "text/html": [
              "<div>\n",
              "<style scoped>\n",
              "    .dataframe tbody tr th:only-of-type {\n",
              "        vertical-align: middle;\n",
              "    }\n",
              "\n",
              "    .dataframe tbody tr th {\n",
              "        vertical-align: top;\n",
              "    }\n",
              "\n",
              "    .dataframe thead th {\n",
              "        text-align: right;\n",
              "    }\n",
              "</style>\n",
              "<table border=\"1\" class=\"dataframe\">\n",
              "  <thead>\n",
              "    <tr style=\"text-align: right;\">\n",
              "      <th></th>\n",
              "      <th>Date</th>\n",
              "      <th>Open</th>\n",
              "      <th>High</th>\n",
              "      <th>Low</th>\n",
              "      <th>Close</th>\n",
              "      <th>Volume</th>\n",
              "      <th>Adjclose</th>\n",
              "      <th>Difference</th>\n",
              "    </tr>\n",
              "    <tr>\n",
              "      <th>index_name</th>\n",
              "      <th></th>\n",
              "      <th></th>\n",
              "      <th></th>\n",
              "      <th></th>\n",
              "      <th></th>\n",
              "      <th></th>\n",
              "      <th></th>\n",
              "      <th></th>\n",
              "    </tr>\n",
              "  </thead>\n",
              "  <tbody>\n",
              "    <tr>\n",
              "      <th>0</th>\n",
              "      <td>2016-07-01</td>\n",
              "      <td>17924.240234</td>\n",
              "      <td>18002.380859</td>\n",
              "      <td>17916.910156</td>\n",
              "      <td>17949.369141</td>\n",
              "      <td>82160000</td>\n",
              "      <td>17949.369141</td>\n",
              "      <td>85.470703</td>\n",
              "    </tr>\n",
              "    <tr>\n",
              "      <th>1</th>\n",
              "      <td>2016-06-30</td>\n",
              "      <td>17712.759766</td>\n",
              "      <td>17930.609375</td>\n",
              "      <td>17711.800781</td>\n",
              "      <td>17929.990234</td>\n",
              "      <td>133030000</td>\n",
              "      <td>17929.990234</td>\n",
              "      <td>218.808594</td>\n",
              "    </tr>\n",
              "    <tr>\n",
              "      <th>2</th>\n",
              "      <td>2016-06-29</td>\n",
              "      <td>17456.019531</td>\n",
              "      <td>17704.509766</td>\n",
              "      <td>17456.019531</td>\n",
              "      <td>17694.679688</td>\n",
              "      <td>106380000</td>\n",
              "      <td>17694.679688</td>\n",
              "      <td>248.490235</td>\n",
              "    </tr>\n",
              "    <tr>\n",
              "      <th>3</th>\n",
              "      <td>2016-06-28</td>\n",
              "      <td>17190.509766</td>\n",
              "      <td>17409.720703</td>\n",
              "      <td>17190.509766</td>\n",
              "      <td>17409.720703</td>\n",
              "      <td>112190000</td>\n",
              "      <td>17409.720703</td>\n",
              "      <td>219.210937</td>\n",
              "    </tr>\n",
              "    <tr>\n",
              "      <th>4</th>\n",
              "      <td>2016-06-27</td>\n",
              "      <td>17355.210938</td>\n",
              "      <td>17355.210938</td>\n",
              "      <td>17063.080078</td>\n",
              "      <td>17140.240234</td>\n",
              "      <td>138740000</td>\n",
              "      <td>17140.240234</td>\n",
              "      <td>292.130860</td>\n",
              "    </tr>\n",
              "  </tbody>\n",
              "</table>\n",
              "</div>"
            ],
            "text/plain": [
              "                  Date          Open  ...      Adjclose  Difference\n",
              "index_name                            ...                          \n",
              "0           2016-07-01  17924.240234  ...  17949.369141   85.470703\n",
              "1           2016-06-30  17712.759766  ...  17929.990234  218.808594\n",
              "2           2016-06-29  17456.019531  ...  17694.679688  248.490235\n",
              "3           2016-06-28  17190.509766  ...  17409.720703  219.210937\n",
              "4           2016-06-27  17355.210938  ...  17140.240234  292.130860\n",
              "\n",
              "[5 rows x 8 columns]"
            ]
          },
          "metadata": {
            "tags": []
          },
          "execution_count": 170
        }
      ]
    },
    {
      "cell_type": "markdown",
      "metadata": {
        "_uuid": "589a1f14eb9a14430b16fe7bdbb7f8f75739a672",
        "id": "zh5QGZi5m27x"
      },
      "source": [
        "###  **Defining New Column** <a id=\"66\"></a>\n",
        "Create a new column\n",
        "\n",
        "<mark>[Return Contents](#0)\n",
        "<hr>"
      ]
    },
    {
      "cell_type": "code",
      "metadata": {
        "_uuid": "6056aa5ff4fbfa729cf28f13fe12693bc2baad24",
        "colab": {
          "base_uri": "https://localhost:8080/",
          "height": 235
        },
        "id": "CuxwlIgYm27x",
        "outputId": "19033362-7ab9-486f-f7f4-5158b93b735a"
      },
      "source": [
        "df[\"Difference\"] = df.High - df.Low\n",
        "df.head()"
      ],
      "execution_count": 171,
      "outputs": [
        {
          "output_type": "execute_result",
          "data": {
            "text/html": [
              "<div>\n",
              "<style scoped>\n",
              "    .dataframe tbody tr th:only-of-type {\n",
              "        vertical-align: middle;\n",
              "    }\n",
              "\n",
              "    .dataframe tbody tr th {\n",
              "        vertical-align: top;\n",
              "    }\n",
              "\n",
              "    .dataframe thead th {\n",
              "        text-align: right;\n",
              "    }\n",
              "</style>\n",
              "<table border=\"1\" class=\"dataframe\">\n",
              "  <thead>\n",
              "    <tr style=\"text-align: right;\">\n",
              "      <th></th>\n",
              "      <th>Date</th>\n",
              "      <th>Open</th>\n",
              "      <th>High</th>\n",
              "      <th>Low</th>\n",
              "      <th>Close</th>\n",
              "      <th>Volume</th>\n",
              "      <th>Adj Close</th>\n",
              "      <th>Difference</th>\n",
              "    </tr>\n",
              "    <tr>\n",
              "      <th>index_name</th>\n",
              "      <th></th>\n",
              "      <th></th>\n",
              "      <th></th>\n",
              "      <th></th>\n",
              "      <th></th>\n",
              "      <th></th>\n",
              "      <th></th>\n",
              "      <th></th>\n",
              "    </tr>\n",
              "  </thead>\n",
              "  <tbody>\n",
              "    <tr>\n",
              "      <th>0</th>\n",
              "      <td>2016-07-01</td>\n",
              "      <td>17924.240234</td>\n",
              "      <td>18002.380859</td>\n",
              "      <td>17916.910156</td>\n",
              "      <td>17949.369141</td>\n",
              "      <td>82160000</td>\n",
              "      <td>17949.369141</td>\n",
              "      <td>85.470703</td>\n",
              "    </tr>\n",
              "    <tr>\n",
              "      <th>1</th>\n",
              "      <td>2016-06-30</td>\n",
              "      <td>17712.759766</td>\n",
              "      <td>17930.609375</td>\n",
              "      <td>17711.800781</td>\n",
              "      <td>17929.990234</td>\n",
              "      <td>133030000</td>\n",
              "      <td>17929.990234</td>\n",
              "      <td>218.808594</td>\n",
              "    </tr>\n",
              "    <tr>\n",
              "      <th>2</th>\n",
              "      <td>2016-06-29</td>\n",
              "      <td>17456.019531</td>\n",
              "      <td>17704.509766</td>\n",
              "      <td>17456.019531</td>\n",
              "      <td>17694.679688</td>\n",
              "      <td>106380000</td>\n",
              "      <td>17694.679688</td>\n",
              "      <td>248.490235</td>\n",
              "    </tr>\n",
              "    <tr>\n",
              "      <th>3</th>\n",
              "      <td>2016-06-28</td>\n",
              "      <td>17190.509766</td>\n",
              "      <td>17409.720703</td>\n",
              "      <td>17190.509766</td>\n",
              "      <td>17409.720703</td>\n",
              "      <td>112190000</td>\n",
              "      <td>17409.720703</td>\n",
              "      <td>219.210937</td>\n",
              "    </tr>\n",
              "    <tr>\n",
              "      <th>4</th>\n",
              "      <td>2016-06-27</td>\n",
              "      <td>17355.210938</td>\n",
              "      <td>17355.210938</td>\n",
              "      <td>17063.080078</td>\n",
              "      <td>17140.240234</td>\n",
              "      <td>138740000</td>\n",
              "      <td>17140.240234</td>\n",
              "      <td>292.130860</td>\n",
              "    </tr>\n",
              "  </tbody>\n",
              "</table>\n",
              "</div>"
            ],
            "text/plain": [
              "                  Date          Open  ...     Adj Close  Difference\n",
              "index_name                            ...                          \n",
              "0           2016-07-01  17924.240234  ...  17949.369141   85.470703\n",
              "1           2016-06-30  17712.759766  ...  17929.990234  218.808594\n",
              "2           2016-06-29  17456.019531  ...  17694.679688  248.490235\n",
              "3           2016-06-28  17190.509766  ...  17409.720703  219.210937\n",
              "4           2016-06-27  17355.210938  ...  17140.240234  292.130860\n",
              "\n",
              "[5 rows x 8 columns]"
            ]
          },
          "metadata": {
            "tags": []
          },
          "execution_count": 171
        }
      ]
    },
    {
      "cell_type": "markdown",
      "metadata": {
        "_uuid": "1964b6b7fc90407b51aa73cb742abf02880f65cc",
        "id": "kmBGU6Ghm27y"
      },
      "source": [
        "### **Change Index Name** <a id=\"67\"></a>\n",
        "Change index name to new index name\n",
        "\n",
        "<mark>[Return Contents](#0)\n",
        "<hr>"
      ]
    },
    {
      "cell_type": "code",
      "metadata": {
        "_uuid": "ada0dc263126bde102f32891d5a574136ea0796d",
        "colab": {
          "base_uri": "https://localhost:8080/",
          "height": 252
        },
        "id": "328YH4aom27y",
        "outputId": "7df97174-713e-478a-ab5e-29ae84d84ef1"
      },
      "source": [
        "print(df.index.name)\n",
        "df.index.name = \"index_name\"\n",
        "df.head()"
      ],
      "execution_count": 172,
      "outputs": [
        {
          "output_type": "stream",
          "text": [
            "index_name\n"
          ],
          "name": "stdout"
        },
        {
          "output_type": "execute_result",
          "data": {
            "text/html": [
              "<div>\n",
              "<style scoped>\n",
              "    .dataframe tbody tr th:only-of-type {\n",
              "        vertical-align: middle;\n",
              "    }\n",
              "\n",
              "    .dataframe tbody tr th {\n",
              "        vertical-align: top;\n",
              "    }\n",
              "\n",
              "    .dataframe thead th {\n",
              "        text-align: right;\n",
              "    }\n",
              "</style>\n",
              "<table border=\"1\" class=\"dataframe\">\n",
              "  <thead>\n",
              "    <tr style=\"text-align: right;\">\n",
              "      <th></th>\n",
              "      <th>Date</th>\n",
              "      <th>Open</th>\n",
              "      <th>High</th>\n",
              "      <th>Low</th>\n",
              "      <th>Close</th>\n",
              "      <th>Volume</th>\n",
              "      <th>Adj Close</th>\n",
              "      <th>Difference</th>\n",
              "    </tr>\n",
              "    <tr>\n",
              "      <th>index_name</th>\n",
              "      <th></th>\n",
              "      <th></th>\n",
              "      <th></th>\n",
              "      <th></th>\n",
              "      <th></th>\n",
              "      <th></th>\n",
              "      <th></th>\n",
              "      <th></th>\n",
              "    </tr>\n",
              "  </thead>\n",
              "  <tbody>\n",
              "    <tr>\n",
              "      <th>0</th>\n",
              "      <td>2016-07-01</td>\n",
              "      <td>17924.240234</td>\n",
              "      <td>18002.380859</td>\n",
              "      <td>17916.910156</td>\n",
              "      <td>17949.369141</td>\n",
              "      <td>82160000</td>\n",
              "      <td>17949.369141</td>\n",
              "      <td>85.470703</td>\n",
              "    </tr>\n",
              "    <tr>\n",
              "      <th>1</th>\n",
              "      <td>2016-06-30</td>\n",
              "      <td>17712.759766</td>\n",
              "      <td>17930.609375</td>\n",
              "      <td>17711.800781</td>\n",
              "      <td>17929.990234</td>\n",
              "      <td>133030000</td>\n",
              "      <td>17929.990234</td>\n",
              "      <td>218.808594</td>\n",
              "    </tr>\n",
              "    <tr>\n",
              "      <th>2</th>\n",
              "      <td>2016-06-29</td>\n",
              "      <td>17456.019531</td>\n",
              "      <td>17704.509766</td>\n",
              "      <td>17456.019531</td>\n",
              "      <td>17694.679688</td>\n",
              "      <td>106380000</td>\n",
              "      <td>17694.679688</td>\n",
              "      <td>248.490235</td>\n",
              "    </tr>\n",
              "    <tr>\n",
              "      <th>3</th>\n",
              "      <td>2016-06-28</td>\n",
              "      <td>17190.509766</td>\n",
              "      <td>17409.720703</td>\n",
              "      <td>17190.509766</td>\n",
              "      <td>17409.720703</td>\n",
              "      <td>112190000</td>\n",
              "      <td>17409.720703</td>\n",
              "      <td>219.210937</td>\n",
              "    </tr>\n",
              "    <tr>\n",
              "      <th>4</th>\n",
              "      <td>2016-06-27</td>\n",
              "      <td>17355.210938</td>\n",
              "      <td>17355.210938</td>\n",
              "      <td>17063.080078</td>\n",
              "      <td>17140.240234</td>\n",
              "      <td>138740000</td>\n",
              "      <td>17140.240234</td>\n",
              "      <td>292.130860</td>\n",
              "    </tr>\n",
              "  </tbody>\n",
              "</table>\n",
              "</div>"
            ],
            "text/plain": [
              "                  Date          Open  ...     Adj Close  Difference\n",
              "index_name                            ...                          \n",
              "0           2016-07-01  17924.240234  ...  17949.369141   85.470703\n",
              "1           2016-06-30  17712.759766  ...  17929.990234  218.808594\n",
              "2           2016-06-29  17456.019531  ...  17694.679688  248.490235\n",
              "3           2016-06-28  17190.509766  ...  17409.720703  219.210937\n",
              "4           2016-06-27  17355.210938  ...  17140.240234  292.130860\n",
              "\n",
              "[5 rows x 8 columns]"
            ]
          },
          "metadata": {
            "tags": []
          },
          "execution_count": 172
        }
      ]
    },
    {
      "cell_type": "markdown",
      "metadata": {
        "_uuid": "15710f63a62ff12196912e9b41919b6157b90dff",
        "id": "0MN9bzNcm27y"
      },
      "source": [
        "### **Make all columns lowercase** <a id=\"68\"></a>\n",
        "<mark>[Return Contents](#0)\n",
        "<hr>"
      ]
    },
    {
      "cell_type": "code",
      "metadata": {
        "_uuid": "ae9b53e39babf6b99fae1ebc3746ccd41be813b3",
        "id": "kVzS-I2-m27y"
      },
      "source": [
        "#df.columns = map(str.lower(), df.columns)"
      ],
      "execution_count": 173,
      "outputs": []
    },
    {
      "cell_type": "markdown",
      "metadata": {
        "_uuid": "5e56335f86a4e3e463151a9e4470bdf71183b863",
        "id": "cBo5pWU7m27z"
      },
      "source": [
        "### **Make all columns uppercase** <a id=\"69\"></a>\n",
        "<mark>[Return Contents](#0)\n",
        "<hr>"
      ]
    },
    {
      "cell_type": "code",
      "metadata": {
        "_uuid": "7c1800e1b60aadffc1105b77dae3ae98f62b67fa",
        "id": "bbanvMhqm27z"
      },
      "source": [
        "#df.columns = map(str.upper(), df.columns)"
      ],
      "execution_count": 174,
      "outputs": []
    },
    {
      "cell_type": "markdown",
      "metadata": {
        "_uuid": "6b289272d9dff6967d82110f9e71b8cf0754cf1f",
        "id": "ij2Rq5Lmm27z"
      },
      "source": [
        "# **Drop Data** <a id=\"70\"></a>\n",
        "\n",
        "<mark>[Return Contents](#0)\n",
        "<hr>"
      ]
    },
    {
      "cell_type": "markdown",
      "metadata": {
        "_uuid": "e9ac8aff9d77672a72d8460ccc00612d13fff631",
        "id": "ZGxZ7Gjbm27z"
      },
      "source": [
        "### **df.drop(columns=['columnName'])** <a id=\"71\"></a>\n",
        "This code deletes the column we have specified. But as above, I have to reset the delete to the df variable again."
      ]
    },
    {
      "cell_type": "code",
      "metadata": {
        "_uuid": "41d2d8fff5ad5d5e1175ec4bc985169bf3872f23",
        "colab": {
          "base_uri": "https://localhost:8080/",
          "height": 235
        },
        "id": "3kzrNIH0m270",
        "outputId": "1163a66e-37dc-4264-b494-81f95e129aa2"
      },
      "source": [
        "df.drop(columns=['Adj Close']).head()\n",
        "# df = df.drop(columns=['Id']) -> True way\n",
        "# OR\n",
        "# df = df.drop('col', axis=1)\n",
        "# axis = 1 is meaning delete columns\n",
        "# axis = 0 is meaning delete rows"
      ],
      "execution_count": 175,
      "outputs": [
        {
          "output_type": "execute_result",
          "data": {
            "text/html": [
              "<div>\n",
              "<style scoped>\n",
              "    .dataframe tbody tr th:only-of-type {\n",
              "        vertical-align: middle;\n",
              "    }\n",
              "\n",
              "    .dataframe tbody tr th {\n",
              "        vertical-align: top;\n",
              "    }\n",
              "\n",
              "    .dataframe thead th {\n",
              "        text-align: right;\n",
              "    }\n",
              "</style>\n",
              "<table border=\"1\" class=\"dataframe\">\n",
              "  <thead>\n",
              "    <tr style=\"text-align: right;\">\n",
              "      <th></th>\n",
              "      <th>Date</th>\n",
              "      <th>Open</th>\n",
              "      <th>High</th>\n",
              "      <th>Low</th>\n",
              "      <th>Close</th>\n",
              "      <th>Volume</th>\n",
              "      <th>Difference</th>\n",
              "    </tr>\n",
              "    <tr>\n",
              "      <th>index_name</th>\n",
              "      <th></th>\n",
              "      <th></th>\n",
              "      <th></th>\n",
              "      <th></th>\n",
              "      <th></th>\n",
              "      <th></th>\n",
              "      <th></th>\n",
              "    </tr>\n",
              "  </thead>\n",
              "  <tbody>\n",
              "    <tr>\n",
              "      <th>0</th>\n",
              "      <td>2016-07-01</td>\n",
              "      <td>17924.240234</td>\n",
              "      <td>18002.380859</td>\n",
              "      <td>17916.910156</td>\n",
              "      <td>17949.369141</td>\n",
              "      <td>82160000</td>\n",
              "      <td>85.470703</td>\n",
              "    </tr>\n",
              "    <tr>\n",
              "      <th>1</th>\n",
              "      <td>2016-06-30</td>\n",
              "      <td>17712.759766</td>\n",
              "      <td>17930.609375</td>\n",
              "      <td>17711.800781</td>\n",
              "      <td>17929.990234</td>\n",
              "      <td>133030000</td>\n",
              "      <td>218.808594</td>\n",
              "    </tr>\n",
              "    <tr>\n",
              "      <th>2</th>\n",
              "      <td>2016-06-29</td>\n",
              "      <td>17456.019531</td>\n",
              "      <td>17704.509766</td>\n",
              "      <td>17456.019531</td>\n",
              "      <td>17694.679688</td>\n",
              "      <td>106380000</td>\n",
              "      <td>248.490235</td>\n",
              "    </tr>\n",
              "    <tr>\n",
              "      <th>3</th>\n",
              "      <td>2016-06-28</td>\n",
              "      <td>17190.509766</td>\n",
              "      <td>17409.720703</td>\n",
              "      <td>17190.509766</td>\n",
              "      <td>17409.720703</td>\n",
              "      <td>112190000</td>\n",
              "      <td>219.210937</td>\n",
              "    </tr>\n",
              "    <tr>\n",
              "      <th>4</th>\n",
              "      <td>2016-06-27</td>\n",
              "      <td>17355.210938</td>\n",
              "      <td>17355.210938</td>\n",
              "      <td>17063.080078</td>\n",
              "      <td>17140.240234</td>\n",
              "      <td>138740000</td>\n",
              "      <td>292.130860</td>\n",
              "    </tr>\n",
              "  </tbody>\n",
              "</table>\n",
              "</div>"
            ],
            "text/plain": [
              "                  Date          Open  ...     Volume  Difference\n",
              "index_name                            ...                       \n",
              "0           2016-07-01  17924.240234  ...   82160000   85.470703\n",
              "1           2016-06-30  17712.759766  ...  133030000  218.808594\n",
              "2           2016-06-29  17456.019531  ...  106380000  248.490235\n",
              "3           2016-06-28  17190.509766  ...  112190000  219.210937\n",
              "4           2016-06-27  17355.210938  ...  138740000  292.130860\n",
              "\n",
              "[5 rows x 7 columns]"
            ]
          },
          "metadata": {
            "tags": []
          },
          "execution_count": 175
        }
      ]
    },
    {
      "cell_type": "markdown",
      "metadata": {
        "_uuid": "f80fb6f28d3b1ca5c0e30ebbb40e3c56ba19581c",
        "id": "4pQlBoi3m270"
      },
      "source": [
        "### **mySeries.drop(['a'])** <a id=\"72\"></a>\n",
        "This code allows us to delete the value specified in the series.\n",
        "\n",
        "<mark>[Return Contents](#0)\n",
        "<hr>"
      ]
    },
    {
      "cell_type": "code",
      "metadata": {
        "_uuid": "77930a8a0369518c8c5bfcf4c8594adb14ca028c",
        "colab": {
          "base_uri": "https://localhost:8080/"
        },
        "id": "X7pKQm6bm270",
        "outputId": "905ba793-55e3-4b42-e757-714588b20008"
      },
      "source": [
        "mySeries.drop(['a'])"
      ],
      "execution_count": 176,
      "outputs": [
        {
          "output_type": "execute_result",
          "data": {
            "text/plain": [
              "b   -5\n",
              "c    7\n",
              "d    4\n",
              "dtype: int64"
            ]
          },
          "metadata": {
            "tags": []
          },
          "execution_count": 176
        }
      ]
    },
    {
      "cell_type": "markdown",
      "metadata": {
        "_uuid": "6a472c27b3703d89606949b355c5008ff8981908",
        "id": "21cuawQ3m271"
      },
      "source": [
        "### **Drop an observation (row)** <a id=\"82\"></a>\n",
        "\n",
        "<mark>[Return Contents](#0)\n",
        "<hr>"
      ]
    },
    {
      "cell_type": "code",
      "metadata": {
        "_uuid": "3fb937803e52af8a17314cfd0ccb24e0d87f7423",
        "id": "ouu8DnoYm271"
      },
      "source": [
        "#df.drop(['2016-07-01', '2016-06-27'])"
      ],
      "execution_count": 178,
      "outputs": []
    },
    {
      "cell_type": "markdown",
      "metadata": {
        "_uuid": "24773e44d98f5c9bcb97c7aa8b7109919f8c8d91",
        "id": "fK8UX-LBm271"
      },
      "source": [
        "### **Drop a variable (column)** <a id=\"83\"></a>\n",
        "\n",
        "<mark>[Return Contents](#0)\n",
        "<hr>\n",
        "Note: axis=1 denotes that we are referring to a column, not a row"
      ]
    },
    {
      "cell_type": "code",
      "metadata": {
        "_uuid": "3b341838cde86e0bf29cf10acd86c89fd5e3dae9",
        "id": "nR4kHEyFm271"
      },
      "source": [
        "# df.drop('Volume', axis=1)"
      ],
      "execution_count": 107,
      "outputs": []
    },
    {
      "cell_type": "markdown",
      "metadata": {
        "_uuid": "257734e1e5181e1a7983b246b96fd9d48e82c383",
        "id": "JSrBJbF9m272"
      },
      "source": [
        "# **Convert Data Types** <a id=\"73\"></a>\n",
        "\n",
        "<mark>[Return Contents](#0)\n",
        "<hr>\n",
        "\n",
        "### **df.dtypes** <a id=\"74\"></a>\n",
        "This code shows what data type of columns are. Boolean, int, float, object(String), date and categorical."
      ]
    },
    {
      "cell_type": "code",
      "metadata": {
        "_uuid": "d02e7c7f166080e52b16976bbf2e823bc341f6c9",
        "colab": {
          "base_uri": "https://localhost:8080/"
        },
        "id": "VfNlgN4lm272",
        "outputId": "b8769d8b-c872-4075-b5af-e8c8c62d76ee"
      },
      "source": [
        "df.dtypes"
      ],
      "execution_count": 179,
      "outputs": [
        {
          "output_type": "execute_result",
          "data": {
            "text/plain": [
              "Date           object\n",
              "Open          float64\n",
              "High          float64\n",
              "Low           float64\n",
              "Close         float64\n",
              "Volume          int64\n",
              "Adj Close     float64\n",
              "Difference    float64\n",
              "dtype: object"
            ]
          },
          "metadata": {
            "tags": []
          },
          "execution_count": 179
        }
      ]
    },
    {
      "cell_type": "markdown",
      "metadata": {
        "_uuid": "ca2aa5c9ab554e05194f2d615b951e7bd0dd53a5",
        "id": "95neUcNum272"
      },
      "source": [
        "### **df['columnName'] = df['columnName'].astype('dataType')** <a id=\"75\"></a>\n",
        "This code convert the column we specify into the data type we specify.\n",
        "\n",
        "<mark>[Return Contents](#0)\n",
        "<hr>"
      ]
    },
    {
      "cell_type": "code",
      "metadata": {
        "_uuid": "ab77df3bc11b833c288e65de5b14942623323141",
        "colab": {
          "base_uri": "https://localhost:8080/"
        },
        "id": "GKv5Tfp6m273",
        "outputId": "fc36d707-6ba1-4bd3-c582-908aa3876ecb"
      },
      "source": [
        "df.Date.astype('category').dtypes\n",
        "# OR Convert Datetime\n",
        "# df.Date= pd.to_datetime(df.Date)"
      ],
      "execution_count": 109,
      "outputs": [
        {
          "output_type": "execute_result",
          "data": {
            "text/plain": [
              "CategoricalDtype(categories=['2008-08-08', '2008-08-11', '2008-08-12', '2008-08-13',\n",
              "                  '2008-08-14', '2008-08-15', '2008-08-18', '2008-08-19',\n",
              "                  '2008-08-20', '2008-08-21',\n",
              "                  ...\n",
              "                  '2016-06-20', '2016-06-21', '2016-06-22', '2016-06-23',\n",
              "                  '2016-06-24', '2016-06-27', '2016-06-28', '2016-06-29',\n",
              "                  '2016-06-30', '2016-07-01'],\n",
              "                 ordered=False)"
            ]
          },
          "metadata": {
            "tags": []
          },
          "execution_count": 109
        }
      ]
    },
    {
      "cell_type": "markdown",
      "metadata": {
        "_uuid": "5f6a908930f020091d29630525dea48a6b5047ee",
        "id": "orCVxyQRm273"
      },
      "source": [
        "### **pd.melt(frame=dataFrameName,id_vars = 'columnName', value_vars= ['columnName'])** <a id=\"76\"></a>\n",
        "This code is confusing, so lets look at the example.\n",
        "\n",
        "<mark>[Return Contents](#0)\n",
        "<hr>"
      ]
    },
    {
      "cell_type": "code",
      "metadata": {
        "_uuid": "2a461f5a7096f6c3047c37f77a21a302a4724be3",
        "colab": {
          "base_uri": "https://localhost:8080/",
          "height": 204
        },
        "id": "u4Thcarem273",
        "outputId": "02811507-1ef3-4d28-92da-7f31033103bb"
      },
      "source": [
        "df_new = df.head()\n",
        "melted = pd.melt(frame=df_new,id_vars = 'Date', value_vars= ['Low'])\n",
        "melted"
      ],
      "execution_count": 180,
      "outputs": [
        {
          "output_type": "execute_result",
          "data": {
            "text/html": [
              "<div>\n",
              "<style scoped>\n",
              "    .dataframe tbody tr th:only-of-type {\n",
              "        vertical-align: middle;\n",
              "    }\n",
              "\n",
              "    .dataframe tbody tr th {\n",
              "        vertical-align: top;\n",
              "    }\n",
              "\n",
              "    .dataframe thead th {\n",
              "        text-align: right;\n",
              "    }\n",
              "</style>\n",
              "<table border=\"1\" class=\"dataframe\">\n",
              "  <thead>\n",
              "    <tr style=\"text-align: right;\">\n",
              "      <th></th>\n",
              "      <th>Date</th>\n",
              "      <th>variable</th>\n",
              "      <th>value</th>\n",
              "    </tr>\n",
              "  </thead>\n",
              "  <tbody>\n",
              "    <tr>\n",
              "      <th>0</th>\n",
              "      <td>2016-07-01</td>\n",
              "      <td>Low</td>\n",
              "      <td>17916.910156</td>\n",
              "    </tr>\n",
              "    <tr>\n",
              "      <th>1</th>\n",
              "      <td>2016-06-30</td>\n",
              "      <td>Low</td>\n",
              "      <td>17711.800781</td>\n",
              "    </tr>\n",
              "    <tr>\n",
              "      <th>2</th>\n",
              "      <td>2016-06-29</td>\n",
              "      <td>Low</td>\n",
              "      <td>17456.019531</td>\n",
              "    </tr>\n",
              "    <tr>\n",
              "      <th>3</th>\n",
              "      <td>2016-06-28</td>\n",
              "      <td>Low</td>\n",
              "      <td>17190.509766</td>\n",
              "    </tr>\n",
              "    <tr>\n",
              "      <th>4</th>\n",
              "      <td>2016-06-27</td>\n",
              "      <td>Low</td>\n",
              "      <td>17063.080078</td>\n",
              "    </tr>\n",
              "  </tbody>\n",
              "</table>\n",
              "</div>"
            ],
            "text/plain": [
              "         Date variable         value\n",
              "0  2016-07-01      Low  17916.910156\n",
              "1  2016-06-30      Low  17711.800781\n",
              "2  2016-06-29      Low  17456.019531\n",
              "3  2016-06-28      Low  17190.509766\n",
              "4  2016-06-27      Low  17063.080078"
            ]
          },
          "metadata": {
            "tags": []
          },
          "execution_count": 180
        }
      ]
    },
    {
      "cell_type": "markdown",
      "metadata": {
        "_uuid": "019d675c8328676e2a53c936359a83530f2fccf8",
        "id": "yCsWEeWbm274"
      },
      "source": [
        "# **Apply Function** <a id=\"77\"></a>\n",
        "\n",
        "<mark>[Return Contents](#0)\n",
        "<hr>\n",
        "\n",
        "### **Method 1** <a id=\"78\"></a>"
      ]
    },
    {
      "cell_type": "code",
      "metadata": {
        "_uuid": "f3d0a47f7f60f42ab74031960962dca9f5c51a90",
        "colab": {
          "base_uri": "https://localhost:8080/"
        },
        "id": "XCzM4wBCm274",
        "outputId": "b0093e50-0b5e-4a9e-9e9f-57eadb847352"
      },
      "source": [
        "def examples(x):   #create a function\n",
        "    return x*2\n",
        "\n",
        "df.Open.apply(examples).head()  #use the function with apply() "
      ],
      "execution_count": 181,
      "outputs": [
        {
          "output_type": "execute_result",
          "data": {
            "text/plain": [
              "index_name\n",
              "0    35848.480468\n",
              "1    35425.519532\n",
              "2    34912.039062\n",
              "3    34381.019532\n",
              "4    34710.421876\n",
              "Name: Open, dtype: float64"
            ]
          },
          "metadata": {
            "tags": []
          },
          "execution_count": 181
        }
      ]
    },
    {
      "cell_type": "markdown",
      "metadata": {
        "_uuid": "45734ddf89edf8ad9075a2222c78448b0e455214",
        "id": "PnjgQ9bhm274"
      },
      "source": [
        "### **Method 2** <a id=\"79\"></a>"
      ]
    },
    {
      "cell_type": "code",
      "metadata": {
        "_uuid": "6447848a7f2fd2c7a0100317e1c4869260f4c11e",
        "colab": {
          "base_uri": "https://localhost:8080/"
        },
        "id": "5VutnIAvm274",
        "outputId": "d88aeff2-b50a-4767-fba1-562d44711d15"
      },
      "source": [
        "df.Open.apply(lambda x: x*2).head()"
      ],
      "execution_count": 182,
      "outputs": [
        {
          "output_type": "execute_result",
          "data": {
            "text/plain": [
              "index_name\n",
              "0    35848.480468\n",
              "1    35425.519532\n",
              "2    34912.039062\n",
              "3    34381.019532\n",
              "4    34710.421876\n",
              "Name: Open, dtype: float64"
            ]
          },
          "metadata": {
            "tags": []
          },
          "execution_count": 182
        }
      ]
    },
    {
      "cell_type": "markdown",
      "metadata": {
        "_uuid": "e80845b38f09a29a6b486e8c692c32b4e32b8267",
        "id": "QQ6LILptm275"
      },
      "source": [
        "# **Utilities Code** <a id=\"80\"></a>\n",
        "\n",
        "<mark>[Return Contents](#0)\n",
        "<hr>"
      ]
    },
    {
      "cell_type": "code",
      "metadata": {
        "_uuid": "5319d80d0d27b4aa0065de122ec43d1715fc9264",
        "id": "jVm-SrnQm275"
      },
      "source": [
        "# pd.get_option OR pd.set_option\n",
        "# pd.reset_option(\"^display\")\n",
        "\n",
        "# pd.reset_option(\"display.max_rows\")\n",
        "# pd.get_option(\"display.max_rows\")\n",
        "# pd.set_option(\"max_r\",102)                 -> specifies the maximum number of rows to display.\n",
        "# pd.options.display.max_rows = 999          -> specifies the maximum number of rows to display.\n",
        "\n",
        "# pd.get_option(\"display.max_columns\")\n",
        "# pd.options.display.max_columns = 999       -> specifies the maximum number of columns to display.\n",
        "\n",
        "# pd.set_option('display.width', 300)\n",
        "\n",
        "# pd.set_option('display.max_columns', 300)  -> specifies the maximum number of rows to display.\n",
        "# pd.set_option('display.max_colwidth', 500) -> specifies the maximum number of columns to display. \n",
        "\n",
        "# pd.get_option('max_colwidth')\n",
        "# pd.set_option('max_colwidth',40)\n",
        "# pd.reset_option('max_colwidth')\n",
        "\n",
        "# pd.get_option('max_info_columns')\n",
        "# pd.set_option('max_info_columns', 11)\n",
        "# pd.reset_option('max_info_columns')\n",
        "\n",
        "# pd.get_option('max_info_rows')\n",
        "# pd.set_option('max_info_rows', 11)\n",
        "# pd.reset_option('max_info_rows')\n",
        "\n",
        "# pd.set_option('precision',7) -> sets the output display precision in terms of decimal places. This is only a suggestion.\n",
        "# OR\n",
        "# pd.set_option('display.precision',3)\n",
        "\n",
        "# pd.set_option('chop_threshold', 0) -> sets at what level pandas rounds to zero when it displays a Series of DataFrame. This setting does not change the precision at which the number is stored.\n",
        "# pd.reset_option('chop_threshold') "
      ],
      "execution_count": 183,
      "outputs": []
    }
  ]
}